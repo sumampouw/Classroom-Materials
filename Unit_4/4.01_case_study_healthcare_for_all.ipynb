{
 "cells": [
  {
   "cell_type": "markdown",
   "metadata": {},
   "source": [
    "## Healthcare for All"
   ]
  },
  {
   "cell_type": "markdown",
   "metadata": {},
   "source": [
    "Your task as a data analyst is to help improving the process by developing machine learning models to predict the gift amount based on X features. Follow the data analysis workflow to build the model."
   ]
  },
  {
   "cell_type": "code",
   "execution_count": 1,
   "metadata": {},
   "outputs": [],
   "source": [
    "import pandas as pd\n",
    "import numpy as np\n",
    "import datetime\n",
    "import warnings\n",
    "import matplotlib.pyplot as plt\n",
    "import seaborn as sns\n",
    "\n",
    "pd.set_option('display.max_columns', None)\n",
    "warnings.filterwarnings('ignore')"
   ]
  },
  {
   "cell_type": "code",
   "execution_count": 2,
   "metadata": {
    "scrolled": true
   },
   "outputs": [
    {
     "data": {
      "text/html": [
       "<div>\n",
       "<style scoped>\n",
       "    .dataframe tbody tr th:only-of-type {\n",
       "        vertical-align: middle;\n",
       "    }\n",
       "\n",
       "    .dataframe tbody tr th {\n",
       "        vertical-align: top;\n",
       "    }\n",
       "\n",
       "    .dataframe thead th {\n",
       "        text-align: right;\n",
       "    }\n",
       "</style>\n",
       "<table border=\"1\" class=\"dataframe\">\n",
       "  <thead>\n",
       "    <tr style=\"text-align: right;\">\n",
       "      <th></th>\n",
       "      <th>STATE</th>\n",
       "      <th>PVASTATE</th>\n",
       "      <th>DOB</th>\n",
       "      <th>MDMAUD</th>\n",
       "      <th>RECP3</th>\n",
       "      <th>GENDER</th>\n",
       "      <th>DOMAIN</th>\n",
       "      <th>INCOME</th>\n",
       "      <th>HOMEOWNR</th>\n",
       "      <th>HV1</th>\n",
       "      <th>HV2</th>\n",
       "      <th>HV3</th>\n",
       "      <th>HV4</th>\n",
       "      <th>IC1</th>\n",
       "      <th>IC2</th>\n",
       "      <th>IC3</th>\n",
       "      <th>IC4</th>\n",
       "      <th>IC5</th>\n",
       "      <th>VETERANS</th>\n",
       "      <th>NUMPROM</th>\n",
       "      <th>CARDPROM</th>\n",
       "      <th>CARDPM12</th>\n",
       "      <th>NUMPRM12</th>\n",
       "      <th>MAXADATE</th>\n",
       "      <th>RFA_2</th>\n",
       "      <th>NGIFTALL</th>\n",
       "      <th>TIMELAG</th>\n",
       "      <th>AVGGIFT</th>\n",
       "    </tr>\n",
       "  </thead>\n",
       "  <tbody>\n",
       "    <tr>\n",
       "      <th>0</th>\n",
       "      <td>IL</td>\n",
       "      <td></td>\n",
       "      <td>3712</td>\n",
       "      <td>XXXX</td>\n",
       "      <td></td>\n",
       "      <td>F</td>\n",
       "      <td>T2</td>\n",
       "      <td>NaN</td>\n",
       "      <td></td>\n",
       "      <td>479</td>\n",
       "      <td>635</td>\n",
       "      <td>3</td>\n",
       "      <td>2</td>\n",
       "      <td>307</td>\n",
       "      <td>318</td>\n",
       "      <td>349</td>\n",
       "      <td>378</td>\n",
       "      <td>12883</td>\n",
       "      <td></td>\n",
       "      <td>74</td>\n",
       "      <td>27</td>\n",
       "      <td>6</td>\n",
       "      <td>14</td>\n",
       "      <td>9702</td>\n",
       "      <td>L4E</td>\n",
       "      <td>31</td>\n",
       "      <td>4.0</td>\n",
       "      <td>7.741935</td>\n",
       "    </tr>\n",
       "    <tr>\n",
       "      <th>1</th>\n",
       "      <td>CA</td>\n",
       "      <td></td>\n",
       "      <td>5202</td>\n",
       "      <td>XXXX</td>\n",
       "      <td></td>\n",
       "      <td>M</td>\n",
       "      <td>S1</td>\n",
       "      <td>6.0</td>\n",
       "      <td>H</td>\n",
       "      <td>5468</td>\n",
       "      <td>5218</td>\n",
       "      <td>12</td>\n",
       "      <td>10</td>\n",
       "      <td>1088</td>\n",
       "      <td>1096</td>\n",
       "      <td>1026</td>\n",
       "      <td>1037</td>\n",
       "      <td>36175</td>\n",
       "      <td></td>\n",
       "      <td>32</td>\n",
       "      <td>12</td>\n",
       "      <td>6</td>\n",
       "      <td>13</td>\n",
       "      <td>9702</td>\n",
       "      <td>L2G</td>\n",
       "      <td>3</td>\n",
       "      <td>18.0</td>\n",
       "      <td>15.666667</td>\n",
       "    </tr>\n",
       "    <tr>\n",
       "      <th>2</th>\n",
       "      <td>NC</td>\n",
       "      <td></td>\n",
       "      <td>0</td>\n",
       "      <td>XXXX</td>\n",
       "      <td></td>\n",
       "      <td>M</td>\n",
       "      <td>R2</td>\n",
       "      <td>3.0</td>\n",
       "      <td>U</td>\n",
       "      <td>497</td>\n",
       "      <td>546</td>\n",
       "      <td>2</td>\n",
       "      <td>1</td>\n",
       "      <td>251</td>\n",
       "      <td>292</td>\n",
       "      <td>292</td>\n",
       "      <td>340</td>\n",
       "      <td>11576</td>\n",
       "      <td></td>\n",
       "      <td>63</td>\n",
       "      <td>26</td>\n",
       "      <td>6</td>\n",
       "      <td>14</td>\n",
       "      <td>9702</td>\n",
       "      <td>L4E</td>\n",
       "      <td>27</td>\n",
       "      <td>12.0</td>\n",
       "      <td>7.481481</td>\n",
       "    </tr>\n",
       "    <tr>\n",
       "      <th>3</th>\n",
       "      <td>CA</td>\n",
       "      <td></td>\n",
       "      <td>2801</td>\n",
       "      <td>XXXX</td>\n",
       "      <td></td>\n",
       "      <td>F</td>\n",
       "      <td>R2</td>\n",
       "      <td>1.0</td>\n",
       "      <td>U</td>\n",
       "      <td>1000</td>\n",
       "      <td>1263</td>\n",
       "      <td>2</td>\n",
       "      <td>1</td>\n",
       "      <td>386</td>\n",
       "      <td>388</td>\n",
       "      <td>396</td>\n",
       "      <td>423</td>\n",
       "      <td>15130</td>\n",
       "      <td></td>\n",
       "      <td>66</td>\n",
       "      <td>27</td>\n",
       "      <td>6</td>\n",
       "      <td>14</td>\n",
       "      <td>9702</td>\n",
       "      <td>L4E</td>\n",
       "      <td>16</td>\n",
       "      <td>9.0</td>\n",
       "      <td>6.812500</td>\n",
       "    </tr>\n",
       "    <tr>\n",
       "      <th>4</th>\n",
       "      <td>FL</td>\n",
       "      <td></td>\n",
       "      <td>2001</td>\n",
       "      <td>XXXX</td>\n",
       "      <td>X</td>\n",
       "      <td>F</td>\n",
       "      <td>S2</td>\n",
       "      <td>3.0</td>\n",
       "      <td>H</td>\n",
       "      <td>576</td>\n",
       "      <td>594</td>\n",
       "      <td>4</td>\n",
       "      <td>3</td>\n",
       "      <td>240</td>\n",
       "      <td>250</td>\n",
       "      <td>293</td>\n",
       "      <td>321</td>\n",
       "      <td>9836</td>\n",
       "      <td></td>\n",
       "      <td>113</td>\n",
       "      <td>43</td>\n",
       "      <td>10</td>\n",
       "      <td>25</td>\n",
       "      <td>9702</td>\n",
       "      <td>L2F</td>\n",
       "      <td>37</td>\n",
       "      <td>14.0</td>\n",
       "      <td>6.864865</td>\n",
       "    </tr>\n",
       "    <tr>\n",
       "      <th>...</th>\n",
       "      <td>...</td>\n",
       "      <td>...</td>\n",
       "      <td>...</td>\n",
       "      <td>...</td>\n",
       "      <td>...</td>\n",
       "      <td>...</td>\n",
       "      <td>...</td>\n",
       "      <td>...</td>\n",
       "      <td>...</td>\n",
       "      <td>...</td>\n",
       "      <td>...</td>\n",
       "      <td>...</td>\n",
       "      <td>...</td>\n",
       "      <td>...</td>\n",
       "      <td>...</td>\n",
       "      <td>...</td>\n",
       "      <td>...</td>\n",
       "      <td>...</td>\n",
       "      <td>...</td>\n",
       "      <td>...</td>\n",
       "      <td>...</td>\n",
       "      <td>...</td>\n",
       "      <td>...</td>\n",
       "      <td>...</td>\n",
       "      <td>...</td>\n",
       "      <td>...</td>\n",
       "      <td>...</td>\n",
       "      <td>...</td>\n",
       "    </tr>\n",
       "    <tr>\n",
       "      <th>90564</th>\n",
       "      <td>FL</td>\n",
       "      <td></td>\n",
       "      <td>4803</td>\n",
       "      <td>XXXX</td>\n",
       "      <td></td>\n",
       "      <td>F</td>\n",
       "      <td>S2</td>\n",
       "      <td>6.0</td>\n",
       "      <td>H</td>\n",
       "      <td>733</td>\n",
       "      <td>875</td>\n",
       "      <td>4</td>\n",
       "      <td>3</td>\n",
       "      <td>285</td>\n",
       "      <td>288</td>\n",
       "      <td>333</td>\n",
       "      <td>334</td>\n",
       "      <td>11390</td>\n",
       "      <td></td>\n",
       "      <td>59</td>\n",
       "      <td>23</td>\n",
       "      <td>5</td>\n",
       "      <td>12</td>\n",
       "      <td>9702</td>\n",
       "      <td>L4D</td>\n",
       "      <td>24</td>\n",
       "      <td>3.0</td>\n",
       "      <td>3.375000</td>\n",
       "    </tr>\n",
       "    <tr>\n",
       "      <th>90565</th>\n",
       "      <td>AK</td>\n",
       "      <td></td>\n",
       "      <td>0</td>\n",
       "      <td>XXXX</td>\n",
       "      <td></td>\n",
       "      <td>M</td>\n",
       "      <td>C2</td>\n",
       "      <td>NaN</td>\n",
       "      <td></td>\n",
       "      <td>988</td>\n",
       "      <td>1025</td>\n",
       "      <td>6</td>\n",
       "      <td>6</td>\n",
       "      <td>433</td>\n",
       "      <td>481</td>\n",
       "      <td>499</td>\n",
       "      <td>535</td>\n",
       "      <td>18807</td>\n",
       "      <td></td>\n",
       "      <td>14</td>\n",
       "      <td>6</td>\n",
       "      <td>5</td>\n",
       "      <td>12</td>\n",
       "      <td>9702</td>\n",
       "      <td>L1G</td>\n",
       "      <td>1</td>\n",
       "      <td>NaN</td>\n",
       "      <td>25.000000</td>\n",
       "    </tr>\n",
       "    <tr>\n",
       "      <th>90566</th>\n",
       "      <td>TX</td>\n",
       "      <td></td>\n",
       "      <td>5001</td>\n",
       "      <td>XXXX</td>\n",
       "      <td></td>\n",
       "      <td>M</td>\n",
       "      <td>C1</td>\n",
       "      <td>7.0</td>\n",
       "      <td>H</td>\n",
       "      <td>1679</td>\n",
       "      <td>1723</td>\n",
       "      <td>3</td>\n",
       "      <td>3</td>\n",
       "      <td>806</td>\n",
       "      <td>836</td>\n",
       "      <td>802</td>\n",
       "      <td>849</td>\n",
       "      <td>26538</td>\n",
       "      <td></td>\n",
       "      <td>10</td>\n",
       "      <td>4</td>\n",
       "      <td>3</td>\n",
       "      <td>8</td>\n",
       "      <td>9702</td>\n",
       "      <td>L1F</td>\n",
       "      <td>1</td>\n",
       "      <td>NaN</td>\n",
       "      <td>20.000000</td>\n",
       "    </tr>\n",
       "    <tr>\n",
       "      <th>90567</th>\n",
       "      <td>MI</td>\n",
       "      <td></td>\n",
       "      <td>3801</td>\n",
       "      <td>XXXX</td>\n",
       "      <td>X</td>\n",
       "      <td>M</td>\n",
       "      <td>C3</td>\n",
       "      <td>NaN</td>\n",
       "      <td></td>\n",
       "      <td>376</td>\n",
       "      <td>377</td>\n",
       "      <td>4</td>\n",
       "      <td>3</td>\n",
       "      <td>263</td>\n",
       "      <td>264</td>\n",
       "      <td>319</td>\n",
       "      <td>345</td>\n",
       "      <td>12178</td>\n",
       "      <td></td>\n",
       "      <td>33</td>\n",
       "      <td>14</td>\n",
       "      <td>7</td>\n",
       "      <td>17</td>\n",
       "      <td>9702</td>\n",
       "      <td>L3E</td>\n",
       "      <td>7</td>\n",
       "      <td>3.0</td>\n",
       "      <td>8.285714</td>\n",
       "    </tr>\n",
       "    <tr>\n",
       "      <th>90568</th>\n",
       "      <td>NC</td>\n",
       "      <td></td>\n",
       "      <td>1801</td>\n",
       "      <td>C1CM</td>\n",
       "      <td></td>\n",
       "      <td>F</td>\n",
       "      <td>C1</td>\n",
       "      <td>5.0</td>\n",
       "      <td>U</td>\n",
       "      <td>938</td>\n",
       "      <td>1049</td>\n",
       "      <td>5</td>\n",
       "      <td>5</td>\n",
       "      <td>451</td>\n",
       "      <td>474</td>\n",
       "      <td>499</td>\n",
       "      <td>519</td>\n",
       "      <td>16699</td>\n",
       "      <td></td>\n",
       "      <td>139</td>\n",
       "      <td>32</td>\n",
       "      <td>6</td>\n",
       "      <td>35</td>\n",
       "      <td>9702</td>\n",
       "      <td>L1G</td>\n",
       "      <td>39</td>\n",
       "      <td>6.0</td>\n",
       "      <td>96.794872</td>\n",
       "    </tr>\n",
       "  </tbody>\n",
       "</table>\n",
       "<p>90569 rows × 28 columns</p>\n",
       "</div>"
      ],
      "text/plain": [
       "      STATE PVASTATE   DOB MDMAUD RECP3 GENDER DOMAIN  INCOME HOMEOWNR   HV1  \\\n",
       "0        IL           3712   XXXX            F     T2     NaN            479   \n",
       "1        CA           5202   XXXX            M     S1     6.0        H  5468   \n",
       "2        NC              0   XXXX            M     R2     3.0        U   497   \n",
       "3        CA           2801   XXXX            F     R2     1.0        U  1000   \n",
       "4        FL           2001   XXXX     X      F     S2     3.0        H   576   \n",
       "...     ...      ...   ...    ...   ...    ...    ...     ...      ...   ...   \n",
       "90564    FL           4803   XXXX            F     S2     6.0        H   733   \n",
       "90565    AK              0   XXXX            M     C2     NaN            988   \n",
       "90566    TX           5001   XXXX            M     C1     7.0        H  1679   \n",
       "90567    MI           3801   XXXX     X      M     C3     NaN            376   \n",
       "90568    NC           1801   C1CM            F     C1     5.0        U   938   \n",
       "\n",
       "        HV2  HV3  HV4   IC1   IC2   IC3   IC4    IC5 VETERANS  NUMPROM  \\\n",
       "0       635    3    2   307   318   349   378  12883                74   \n",
       "1      5218   12   10  1088  1096  1026  1037  36175                32   \n",
       "2       546    2    1   251   292   292   340  11576                63   \n",
       "3      1263    2    1   386   388   396   423  15130                66   \n",
       "4       594    4    3   240   250   293   321   9836               113   \n",
       "...     ...  ...  ...   ...   ...   ...   ...    ...      ...      ...   \n",
       "90564   875    4    3   285   288   333   334  11390                59   \n",
       "90565  1025    6    6   433   481   499   535  18807                14   \n",
       "90566  1723    3    3   806   836   802   849  26538                10   \n",
       "90567   377    4    3   263   264   319   345  12178                33   \n",
       "90568  1049    5    5   451   474   499   519  16699               139   \n",
       "\n",
       "       CARDPROM  CARDPM12  NUMPRM12  MAXADATE RFA_2  NGIFTALL  TIMELAG  \\\n",
       "0            27         6        14      9702   L4E        31      4.0   \n",
       "1            12         6        13      9702   L2G         3     18.0   \n",
       "2            26         6        14      9702   L4E        27     12.0   \n",
       "3            27         6        14      9702   L4E        16      9.0   \n",
       "4            43        10        25      9702   L2F        37     14.0   \n",
       "...         ...       ...       ...       ...   ...       ...      ...   \n",
       "90564        23         5        12      9702   L4D        24      3.0   \n",
       "90565         6         5        12      9702   L1G         1      NaN   \n",
       "90566         4         3         8      9702   L1F         1      NaN   \n",
       "90567        14         7        17      9702   L3E         7      3.0   \n",
       "90568        32         6        35      9702   L1G        39      6.0   \n",
       "\n",
       "         AVGGIFT  \n",
       "0       7.741935  \n",
       "1      15.666667  \n",
       "2       7.481481  \n",
       "3       6.812500  \n",
       "4       6.864865  \n",
       "...          ...  \n",
       "90564   3.375000  \n",
       "90565  25.000000  \n",
       "90566  20.000000  \n",
       "90567   8.285714  \n",
       "90568  96.794872  \n",
       "\n",
       "[90569 rows x 28 columns]"
      ]
     },
     "execution_count": 2,
     "metadata": {},
     "output_type": "execute_result"
    }
   ],
   "source": [
    "data = pd.read_csv('4.01_healthcare.csv') # this file is in files_for_lesson_and_activities folder\n",
    "data#.head()"
   ]
  },
  {
   "cell_type": "code",
   "execution_count": 3,
   "metadata": {},
   "outputs": [
    {
     "data": {
      "text/plain": [
       "(90569, 28)"
      ]
     },
     "execution_count": 3,
     "metadata": {},
     "output_type": "execute_result"
    }
   ],
   "source": [
    "data.shape"
   ]
  },
  {
   "cell_type": "code",
   "execution_count": 4,
   "metadata": {},
   "outputs": [
    {
     "data": {
      "text/html": [
       "<div>\n",
       "<style scoped>\n",
       "    .dataframe tbody tr th:only-of-type {\n",
       "        vertical-align: middle;\n",
       "    }\n",
       "\n",
       "    .dataframe tbody tr th {\n",
       "        vertical-align: top;\n",
       "    }\n",
       "\n",
       "    .dataframe thead th {\n",
       "        text-align: right;\n",
       "    }\n",
       "</style>\n",
       "<table border=\"1\" class=\"dataframe\">\n",
       "  <thead>\n",
       "    <tr style=\"text-align: right;\">\n",
       "      <th></th>\n",
       "      <th>DOB</th>\n",
       "      <th>INCOME</th>\n",
       "      <th>HV1</th>\n",
       "      <th>HV2</th>\n",
       "      <th>HV3</th>\n",
       "      <th>HV4</th>\n",
       "      <th>IC1</th>\n",
       "      <th>IC2</th>\n",
       "      <th>IC3</th>\n",
       "      <th>IC4</th>\n",
       "      <th>IC5</th>\n",
       "      <th>NUMPROM</th>\n",
       "      <th>CARDPROM</th>\n",
       "      <th>CARDPM12</th>\n",
       "      <th>NUMPRM12</th>\n",
       "      <th>MAXADATE</th>\n",
       "      <th>NGIFTALL</th>\n",
       "      <th>TIMELAG</th>\n",
       "      <th>AVGGIFT</th>\n",
       "    </tr>\n",
       "  </thead>\n",
       "  <tbody>\n",
       "    <tr>\n",
       "      <th>count</th>\n",
       "      <td>90569.000000</td>\n",
       "      <td>70386.000000</td>\n",
       "      <td>90569.000000</td>\n",
       "      <td>90569.00000</td>\n",
       "      <td>90569.000000</td>\n",
       "      <td>90569.000000</td>\n",
       "      <td>90569.000000</td>\n",
       "      <td>90569.000000</td>\n",
       "      <td>90569.000000</td>\n",
       "      <td>90569.000000</td>\n",
       "      <td>90569.000000</td>\n",
       "      <td>90569.000000</td>\n",
       "      <td>90569.000000</td>\n",
       "      <td>90569.000000</td>\n",
       "      <td>90569.000000</td>\n",
       "      <td>90569.000000</td>\n",
       "      <td>90569.000000</td>\n",
       "      <td>80916.000000</td>\n",
       "      <td>90569.000000</td>\n",
       "    </tr>\n",
       "    <tr>\n",
       "      <th>mean</th>\n",
       "      <td>2724.442789</td>\n",
       "      <td>3.878257</td>\n",
       "      <td>1056.391304</td>\n",
       "      <td>1127.42116</td>\n",
       "      <td>4.213473</td>\n",
       "      <td>3.865462</td>\n",
       "      <td>339.373240</td>\n",
       "      <td>386.231083</td>\n",
       "      <td>386.694068</td>\n",
       "      <td>429.977917</td>\n",
       "      <td>15682.038600</td>\n",
       "      <td>46.797204</td>\n",
       "      <td>18.370701</td>\n",
       "      <td>5.343407</td>\n",
       "      <td>12.837351</td>\n",
       "      <td>9701.640606</td>\n",
       "      <td>9.501353</td>\n",
       "      <td>8.114378</td>\n",
       "      <td>13.428585</td>\n",
       "    </tr>\n",
       "    <tr>\n",
       "      <th>std</th>\n",
       "      <td>2136.453823</td>\n",
       "      <td>1.855265</td>\n",
       "      <td>936.383991</td>\n",
       "      <td>942.16266</td>\n",
       "      <td>2.302380</td>\n",
       "      <td>2.239738</td>\n",
       "      <td>162.390371</td>\n",
       "      <td>173.082626</td>\n",
       "      <td>160.945113</td>\n",
       "      <td>171.332133</td>\n",
       "      <td>8508.870754</td>\n",
       "      <td>22.944967</td>\n",
       "      <td>8.582096</td>\n",
       "      <td>1.207126</td>\n",
       "      <td>4.499933</td>\n",
       "      <td>5.679884</td>\n",
       "      <td>8.495065</td>\n",
       "      <td>8.310877</td>\n",
       "      <td>10.796349</td>\n",
       "    </tr>\n",
       "    <tr>\n",
       "      <th>min</th>\n",
       "      <td>0.000000</td>\n",
       "      <td>1.000000</td>\n",
       "      <td>0.000000</td>\n",
       "      <td>0.00000</td>\n",
       "      <td>0.000000</td>\n",
       "      <td>0.000000</td>\n",
       "      <td>0.000000</td>\n",
       "      <td>0.000000</td>\n",
       "      <td>0.000000</td>\n",
       "      <td>0.000000</td>\n",
       "      <td>0.000000</td>\n",
       "      <td>4.000000</td>\n",
       "      <td>1.000000</td>\n",
       "      <td>0.000000</td>\n",
       "      <td>1.000000</td>\n",
       "      <td>9611.000000</td>\n",
       "      <td>1.000000</td>\n",
       "      <td>0.000000</td>\n",
       "      <td>1.285714</td>\n",
       "    </tr>\n",
       "    <tr>\n",
       "      <th>25%</th>\n",
       "      <td>112.000000</td>\n",
       "      <td>2.000000</td>\n",
       "      <td>511.000000</td>\n",
       "      <td>553.00000</td>\n",
       "      <td>3.000000</td>\n",
       "      <td>2.000000</td>\n",
       "      <td>230.000000</td>\n",
       "      <td>273.000000</td>\n",
       "      <td>277.000000</td>\n",
       "      <td>314.000000</td>\n",
       "      <td>10770.000000</td>\n",
       "      <td>27.000000</td>\n",
       "      <td>11.000000</td>\n",
       "      <td>5.000000</td>\n",
       "      <td>11.000000</td>\n",
       "      <td>9702.000000</td>\n",
       "      <td>3.000000</td>\n",
       "      <td>4.000000</td>\n",
       "      <td>8.454545</td>\n",
       "    </tr>\n",
       "    <tr>\n",
       "      <th>50%</th>\n",
       "      <td>2610.000000</td>\n",
       "      <td>4.000000</td>\n",
       "      <td>735.000000</td>\n",
       "      <td>800.00000</td>\n",
       "      <td>4.000000</td>\n",
       "      <td>3.000000</td>\n",
       "      <td>309.000000</td>\n",
       "      <td>355.000000</td>\n",
       "      <td>353.000000</td>\n",
       "      <td>396.000000</td>\n",
       "      <td>13692.000000</td>\n",
       "      <td>46.000000</td>\n",
       "      <td>18.000000</td>\n",
       "      <td>6.000000</td>\n",
       "      <td>12.000000</td>\n",
       "      <td>9702.000000</td>\n",
       "      <td>7.000000</td>\n",
       "      <td>6.000000</td>\n",
       "      <td>11.666667</td>\n",
       "    </tr>\n",
       "    <tr>\n",
       "      <th>75%</th>\n",
       "      <td>4601.000000</td>\n",
       "      <td>5.000000</td>\n",
       "      <td>1206.000000</td>\n",
       "      <td>1320.00000</td>\n",
       "      <td>5.000000</td>\n",
       "      <td>5.000000</td>\n",
       "      <td>414.000000</td>\n",
       "      <td>464.000000</td>\n",
       "      <td>465.000000</td>\n",
       "      <td>513.000000</td>\n",
       "      <td>18128.000000</td>\n",
       "      <td>64.000000</td>\n",
       "      <td>25.000000</td>\n",
       "      <td>6.000000</td>\n",
       "      <td>13.000000</td>\n",
       "      <td>9702.000000</td>\n",
       "      <td>13.000000</td>\n",
       "      <td>11.000000</td>\n",
       "      <td>15.625000</td>\n",
       "    </tr>\n",
       "    <tr>\n",
       "      <th>max</th>\n",
       "      <td>9710.000000</td>\n",
       "      <td>7.000000</td>\n",
       "      <td>6000.000000</td>\n",
       "      <td>6000.00000</td>\n",
       "      <td>13.000000</td>\n",
       "      <td>13.000000</td>\n",
       "      <td>1500.000000</td>\n",
       "      <td>1500.000000</td>\n",
       "      <td>1500.000000</td>\n",
       "      <td>1500.000000</td>\n",
       "      <td>159306.000000</td>\n",
       "      <td>195.000000</td>\n",
       "      <td>61.000000</td>\n",
       "      <td>19.000000</td>\n",
       "      <td>78.000000</td>\n",
       "      <td>9702.000000</td>\n",
       "      <td>237.000000</td>\n",
       "      <td>1088.000000</td>\n",
       "      <td>1000.000000</td>\n",
       "    </tr>\n",
       "  </tbody>\n",
       "</table>\n",
       "</div>"
      ],
      "text/plain": [
       "                DOB        INCOME           HV1          HV2           HV3  \\\n",
       "count  90569.000000  70386.000000  90569.000000  90569.00000  90569.000000   \n",
       "mean    2724.442789      3.878257   1056.391304   1127.42116      4.213473   \n",
       "std     2136.453823      1.855265    936.383991    942.16266      2.302380   \n",
       "min        0.000000      1.000000      0.000000      0.00000      0.000000   \n",
       "25%      112.000000      2.000000    511.000000    553.00000      3.000000   \n",
       "50%     2610.000000      4.000000    735.000000    800.00000      4.000000   \n",
       "75%     4601.000000      5.000000   1206.000000   1320.00000      5.000000   \n",
       "max     9710.000000      7.000000   6000.000000   6000.00000     13.000000   \n",
       "\n",
       "                HV4           IC1           IC2           IC3           IC4  \\\n",
       "count  90569.000000  90569.000000  90569.000000  90569.000000  90569.000000   \n",
       "mean       3.865462    339.373240    386.231083    386.694068    429.977917   \n",
       "std        2.239738    162.390371    173.082626    160.945113    171.332133   \n",
       "min        0.000000      0.000000      0.000000      0.000000      0.000000   \n",
       "25%        2.000000    230.000000    273.000000    277.000000    314.000000   \n",
       "50%        3.000000    309.000000    355.000000    353.000000    396.000000   \n",
       "75%        5.000000    414.000000    464.000000    465.000000    513.000000   \n",
       "max       13.000000   1500.000000   1500.000000   1500.000000   1500.000000   \n",
       "\n",
       "                 IC5       NUMPROM      CARDPROM      CARDPM12      NUMPRM12  \\\n",
       "count   90569.000000  90569.000000  90569.000000  90569.000000  90569.000000   \n",
       "mean    15682.038600     46.797204     18.370701      5.343407     12.837351   \n",
       "std      8508.870754     22.944967      8.582096      1.207126      4.499933   \n",
       "min         0.000000      4.000000      1.000000      0.000000      1.000000   \n",
       "25%     10770.000000     27.000000     11.000000      5.000000     11.000000   \n",
       "50%     13692.000000     46.000000     18.000000      6.000000     12.000000   \n",
       "75%     18128.000000     64.000000     25.000000      6.000000     13.000000   \n",
       "max    159306.000000    195.000000     61.000000     19.000000     78.000000   \n",
       "\n",
       "           MAXADATE      NGIFTALL       TIMELAG       AVGGIFT  \n",
       "count  90569.000000  90569.000000  80916.000000  90569.000000  \n",
       "mean    9701.640606      9.501353      8.114378     13.428585  \n",
       "std        5.679884      8.495065      8.310877     10.796349  \n",
       "min     9611.000000      1.000000      0.000000      1.285714  \n",
       "25%     9702.000000      3.000000      4.000000      8.454545  \n",
       "50%     9702.000000      7.000000      6.000000     11.666667  \n",
       "75%     9702.000000     13.000000     11.000000     15.625000  \n",
       "max     9702.000000    237.000000   1088.000000   1000.000000  "
      ]
     },
     "execution_count": 4,
     "metadata": {},
     "output_type": "execute_result"
    }
   ],
   "source": [
    "data.describe()"
   ]
  },
  {
   "cell_type": "code",
   "execution_count": 3,
   "metadata": {},
   "outputs": [
    {
     "data": {
      "text/html": [
       "<div>\n",
       "<style scoped>\n",
       "    .dataframe tbody tr th:only-of-type {\n",
       "        vertical-align: middle;\n",
       "    }\n",
       "\n",
       "    .dataframe tbody tr th {\n",
       "        vertical-align: top;\n",
       "    }\n",
       "\n",
       "    .dataframe thead th {\n",
       "        text-align: right;\n",
       "    }\n",
       "</style>\n",
       "<table border=\"1\" class=\"dataframe\">\n",
       "  <thead>\n",
       "    <tr style=\"text-align: right;\">\n",
       "      <th></th>\n",
       "      <th>percentage</th>\n",
       "    </tr>\n",
       "  </thead>\n",
       "  <tbody>\n",
       "    <tr>\n",
       "      <th>INCOME</th>\n",
       "      <td>22.284667</td>\n",
       "    </tr>\n",
       "    <tr>\n",
       "      <th>TIMELAG</th>\n",
       "      <td>10.658172</td>\n",
       "    </tr>\n",
       "    <tr>\n",
       "      <th>STATE</th>\n",
       "      <td>0.000000</td>\n",
       "    </tr>\n",
       "    <tr>\n",
       "      <th>IC3</th>\n",
       "      <td>0.000000</td>\n",
       "    </tr>\n",
       "    <tr>\n",
       "      <th>NGIFTALL</th>\n",
       "      <td>0.000000</td>\n",
       "    </tr>\n",
       "    <tr>\n",
       "      <th>RFA_2</th>\n",
       "      <td>0.000000</td>\n",
       "    </tr>\n",
       "    <tr>\n",
       "      <th>MAXADATE</th>\n",
       "      <td>0.000000</td>\n",
       "    </tr>\n",
       "    <tr>\n",
       "      <th>NUMPRM12</th>\n",
       "      <td>0.000000</td>\n",
       "    </tr>\n",
       "    <tr>\n",
       "      <th>CARDPM12</th>\n",
       "      <td>0.000000</td>\n",
       "    </tr>\n",
       "    <tr>\n",
       "      <th>CARDPROM</th>\n",
       "      <td>0.000000</td>\n",
       "    </tr>\n",
       "    <tr>\n",
       "      <th>NUMPROM</th>\n",
       "      <td>0.000000</td>\n",
       "    </tr>\n",
       "    <tr>\n",
       "      <th>VETERANS</th>\n",
       "      <td>0.000000</td>\n",
       "    </tr>\n",
       "    <tr>\n",
       "      <th>IC5</th>\n",
       "      <td>0.000000</td>\n",
       "    </tr>\n",
       "    <tr>\n",
       "      <th>IC4</th>\n",
       "      <td>0.000000</td>\n",
       "    </tr>\n",
       "    <tr>\n",
       "      <th>IC2</th>\n",
       "      <td>0.000000</td>\n",
       "    </tr>\n",
       "    <tr>\n",
       "      <th>PVASTATE</th>\n",
       "      <td>0.000000</td>\n",
       "    </tr>\n",
       "    <tr>\n",
       "      <th>IC1</th>\n",
       "      <td>0.000000</td>\n",
       "    </tr>\n",
       "    <tr>\n",
       "      <th>HV4</th>\n",
       "      <td>0.000000</td>\n",
       "    </tr>\n",
       "    <tr>\n",
       "      <th>HV3</th>\n",
       "      <td>0.000000</td>\n",
       "    </tr>\n",
       "    <tr>\n",
       "      <th>HV2</th>\n",
       "      <td>0.000000</td>\n",
       "    </tr>\n",
       "    <tr>\n",
       "      <th>HV1</th>\n",
       "      <td>0.000000</td>\n",
       "    </tr>\n",
       "    <tr>\n",
       "      <th>HOMEOWNR</th>\n",
       "      <td>0.000000</td>\n",
       "    </tr>\n",
       "    <tr>\n",
       "      <th>DOMAIN</th>\n",
       "      <td>0.000000</td>\n",
       "    </tr>\n",
       "    <tr>\n",
       "      <th>GENDER</th>\n",
       "      <td>0.000000</td>\n",
       "    </tr>\n",
       "    <tr>\n",
       "      <th>RECP3</th>\n",
       "      <td>0.000000</td>\n",
       "    </tr>\n",
       "    <tr>\n",
       "      <th>MDMAUD</th>\n",
       "      <td>0.000000</td>\n",
       "    </tr>\n",
       "    <tr>\n",
       "      <th>DOB</th>\n",
       "      <td>0.000000</td>\n",
       "    </tr>\n",
       "    <tr>\n",
       "      <th>AVGGIFT</th>\n",
       "      <td>0.000000</td>\n",
       "    </tr>\n",
       "  </tbody>\n",
       "</table>\n",
       "</div>"
      ],
      "text/plain": [
       "          percentage\n",
       "INCOME     22.284667\n",
       "TIMELAG    10.658172\n",
       "STATE       0.000000\n",
       "IC3         0.000000\n",
       "NGIFTALL    0.000000\n",
       "RFA_2       0.000000\n",
       "MAXADATE    0.000000\n",
       "NUMPRM12    0.000000\n",
       "CARDPM12    0.000000\n",
       "CARDPROM    0.000000\n",
       "NUMPROM     0.000000\n",
       "VETERANS    0.000000\n",
       "IC5         0.000000\n",
       "IC4         0.000000\n",
       "IC2         0.000000\n",
       "PVASTATE    0.000000\n",
       "IC1         0.000000\n",
       "HV4         0.000000\n",
       "HV3         0.000000\n",
       "HV2         0.000000\n",
       "HV1         0.000000\n",
       "HOMEOWNR    0.000000\n",
       "DOMAIN      0.000000\n",
       "GENDER      0.000000\n",
       "RECP3       0.000000\n",
       "MDMAUD      0.000000\n",
       "DOB         0.000000\n",
       "AVGGIFT     0.000000"
      ]
     },
     "execution_count": 3,
     "metadata": {},
     "output_type": "execute_result"
    }
   ],
   "source": [
    "nulls = pd.DataFrame(data.isna().sum()*100/len(data), columns=['percentage'])\n",
    "nulls.sort_values('percentage', ascending = False)"
   ]
  },
  {
   "cell_type": "markdown",
   "metadata": {},
   "source": [
    "The columns might be important factors in predicting the gift value, so even though it has a lot of null values, we will not drop them, at least not before checking correlations."
   ]
  },
  {
   "cell_type": "code",
   "execution_count": 6,
   "metadata": {
    "scrolled": true
   },
   "outputs": [
    {
     "data": {
      "text/plain": [
       "AVGGIFT     1.000000\n",
       "INCOME      0.115147\n",
       "HV2         0.102086\n",
       "HV1         0.099967\n",
       "IC5         0.097252\n",
       "IC4         0.088880\n",
       "NUMPRM12    0.088064\n",
       "IC2         0.087900\n",
       "IC3         0.086453\n",
       "HV3         0.085160\n",
       "IC1         0.083434\n",
       "HV4         0.082829\n",
       "TIMELAG     0.075476\n",
       "DOB         0.020624\n",
       "MAXADATE   -0.000938\n",
       "CARDPM12   -0.014228\n",
       "NUMPROM    -0.140556\n",
       "CARDPROM   -0.189318\n",
       "NGIFTALL   -0.256253\n",
       "Name: AVGGIFT, dtype: float64"
      ]
     },
     "execution_count": 6,
     "metadata": {},
     "output_type": "execute_result"
    }
   ],
   "source": [
    "data.corr()['AVGGIFT'].sort_values(ascending=False)"
   ]
  },
  {
   "cell_type": "code",
   "execution_count": 7,
   "metadata": {},
   "outputs": [
    {
     "data": {
      "text/plain": [
       "INCOME     0.115147\n",
       "TIMELAG    0.075476\n",
       "Name: AVGGIFT, dtype: float64"
      ]
     },
     "execution_count": 7,
     "metadata": {},
     "output_type": "execute_result"
    }
   ],
   "source": [
    "data.corr()['AVGGIFT'][['INCOME', 'TIMELAG']]"
   ]
  },
  {
   "cell_type": "markdown",
   "metadata": {},
   "source": [
    "1 - We might loose up to ~32% of the data if dropping the NaNs (rows). The trade-off here is amount of data vs data quality.\n",
    "\n",
    "2 - The columns have decent correlation with the target (comparatively) so I wouldn't drop them. The trade-off here is feature importance vs data quality.\n",
    "\n",
    "3 - To contain the data quality decrease when \"making up\" data, I wouldn't transform the NaNs into zeros. Using the mean/median will \"maintain\" our distributions. (I like mean, but median might work better if you have expressive outliers) \n",
    "\n",
    "4 - You can also use Interpolation techniques - using information from other columns/rows to find the value to replace.  \n",
    "\n",
    "Obs.: There are more robust ways to handle NaNs, like interpolations."
   ]
  },
  {
   "cell_type": "markdown",
   "metadata": {},
   "source": [
    "#### Activity 1\n",
    "How many ways exist to cope with the null values? When should you use each one?\n",
    "\n",
    "How could we find out gender value when this field is null?\n",
    "\n",
    "The Homeownership has two values [H = Homeowner, U = Unknown]. If you had to fill null values, how would it be?"
   ]
  },
  {
   "cell_type": "code",
   "execution_count": 8,
   "metadata": {
    "scrolled": true
   },
   "outputs": [
    {
     "data": {
      "text/plain": [
       "H    49646\n",
       "     21051\n",
       "U    19872\n",
       "Name: HOMEOWNR, dtype: int64"
      ]
     },
     "execution_count": 8,
     "metadata": {},
     "output_type": "execute_result"
    }
   ],
   "source": [
    "data['HOMEOWNR'].value_counts()"
   ]
  },
  {
   "cell_type": "code",
   "execution_count": 9,
   "metadata": {},
   "outputs": [
    {
     "data": {
      "text/plain": [
       "F    48668\n",
       "M    37132\n",
       "O     4769\n",
       "Name: GENDER, dtype: int64"
      ]
     },
     "execution_count": 9,
     "metadata": {},
     "output_type": "execute_result"
    }
   ],
   "source": [
    "data['GENDER'].value_counts()\n",
    "\n",
    "data['GENDER'] = data['GENDER'].apply(lambda x: x if x in ['M', 'F'] else 'O')\n",
    "\n",
    "data['GENDER'].value_counts()"
   ]
  },
  {
   "cell_type": "markdown",
   "metadata": {},
   "source": [
    "### Dealing with NaNs"
   ]
  },
  {
   "cell_type": "code",
   "execution_count": 4,
   "metadata": {},
   "outputs": [],
   "source": [
    "# for 'TIMELAG' I'll choose median to replace the NaNs\n",
    "# since we have considerable outliers as we saw in .describe()\n",
    "data['TIMELAG'] = data['TIMELAG'].fillna(data['TIMELAG'].median())"
   ]
  },
  {
   "cell_type": "markdown",
   "metadata": {},
   "source": [
    "#### Interpolation"
   ]
  },
  {
   "cell_type": "code",
   "execution_count": 11,
   "metadata": {},
   "outputs": [
    {
     "data": {
      "text/plain": [
       "<AxesSubplot:>"
      ]
     },
     "execution_count": 11,
     "metadata": {},
     "output_type": "execute_result"
    },
    {
     "data": {
      "image/png": "[encoded data removed]",
      "text/plain": [
       "<Figure size 432x288 with 1 Axes>"
      ]
     },
     "metadata": {
      "needs_background": "light"
     },
     "output_type": "display_data"
    }
   ],
   "source": [
    "data['INCOME'][0:40].plot()"
   ]
  },
  {
   "cell_type": "code",
   "execution_count": 5,
   "metadata": {},
   "outputs": [
    {
     "data": {
      "image/png": "[encoded data removed]",
      "text/plain": [
       "<Figure size 432x288 with 1 Axes>"
      ]
     },
     "metadata": {
      "needs_background": "light"
     },
     "output_type": "display_data"
    }
   ],
   "source": [
    "new_income_data = data['INCOME'][0:40].interpolate(method='linear')\n",
    "# linear interpolation assumes that the rate of change between the values is constant\n",
    "new_income_data.plot()\n",
    "plt.show()"
   ]
  },
  {
   "cell_type": "code",
   "execution_count": 13,
   "metadata": {
    "scrolled": true
   },
   "outputs": [
    {
     "data": {
      "text/plain": [
       "4.0    8\n",
       "7.0    6\n",
       "1.0    5\n",
       "3.0    4\n",
       "2.0    3\n",
       "6.0    2\n",
       "5.0    1\n",
       "Name: INCOME, dtype: int64"
      ]
     },
     "execution_count": 13,
     "metadata": {},
     "output_type": "execute_result"
    }
   ],
   "source": [
    "data['INCOME'][0:40].value_counts()"
   ]
  },
  {
   "cell_type": "markdown",
   "metadata": {},
   "source": [
    "#### Comparing distributions to choose which technique to use:"
   ]
  },
  {
   "cell_type": "code",
   "execution_count": 14,
   "metadata": {},
   "outputs": [
    {
     "data": {
      "image/png": "[encoded data removed]",
      "text/plain": [
       "<Figure size 432x288 with 1 Axes>"
      ]
     },
     "metadata": {
      "needs_background": "light"
     },
     "output_type": "display_data"
    }
   ],
   "source": [
    "# you can try different methods and check which ones are more normally distributed\n",
    "plt.hist(data['INCOME'].interpolate(method='polynomial', order=2), bins=20) \n",
    "plt.show()"
   ]
  },
  {
   "cell_type": "markdown",
   "metadata": {},
   "source": [
    "Want a better understanding of polynomial method? Here is something to [read](https://whatis.techtarget.com/definition/polynomial-interpolation)."
   ]
  },
  {
   "cell_type": "code",
   "execution_count": 15,
   "metadata": {},
   "outputs": [
    {
     "data": {
      "image/png": "[encoded data removed]",
      "text/plain": [
       "<Figure size 432x288 with 1 Axes>"
      ]
     },
     "metadata": {
      "needs_background": "light"
     },
     "output_type": "display_data"
    }
   ],
   "source": [
    "plt.hist(data['INCOME'].fillna(data['INCOME'].mean()), bins=20)\n",
    "plt.show()"
   ]
  },
  {
   "cell_type": "markdown",
   "metadata": {},
   "source": [
    "It's not wise to make a decision based on 'how it looks on the plot'. When we learn about p-values we'll see how to check for normality with an actual metric."
   ]
  },
  {
   "cell_type": "code",
   "execution_count": 16,
   "metadata": {},
   "outputs": [],
   "source": [
    "# I'll choose interpolate with polynomial method\n",
    "data['INCOME'] = data['INCOME'].interpolate(method='polynomial', order=2)"
   ]
  },
  {
   "cell_type": "markdown",
   "metadata": {},
   "source": [
    "#### The order of the rows matters for interpolation:\n",
    "We can see that the plot goes crazy, and also, if we check, the interpolated values will be different. Here is proof:"
   ]
  },
  {
   "cell_type": "code",
   "execution_count": 17,
   "metadata": {},
   "outputs": [
    {
     "data": {
      "text/html": [
       "<div>\n",
       "<style scoped>\n",
       "    .dataframe tbody tr th:only-of-type {\n",
       "        vertical-align: middle;\n",
       "    }\n",
       "\n",
       "    .dataframe tbody tr th {\n",
       "        vertical-align: top;\n",
       "    }\n",
       "\n",
       "    .dataframe thead th {\n",
       "        text-align: right;\n",
       "    }\n",
       "</style>\n",
       "<table border=\"1\" class=\"dataframe\">\n",
       "  <thead>\n",
       "    <tr style=\"text-align: right;\">\n",
       "      <th></th>\n",
       "      <th>ind</th>\n",
       "      <th>STATE</th>\n",
       "      <th>PVASTATE</th>\n",
       "      <th>DOB</th>\n",
       "      <th>MDMAUD</th>\n",
       "      <th>RECP3</th>\n",
       "      <th>GENDER</th>\n",
       "      <th>DOMAIN</th>\n",
       "      <th>INCOME</th>\n",
       "      <th>HOMEOWNR</th>\n",
       "      <th>HV1</th>\n",
       "      <th>HV2</th>\n",
       "      <th>HV3</th>\n",
       "      <th>HV4</th>\n",
       "      <th>IC1</th>\n",
       "      <th>IC2</th>\n",
       "      <th>IC3</th>\n",
       "      <th>IC4</th>\n",
       "      <th>IC5</th>\n",
       "      <th>VETERANS</th>\n",
       "      <th>NUMPROM</th>\n",
       "      <th>CARDPROM</th>\n",
       "      <th>CARDPM12</th>\n",
       "      <th>NUMPRM12</th>\n",
       "      <th>MAXADATE</th>\n",
       "      <th>RFA_2</th>\n",
       "      <th>NGIFTALL</th>\n",
       "      <th>TIMELAG</th>\n",
       "      <th>AVGGIFT</th>\n",
       "    </tr>\n",
       "  </thead>\n",
       "  <tbody>\n",
       "    <tr>\n",
       "      <th>0</th>\n",
       "      <td>37477</td>\n",
       "      <td>CA</td>\n",
       "      <td></td>\n",
       "      <td>4701</td>\n",
       "      <td>XXXX</td>\n",
       "      <td></td>\n",
       "      <td>M</td>\n",
       "      <td>U2</td>\n",
       "      <td>4.000000</td>\n",
       "      <td>H</td>\n",
       "      <td>1908</td>\n",
       "      <td>1882</td>\n",
       "      <td>5</td>\n",
       "      <td>5</td>\n",
       "      <td>301</td>\n",
       "      <td>302</td>\n",
       "      <td>330</td>\n",
       "      <td>373</td>\n",
       "      <td>12741</td>\n",
       "      <td></td>\n",
       "      <td>70</td>\n",
       "      <td>31</td>\n",
       "      <td>5</td>\n",
       "      <td>12</td>\n",
       "      <td>9702</td>\n",
       "      <td>L1E</td>\n",
       "      <td>15</td>\n",
       "      <td>5.0</td>\n",
       "      <td>7.466667</td>\n",
       "    </tr>\n",
       "    <tr>\n",
       "      <th>1</th>\n",
       "      <td>25656</td>\n",
       "      <td>TN</td>\n",
       "      <td></td>\n",
       "      <td>0</td>\n",
       "      <td>XXXX</td>\n",
       "      <td></td>\n",
       "      <td>M</td>\n",
       "      <td></td>\n",
       "      <td>2.000000</td>\n",
       "      <td>U</td>\n",
       "      <td>700</td>\n",
       "      <td>710</td>\n",
       "      <td>4</td>\n",
       "      <td>6</td>\n",
       "      <td>255</td>\n",
       "      <td>338</td>\n",
       "      <td>281</td>\n",
       "      <td>349</td>\n",
       "      <td>17850</td>\n",
       "      <td></td>\n",
       "      <td>67</td>\n",
       "      <td>19</td>\n",
       "      <td>6</td>\n",
       "      <td>24</td>\n",
       "      <td>9702</td>\n",
       "      <td>L3E</td>\n",
       "      <td>12</td>\n",
       "      <td>10.0</td>\n",
       "      <td>7.166667</td>\n",
       "    </tr>\n",
       "    <tr>\n",
       "      <th>2</th>\n",
       "      <td>48827</td>\n",
       "      <td>GA</td>\n",
       "      <td></td>\n",
       "      <td>2901</td>\n",
       "      <td>XXXX</td>\n",
       "      <td></td>\n",
       "      <td>M</td>\n",
       "      <td>S2</td>\n",
       "      <td>4.000000</td>\n",
       "      <td>H</td>\n",
       "      <td>0</td>\n",
       "      <td>0</td>\n",
       "      <td>0</td>\n",
       "      <td>0</td>\n",
       "      <td>0</td>\n",
       "      <td>0</td>\n",
       "      <td>0</td>\n",
       "      <td>0</td>\n",
       "      <td>0</td>\n",
       "      <td></td>\n",
       "      <td>27</td>\n",
       "      <td>11</td>\n",
       "      <td>6</td>\n",
       "      <td>14</td>\n",
       "      <td>9702</td>\n",
       "      <td>L2F</td>\n",
       "      <td>3</td>\n",
       "      <td>12.0</td>\n",
       "      <td>11.666667</td>\n",
       "    </tr>\n",
       "    <tr>\n",
       "      <th>3</th>\n",
       "      <td>51024</td>\n",
       "      <td>FL</td>\n",
       "      <td></td>\n",
       "      <td>1710</td>\n",
       "      <td>XXXX</td>\n",
       "      <td></td>\n",
       "      <td>M</td>\n",
       "      <td>C1</td>\n",
       "      <td>1.032237</td>\n",
       "      <td></td>\n",
       "      <td>2527</td>\n",
       "      <td>2689</td>\n",
       "      <td>8</td>\n",
       "      <td>7</td>\n",
       "      <td>486</td>\n",
       "      <td>560</td>\n",
       "      <td>675</td>\n",
       "      <td>741</td>\n",
       "      <td>55082</td>\n",
       "      <td></td>\n",
       "      <td>48</td>\n",
       "      <td>19</td>\n",
       "      <td>6</td>\n",
       "      <td>18</td>\n",
       "      <td>9702</td>\n",
       "      <td>L2G</td>\n",
       "      <td>4</td>\n",
       "      <td>20.0</td>\n",
       "      <td>67.500000</td>\n",
       "    </tr>\n",
       "    <tr>\n",
       "      <th>4</th>\n",
       "      <td>309</td>\n",
       "      <td>CA</td>\n",
       "      <td></td>\n",
       "      <td>2809</td>\n",
       "      <td>XXXX</td>\n",
       "      <td></td>\n",
       "      <td>M</td>\n",
       "      <td>S1</td>\n",
       "      <td>7.000000</td>\n",
       "      <td>H</td>\n",
       "      <td>2296</td>\n",
       "      <td>2384</td>\n",
       "      <td>7</td>\n",
       "      <td>7</td>\n",
       "      <td>549</td>\n",
       "      <td>588</td>\n",
       "      <td>624</td>\n",
       "      <td>662</td>\n",
       "      <td>23721</td>\n",
       "      <td></td>\n",
       "      <td>63</td>\n",
       "      <td>25</td>\n",
       "      <td>4</td>\n",
       "      <td>9</td>\n",
       "      <td>9702</td>\n",
       "      <td>L1F</td>\n",
       "      <td>13</td>\n",
       "      <td>5.0</td>\n",
       "      <td>8.846154</td>\n",
       "    </tr>\n",
       "    <tr>\n",
       "      <th>...</th>\n",
       "      <td>...</td>\n",
       "      <td>...</td>\n",
       "      <td>...</td>\n",
       "      <td>...</td>\n",
       "      <td>...</td>\n",
       "      <td>...</td>\n",
       "      <td>...</td>\n",
       "      <td>...</td>\n",
       "      <td>...</td>\n",
       "      <td>...</td>\n",
       "      <td>...</td>\n",
       "      <td>...</td>\n",
       "      <td>...</td>\n",
       "      <td>...</td>\n",
       "      <td>...</td>\n",
       "      <td>...</td>\n",
       "      <td>...</td>\n",
       "      <td>...</td>\n",
       "      <td>...</td>\n",
       "      <td>...</td>\n",
       "      <td>...</td>\n",
       "      <td>...</td>\n",
       "      <td>...</td>\n",
       "      <td>...</td>\n",
       "      <td>...</td>\n",
       "      <td>...</td>\n",
       "      <td>...</td>\n",
       "      <td>...</td>\n",
       "      <td>...</td>\n",
       "    </tr>\n",
       "    <tr>\n",
       "      <th>90564</th>\n",
       "      <td>55659</td>\n",
       "      <td>TX</td>\n",
       "      <td></td>\n",
       "      <td>1703</td>\n",
       "      <td>XXXX</td>\n",
       "      <td></td>\n",
       "      <td>M</td>\n",
       "      <td>C2</td>\n",
       "      <td>4.006587</td>\n",
       "      <td></td>\n",
       "      <td>546</td>\n",
       "      <td>574</td>\n",
       "      <td>3</td>\n",
       "      <td>4</td>\n",
       "      <td>347</td>\n",
       "      <td>396</td>\n",
       "      <td>380</td>\n",
       "      <td>453</td>\n",
       "      <td>17130</td>\n",
       "      <td></td>\n",
       "      <td>130</td>\n",
       "      <td>32</td>\n",
       "      <td>5</td>\n",
       "      <td>23</td>\n",
       "      <td>9702</td>\n",
       "      <td>L1E</td>\n",
       "      <td>64</td>\n",
       "      <td>4.0</td>\n",
       "      <td>11.101562</td>\n",
       "    </tr>\n",
       "    <tr>\n",
       "      <th>90565</th>\n",
       "      <td>18741</td>\n",
       "      <td>FL</td>\n",
       "      <td></td>\n",
       "      <td>5608</td>\n",
       "      <td>XXXX</td>\n",
       "      <td></td>\n",
       "      <td>M</td>\n",
       "      <td>T1</td>\n",
       "      <td>2.000000</td>\n",
       "      <td>H</td>\n",
       "      <td>1286</td>\n",
       "      <td>1359</td>\n",
       "      <td>7</td>\n",
       "      <td>7</td>\n",
       "      <td>500</td>\n",
       "      <td>502</td>\n",
       "      <td>542</td>\n",
       "      <td>551</td>\n",
       "      <td>19082</td>\n",
       "      <td></td>\n",
       "      <td>69</td>\n",
       "      <td>27</td>\n",
       "      <td>5</td>\n",
       "      <td>10</td>\n",
       "      <td>9702</td>\n",
       "      <td>L1E</td>\n",
       "      <td>16</td>\n",
       "      <td>4.0</td>\n",
       "      <td>5.437500</td>\n",
       "    </tr>\n",
       "    <tr>\n",
       "      <th>90566</th>\n",
       "      <td>88670</td>\n",
       "      <td>MN</td>\n",
       "      <td></td>\n",
       "      <td>4411</td>\n",
       "      <td>XXXX</td>\n",
       "      <td></td>\n",
       "      <td>F</td>\n",
       "      <td>R2</td>\n",
       "      <td>3.000000</td>\n",
       "      <td>H</td>\n",
       "      <td>702</td>\n",
       "      <td>719</td>\n",
       "      <td>4</td>\n",
       "      <td>2</td>\n",
       "      <td>336</td>\n",
       "      <td>352</td>\n",
       "      <td>358</td>\n",
       "      <td>375</td>\n",
       "      <td>12276</td>\n",
       "      <td>Y</td>\n",
       "      <td>60</td>\n",
       "      <td>23</td>\n",
       "      <td>5</td>\n",
       "      <td>12</td>\n",
       "      <td>9702</td>\n",
       "      <td>L1E</td>\n",
       "      <td>15</td>\n",
       "      <td>12.0</td>\n",
       "      <td>6.800000</td>\n",
       "    </tr>\n",
       "    <tr>\n",
       "      <th>90567</th>\n",
       "      <td>4285</td>\n",
       "      <td>TX</td>\n",
       "      <td></td>\n",
       "      <td>3201</td>\n",
       "      <td>XXXX</td>\n",
       "      <td></td>\n",
       "      <td>M</td>\n",
       "      <td>C1</td>\n",
       "      <td>2.000000</td>\n",
       "      <td>U</td>\n",
       "      <td>1189</td>\n",
       "      <td>1402</td>\n",
       "      <td>3</td>\n",
       "      <td>4</td>\n",
       "      <td>669</td>\n",
       "      <td>724</td>\n",
       "      <td>712</td>\n",
       "      <td>754</td>\n",
       "      <td>26834</td>\n",
       "      <td></td>\n",
       "      <td>27</td>\n",
       "      <td>11</td>\n",
       "      <td>6</td>\n",
       "      <td>13</td>\n",
       "      <td>9702</td>\n",
       "      <td>L2F</td>\n",
       "      <td>3</td>\n",
       "      <td>12.0</td>\n",
       "      <td>9.000000</td>\n",
       "    </tr>\n",
       "    <tr>\n",
       "      <th>90568</th>\n",
       "      <td>73974</td>\n",
       "      <td>CO</td>\n",
       "      <td></td>\n",
       "      <td>4401</td>\n",
       "      <td>XXXX</td>\n",
       "      <td></td>\n",
       "      <td>M</td>\n",
       "      <td>T1</td>\n",
       "      <td>6.000000</td>\n",
       "      <td>H</td>\n",
       "      <td>1184</td>\n",
       "      <td>1371</td>\n",
       "      <td>5</td>\n",
       "      <td>5</td>\n",
       "      <td>462</td>\n",
       "      <td>474</td>\n",
       "      <td>534</td>\n",
       "      <td>543</td>\n",
       "      <td>21583</td>\n",
       "      <td></td>\n",
       "      <td>16</td>\n",
       "      <td>7</td>\n",
       "      <td>5</td>\n",
       "      <td>11</td>\n",
       "      <td>9702</td>\n",
       "      <td>L2F</td>\n",
       "      <td>2</td>\n",
       "      <td>7.0</td>\n",
       "      <td>12.500000</td>\n",
       "    </tr>\n",
       "  </tbody>\n",
       "</table>\n",
       "<p>90569 rows × 29 columns</p>\n",
       "</div>"
      ],
      "text/plain": [
       "         ind STATE PVASTATE   DOB MDMAUD RECP3 GENDER DOMAIN    INCOME  \\\n",
       "0      37477    CA           4701   XXXX            M     U2  4.000000   \n",
       "1      25656    TN              0   XXXX            M         2.000000   \n",
       "2      48827    GA           2901   XXXX            M     S2  4.000000   \n",
       "3      51024    FL           1710   XXXX            M     C1  1.032237   \n",
       "4        309    CA           2809   XXXX            M     S1  7.000000   \n",
       "...      ...   ...      ...   ...    ...   ...    ...    ...       ...   \n",
       "90564  55659    TX           1703   XXXX            M     C2  4.006587   \n",
       "90565  18741    FL           5608   XXXX            M     T1  2.000000   \n",
       "90566  88670    MN           4411   XXXX            F     R2  3.000000   \n",
       "90567   4285    TX           3201   XXXX            M     C1  2.000000   \n",
       "90568  73974    CO           4401   XXXX            M     T1  6.000000   \n",
       "\n",
       "      HOMEOWNR   HV1   HV2  HV3  HV4  IC1  IC2  IC3  IC4    IC5 VETERANS  \\\n",
       "0            H  1908  1882    5    5  301  302  330  373  12741            \n",
       "1            U   700   710    4    6  255  338  281  349  17850            \n",
       "2            H     0     0    0    0    0    0    0    0      0            \n",
       "3               2527  2689    8    7  486  560  675  741  55082            \n",
       "4            H  2296  2384    7    7  549  588  624  662  23721            \n",
       "...        ...   ...   ...  ...  ...  ...  ...  ...  ...    ...      ...   \n",
       "90564            546   574    3    4  347  396  380  453  17130            \n",
       "90565        H  1286  1359    7    7  500  502  542  551  19082            \n",
       "90566        H   702   719    4    2  336  352  358  375  12276        Y   \n",
       "90567        U  1189  1402    3    4  669  724  712  754  26834            \n",
       "90568        H  1184  1371    5    5  462  474  534  543  21583            \n",
       "\n",
       "       NUMPROM  CARDPROM  CARDPM12  NUMPRM12  MAXADATE RFA_2  NGIFTALL  \\\n",
       "0           70        31         5        12      9702   L1E        15   \n",
       "1           67        19         6        24      9702   L3E        12   \n",
       "2           27        11         6        14      9702   L2F         3   \n",
       "3           48        19         6        18      9702   L2G         4   \n",
       "4           63        25         4         9      9702   L1F        13   \n",
       "...        ...       ...       ...       ...       ...   ...       ...   \n",
       "90564      130        32         5        23      9702   L1E        64   \n",
       "90565       69        27         5        10      9702   L1E        16   \n",
       "90566       60        23         5        12      9702   L1E        15   \n",
       "90567       27        11         6        13      9702   L2F         3   \n",
       "90568       16         7         5        11      9702   L2F         2   \n",
       "\n",
       "       TIMELAG    AVGGIFT  \n",
       "0          5.0   7.466667  \n",
       "1         10.0   7.166667  \n",
       "2         12.0  11.666667  \n",
       "3         20.0  67.500000  \n",
       "4          5.0   8.846154  \n",
       "...        ...        ...  \n",
       "90564      4.0  11.101562  \n",
       "90565      4.0   5.437500  \n",
       "90566     12.0   6.800000  \n",
       "90567     12.0   9.000000  \n",
       "90568      7.0  12.500000  \n",
       "\n",
       "[90569 rows x 29 columns]"
      ]
     },
     "execution_count": 17,
     "metadata": {},
     "output_type": "execute_result"
    }
   ],
   "source": [
    "# shuffling the df but maintaining a column with the original indexes\n",
    "data1 = data.copy().sample(frac=1).reset_index().rename(columns={'index': 'ind'})\n",
    "data1"
   ]
  },
  {
   "cell_type": "code",
   "execution_count": 18,
   "metadata": {},
   "outputs": [],
   "source": [
    "# applying interpolation to shuffled df\n",
    "data1['INCOME'] = data1['INCOME'].interpolate(method='polynomial', order=2)"
   ]
  },
  {
   "cell_type": "code",
   "execution_count": 19,
   "metadata": {},
   "outputs": [
    {
     "data": {
      "text/plain": [
       "<AxesSubplot:>"
      ]
     },
     "execution_count": 19,
     "metadata": {},
     "output_type": "execute_result"
    },
    {
     "data": {
      "image/png": "[encoded data removed]",
      "text/plain": [
       "<Figure size 432x288 with 1 Axes>"
      ]
     },
     "metadata": {
      "needs_background": "light"
     },
     "output_type": "display_data"
    }
   ],
   "source": [
    "data['INCOME'].loc[0:40].plot()"
   ]
  },
  {
   "cell_type": "code",
   "execution_count": 20,
   "metadata": {},
   "outputs": [
    {
     "data": {
      "text/plain": [
       "<AxesSubplot:>"
      ]
     },
     "execution_count": 20,
     "metadata": {},
     "output_type": "execute_result"
    },
    {
     "data": {
      "image/png": "[encoded data removed]",
      "text/plain": [
       "<Figure size 432x288 with 1 Axes>"
      ]
     },
     "metadata": {
      "needs_background": "light"
     },
     "output_type": "display_data"
    }
   ],
   "source": [
    "data1.sort_values('ind')['INCOME'][0:40].plot()"
   ]
  },
  {
   "cell_type": "markdown",
   "metadata": {},
   "source": [
    "### Checking outliers"
   ]
  },
  {
   "cell_type": "code",
   "execution_count": 21,
   "metadata": {},
   "outputs": [
    {
     "data": {
      "text/plain": [
       "<AxesSubplot:xlabel='TIMELAG', ylabel='Density'>"
      ]
     },
     "execution_count": 21,
     "metadata": {},
     "output_type": "execute_result"
    },
    {
     "data": {
      "image/png": "[encoded data removed]",
      "text/plain": [
       "<Figure size 432x288 with 1 Axes>"
      ]
     },
     "metadata": {
      "needs_background": "light"
     },
     "output_type": "display_data"
    }
   ],
   "source": [
    "sns.distplot(data['TIMELAG'])"
   ]
  },
  {
   "cell_type": "code",
   "execution_count": 22,
   "metadata": {},
   "outputs": [
    {
     "data": {
      "image/png": "[encoded data removed]",
      "text/plain": [
       "<Figure size 432x288 with 1 Axes>"
      ]
     },
     "metadata": {
      "needs_background": "light"
     },
     "output_type": "display_data"
    }
   ],
   "source": [
    "sns.boxplot(data['TIMELAG'])\n",
    "plt.show()"
   ]
  },
  {
   "cell_type": "code",
   "execution_count": 23,
   "metadata": {},
   "outputs": [
    {
     "data": {
      "text/html": [
       "<div>\n",
       "<style scoped>\n",
       "    .dataframe tbody tr th:only-of-type {\n",
       "        vertical-align: middle;\n",
       "    }\n",
       "\n",
       "    .dataframe tbody tr th {\n",
       "        vertical-align: top;\n",
       "    }\n",
       "\n",
       "    .dataframe thead th {\n",
       "        text-align: right;\n",
       "    }\n",
       "</style>\n",
       "<table border=\"1\" class=\"dataframe\">\n",
       "  <thead>\n",
       "    <tr style=\"text-align: right;\">\n",
       "      <th></th>\n",
       "      <th>STATE</th>\n",
       "      <th>PVASTATE</th>\n",
       "      <th>DOB</th>\n",
       "      <th>MDMAUD</th>\n",
       "      <th>RECP3</th>\n",
       "      <th>GENDER</th>\n",
       "      <th>DOMAIN</th>\n",
       "      <th>INCOME</th>\n",
       "      <th>HOMEOWNR</th>\n",
       "      <th>HV1</th>\n",
       "      <th>HV2</th>\n",
       "      <th>HV3</th>\n",
       "      <th>HV4</th>\n",
       "      <th>IC1</th>\n",
       "      <th>IC2</th>\n",
       "      <th>IC3</th>\n",
       "      <th>IC4</th>\n",
       "      <th>IC5</th>\n",
       "      <th>VETERANS</th>\n",
       "      <th>NUMPROM</th>\n",
       "      <th>CARDPROM</th>\n",
       "      <th>CARDPM12</th>\n",
       "      <th>NUMPRM12</th>\n",
       "      <th>MAXADATE</th>\n",
       "      <th>RFA_2</th>\n",
       "      <th>NGIFTALL</th>\n",
       "      <th>TIMELAG</th>\n",
       "      <th>AVGGIFT</th>\n",
       "    </tr>\n",
       "  </thead>\n",
       "  <tbody>\n",
       "    <tr>\n",
       "      <th>0</th>\n",
       "      <td>IL</td>\n",
       "      <td></td>\n",
       "      <td>3712</td>\n",
       "      <td>XXXX</td>\n",
       "      <td></td>\n",
       "      <td>F</td>\n",
       "      <td>T2</td>\n",
       "      <td>NaN</td>\n",
       "      <td></td>\n",
       "      <td>479</td>\n",
       "      <td>635</td>\n",
       "      <td>3</td>\n",
       "      <td>2</td>\n",
       "      <td>307</td>\n",
       "      <td>318</td>\n",
       "      <td>349</td>\n",
       "      <td>378</td>\n",
       "      <td>12883</td>\n",
       "      <td></td>\n",
       "      <td>74</td>\n",
       "      <td>27</td>\n",
       "      <td>6</td>\n",
       "      <td>14</td>\n",
       "      <td>9702</td>\n",
       "      <td>L4E</td>\n",
       "      <td>31</td>\n",
       "      <td>4.0</td>\n",
       "      <td>7.741935</td>\n",
       "    </tr>\n",
       "    <tr>\n",
       "      <th>1</th>\n",
       "      <td>CA</td>\n",
       "      <td></td>\n",
       "      <td>5202</td>\n",
       "      <td>XXXX</td>\n",
       "      <td></td>\n",
       "      <td>M</td>\n",
       "      <td>S1</td>\n",
       "      <td>6.000000</td>\n",
       "      <td>H</td>\n",
       "      <td>5468</td>\n",
       "      <td>5218</td>\n",
       "      <td>12</td>\n",
       "      <td>10</td>\n",
       "      <td>1088</td>\n",
       "      <td>1096</td>\n",
       "      <td>1026</td>\n",
       "      <td>1037</td>\n",
       "      <td>36175</td>\n",
       "      <td></td>\n",
       "      <td>32</td>\n",
       "      <td>12</td>\n",
       "      <td>6</td>\n",
       "      <td>13</td>\n",
       "      <td>9702</td>\n",
       "      <td>L2G</td>\n",
       "      <td>3</td>\n",
       "      <td>18.0</td>\n",
       "      <td>15.666667</td>\n",
       "    </tr>\n",
       "    <tr>\n",
       "      <th>2</th>\n",
       "      <td>NC</td>\n",
       "      <td></td>\n",
       "      <td>0</td>\n",
       "      <td>XXXX</td>\n",
       "      <td></td>\n",
       "      <td>M</td>\n",
       "      <td>R2</td>\n",
       "      <td>3.000000</td>\n",
       "      <td>U</td>\n",
       "      <td>497</td>\n",
       "      <td>546</td>\n",
       "      <td>2</td>\n",
       "      <td>1</td>\n",
       "      <td>251</td>\n",
       "      <td>292</td>\n",
       "      <td>292</td>\n",
       "      <td>340</td>\n",
       "      <td>11576</td>\n",
       "      <td></td>\n",
       "      <td>63</td>\n",
       "      <td>26</td>\n",
       "      <td>6</td>\n",
       "      <td>14</td>\n",
       "      <td>9702</td>\n",
       "      <td>L4E</td>\n",
       "      <td>27</td>\n",
       "      <td>12.0</td>\n",
       "      <td>7.481481</td>\n",
       "    </tr>\n",
       "    <tr>\n",
       "      <th>3</th>\n",
       "      <td>CA</td>\n",
       "      <td></td>\n",
       "      <td>2801</td>\n",
       "      <td>XXXX</td>\n",
       "      <td></td>\n",
       "      <td>F</td>\n",
       "      <td>R2</td>\n",
       "      <td>1.000000</td>\n",
       "      <td>U</td>\n",
       "      <td>1000</td>\n",
       "      <td>1263</td>\n",
       "      <td>2</td>\n",
       "      <td>1</td>\n",
       "      <td>386</td>\n",
       "      <td>388</td>\n",
       "      <td>396</td>\n",
       "      <td>423</td>\n",
       "      <td>15130</td>\n",
       "      <td></td>\n",
       "      <td>66</td>\n",
       "      <td>27</td>\n",
       "      <td>6</td>\n",
       "      <td>14</td>\n",
       "      <td>9702</td>\n",
       "      <td>L4E</td>\n",
       "      <td>16</td>\n",
       "      <td>9.0</td>\n",
       "      <td>6.812500</td>\n",
       "    </tr>\n",
       "    <tr>\n",
       "      <th>4</th>\n",
       "      <td>FL</td>\n",
       "      <td></td>\n",
       "      <td>2001</td>\n",
       "      <td>XXXX</td>\n",
       "      <td>X</td>\n",
       "      <td>F</td>\n",
       "      <td>S2</td>\n",
       "      <td>3.000000</td>\n",
       "      <td>H</td>\n",
       "      <td>576</td>\n",
       "      <td>594</td>\n",
       "      <td>4</td>\n",
       "      <td>3</td>\n",
       "      <td>240</td>\n",
       "      <td>250</td>\n",
       "      <td>293</td>\n",
       "      <td>321</td>\n",
       "      <td>9836</td>\n",
       "      <td></td>\n",
       "      <td>113</td>\n",
       "      <td>43</td>\n",
       "      <td>10</td>\n",
       "      <td>25</td>\n",
       "      <td>9702</td>\n",
       "      <td>L2F</td>\n",
       "      <td>37</td>\n",
       "      <td>14.0</td>\n",
       "      <td>6.864865</td>\n",
       "    </tr>\n",
       "    <tr>\n",
       "      <th>...</th>\n",
       "      <td>...</td>\n",
       "      <td>...</td>\n",
       "      <td>...</td>\n",
       "      <td>...</td>\n",
       "      <td>...</td>\n",
       "      <td>...</td>\n",
       "      <td>...</td>\n",
       "      <td>...</td>\n",
       "      <td>...</td>\n",
       "      <td>...</td>\n",
       "      <td>...</td>\n",
       "      <td>...</td>\n",
       "      <td>...</td>\n",
       "      <td>...</td>\n",
       "      <td>...</td>\n",
       "      <td>...</td>\n",
       "      <td>...</td>\n",
       "      <td>...</td>\n",
       "      <td>...</td>\n",
       "      <td>...</td>\n",
       "      <td>...</td>\n",
       "      <td>...</td>\n",
       "      <td>...</td>\n",
       "      <td>...</td>\n",
       "      <td>...</td>\n",
       "      <td>...</td>\n",
       "      <td>...</td>\n",
       "      <td>...</td>\n",
       "    </tr>\n",
       "    <tr>\n",
       "      <th>90564</th>\n",
       "      <td>FL</td>\n",
       "      <td></td>\n",
       "      <td>4803</td>\n",
       "      <td>XXXX</td>\n",
       "      <td></td>\n",
       "      <td>F</td>\n",
       "      <td>S2</td>\n",
       "      <td>6.000000</td>\n",
       "      <td>H</td>\n",
       "      <td>733</td>\n",
       "      <td>875</td>\n",
       "      <td>4</td>\n",
       "      <td>3</td>\n",
       "      <td>285</td>\n",
       "      <td>288</td>\n",
       "      <td>333</td>\n",
       "      <td>334</td>\n",
       "      <td>11390</td>\n",
       "      <td></td>\n",
       "      <td>59</td>\n",
       "      <td>23</td>\n",
       "      <td>5</td>\n",
       "      <td>12</td>\n",
       "      <td>9702</td>\n",
       "      <td>L4D</td>\n",
       "      <td>24</td>\n",
       "      <td>3.0</td>\n",
       "      <td>3.375000</td>\n",
       "    </tr>\n",
       "    <tr>\n",
       "      <th>90565</th>\n",
       "      <td>AK</td>\n",
       "      <td></td>\n",
       "      <td>0</td>\n",
       "      <td>XXXX</td>\n",
       "      <td></td>\n",
       "      <td>M</td>\n",
       "      <td>C2</td>\n",
       "      <td>7.140318</td>\n",
       "      <td></td>\n",
       "      <td>988</td>\n",
       "      <td>1025</td>\n",
       "      <td>6</td>\n",
       "      <td>6</td>\n",
       "      <td>433</td>\n",
       "      <td>481</td>\n",
       "      <td>499</td>\n",
       "      <td>535</td>\n",
       "      <td>18807</td>\n",
       "      <td></td>\n",
       "      <td>14</td>\n",
       "      <td>6</td>\n",
       "      <td>5</td>\n",
       "      <td>12</td>\n",
       "      <td>9702</td>\n",
       "      <td>L1G</td>\n",
       "      <td>1</td>\n",
       "      <td>6.0</td>\n",
       "      <td>25.000000</td>\n",
       "    </tr>\n",
       "    <tr>\n",
       "      <th>90566</th>\n",
       "      <td>TX</td>\n",
       "      <td></td>\n",
       "      <td>5001</td>\n",
       "      <td>XXXX</td>\n",
       "      <td></td>\n",
       "      <td>M</td>\n",
       "      <td>C1</td>\n",
       "      <td>7.000000</td>\n",
       "      <td>H</td>\n",
       "      <td>1679</td>\n",
       "      <td>1723</td>\n",
       "      <td>3</td>\n",
       "      <td>3</td>\n",
       "      <td>806</td>\n",
       "      <td>836</td>\n",
       "      <td>802</td>\n",
       "      <td>849</td>\n",
       "      <td>26538</td>\n",
       "      <td></td>\n",
       "      <td>10</td>\n",
       "      <td>4</td>\n",
       "      <td>3</td>\n",
       "      <td>8</td>\n",
       "      <td>9702</td>\n",
       "      <td>L1F</td>\n",
       "      <td>1</td>\n",
       "      <td>6.0</td>\n",
       "      <td>20.000000</td>\n",
       "    </tr>\n",
       "    <tr>\n",
       "      <th>90567</th>\n",
       "      <td>MI</td>\n",
       "      <td></td>\n",
       "      <td>3801</td>\n",
       "      <td>XXXX</td>\n",
       "      <td>X</td>\n",
       "      <td>M</td>\n",
       "      <td>C3</td>\n",
       "      <td>6.286561</td>\n",
       "      <td></td>\n",
       "      <td>376</td>\n",
       "      <td>377</td>\n",
       "      <td>4</td>\n",
       "      <td>3</td>\n",
       "      <td>263</td>\n",
       "      <td>264</td>\n",
       "      <td>319</td>\n",
       "      <td>345</td>\n",
       "      <td>12178</td>\n",
       "      <td></td>\n",
       "      <td>33</td>\n",
       "      <td>14</td>\n",
       "      <td>7</td>\n",
       "      <td>17</td>\n",
       "      <td>9702</td>\n",
       "      <td>L3E</td>\n",
       "      <td>7</td>\n",
       "      <td>3.0</td>\n",
       "      <td>8.285714</td>\n",
       "    </tr>\n",
       "    <tr>\n",
       "      <th>90568</th>\n",
       "      <td>NC</td>\n",
       "      <td></td>\n",
       "      <td>1801</td>\n",
       "      <td>C1CM</td>\n",
       "      <td></td>\n",
       "      <td>F</td>\n",
       "      <td>C1</td>\n",
       "      <td>5.000000</td>\n",
       "      <td>U</td>\n",
       "      <td>938</td>\n",
       "      <td>1049</td>\n",
       "      <td>5</td>\n",
       "      <td>5</td>\n",
       "      <td>451</td>\n",
       "      <td>474</td>\n",
       "      <td>499</td>\n",
       "      <td>519</td>\n",
       "      <td>16699</td>\n",
       "      <td></td>\n",
       "      <td>139</td>\n",
       "      <td>32</td>\n",
       "      <td>6</td>\n",
       "      <td>35</td>\n",
       "      <td>9702</td>\n",
       "      <td>L1G</td>\n",
       "      <td>39</td>\n",
       "      <td>6.0</td>\n",
       "      <td>96.794872</td>\n",
       "    </tr>\n",
       "  </tbody>\n",
       "</table>\n",
       "<p>90564 rows × 28 columns</p>\n",
       "</div>"
      ],
      "text/plain": [
       "      STATE PVASTATE   DOB MDMAUD RECP3 GENDER DOMAIN    INCOME HOMEOWNR  \\\n",
       "0        IL           3712   XXXX            F     T2       NaN            \n",
       "1        CA           5202   XXXX            M     S1  6.000000        H   \n",
       "2        NC              0   XXXX            M     R2  3.000000        U   \n",
       "3        CA           2801   XXXX            F     R2  1.000000        U   \n",
       "4        FL           2001   XXXX     X      F     S2  3.000000        H   \n",
       "...     ...      ...   ...    ...   ...    ...    ...       ...      ...   \n",
       "90564    FL           4803   XXXX            F     S2  6.000000        H   \n",
       "90565    AK              0   XXXX            M     C2  7.140318            \n",
       "90566    TX           5001   XXXX            M     C1  7.000000        H   \n",
       "90567    MI           3801   XXXX     X      M     C3  6.286561            \n",
       "90568    NC           1801   C1CM            F     C1  5.000000        U   \n",
       "\n",
       "        HV1   HV2  HV3  HV4   IC1   IC2   IC3   IC4    IC5 VETERANS  NUMPROM  \\\n",
       "0       479   635    3    2   307   318   349   378  12883                74   \n",
       "1      5468  5218   12   10  1088  1096  1026  1037  36175                32   \n",
       "2       497   546    2    1   251   292   292   340  11576                63   \n",
       "3      1000  1263    2    1   386   388   396   423  15130                66   \n",
       "4       576   594    4    3   240   250   293   321   9836               113   \n",
       "...     ...   ...  ...  ...   ...   ...   ...   ...    ...      ...      ...   \n",
       "90564   733   875    4    3   285   288   333   334  11390                59   \n",
       "90565   988  1025    6    6   433   481   499   535  18807                14   \n",
       "90566  1679  1723    3    3   806   836   802   849  26538                10   \n",
       "90567   376   377    4    3   263   264   319   345  12178                33   \n",
       "90568   938  1049    5    5   451   474   499   519  16699               139   \n",
       "\n",
       "       CARDPROM  CARDPM12  NUMPRM12  MAXADATE RFA_2  NGIFTALL  TIMELAG  \\\n",
       "0            27         6        14      9702   L4E        31      4.0   \n",
       "1            12         6        13      9702   L2G         3     18.0   \n",
       "2            26         6        14      9702   L4E        27     12.0   \n",
       "3            27         6        14      9702   L4E        16      9.0   \n",
       "4            43        10        25      9702   L2F        37     14.0   \n",
       "...         ...       ...       ...       ...   ...       ...      ...   \n",
       "90564        23         5        12      9702   L4D        24      3.0   \n",
       "90565         6         5        12      9702   L1G         1      6.0   \n",
       "90566         4         3         8      9702   L1F         1      6.0   \n",
       "90567        14         7        17      9702   L3E         7      3.0   \n",
       "90568        32         6        35      9702   L1G        39      6.0   \n",
       "\n",
       "         AVGGIFT  \n",
       "0       7.741935  \n",
       "1      15.666667  \n",
       "2       7.481481  \n",
       "3       6.812500  \n",
       "4       6.864865  \n",
       "...          ...  \n",
       "90564   3.375000  \n",
       "90565  25.000000  \n",
       "90566  20.000000  \n",
       "90567   8.285714  \n",
       "90568  96.794872  \n",
       "\n",
       "[90564 rows x 28 columns]"
      ]
     },
     "execution_count": 23,
     "metadata": {},
     "output_type": "execute_result"
    }
   ],
   "source": [
    "# I would apply a 'hybrid' method here, drop outliers above 80 first\n",
    "# because it's just 5 rows:\n",
    "\n",
    "data = data[data['TIMELAG'] < 80]\n",
    "data"
   ]
  },
  {
   "cell_type": "code",
   "execution_count": 24,
   "metadata": {},
   "outputs": [
    {
     "ename": "NameError",
     "evalue": "name 'MAE' is not defined",
     "output_type": "error",
     "traceback": [
      "\u001b[0;31m---------------------------------------------------------------------------\u001b[0m",
      "\u001b[0;31mNameError\u001b[0m                                 Traceback (most recent call last)",
      "\u001b[0;32m<ipython-input-24-0260e4f7b00e>\u001b[0m in \u001b[0;36m<module>\u001b[0;34m\u001b[0m\n\u001b[0;32m----> 1\u001b[0;31m \u001b[0mMAE\u001b[0m\u001b[0;34m/\u001b[0m\u001b[0mMSE\u001b[0m\u001b[0;34m/\u001b[0m\u001b[0mRMSE\u001b[0m\u001b[0;31m# getting rid o the last NaN, resulted from the interpolation:\u001b[0m\u001b[0;34m\u001b[0m\u001b[0;34m\u001b[0m\u001b[0m\n\u001b[0m\u001b[1;32m      2\u001b[0m \u001b[0mdata\u001b[0m \u001b[0;34m=\u001b[0m \u001b[0mdata\u001b[0m\u001b[0;34m.\u001b[0m\u001b[0mdropna\u001b[0m\u001b[0;34m(\u001b[0m\u001b[0;34m)\u001b[0m\u001b[0;34m\u001b[0m\u001b[0;34m\u001b[0m\u001b[0m\n",
      "\u001b[0;31mNameError\u001b[0m: name 'MAE' is not defined"
     ]
    }
   ],
   "source": [
    "#MAE/MSE/RMSE # getting rid o the last NaN, resulted from the interpolation:\n",
    "data = data.dropna()"
   ]
  },
  {
   "cell_type": "markdown",
   "metadata": {},
   "source": [
    "### Feature Engineering"
   ]
  },
  {
   "cell_type": "code",
   "execution_count": null,
   "metadata": {},
   "outputs": [],
   "source": [
    "# apply log transformation since it will make the 'outliers' interval smaller\n",
    "def log_transform(x):\n",
    "    if np.isfinite(x) and x!=0:\n",
    "        return np.log(x)\n",
    "    else:\n",
    "        return np.NAN\n",
    "\n",
    "# or\n",
    "log_transform = lambda x: np.log(x) if np.isfinite(x) and x!=0 else np.NAN"
   ]
  },
  {
   "cell_type": "code",
   "execution_count": null,
   "metadata": {},
   "outputs": [],
   "source": [
    "data1 = data.copy()\n",
    "\n",
    "data1['TIMELAG'] = data1['TIMELAG'].apply(log_transform).fillna(data1['TIMELAG'].mean())"
   ]
  },
  {
   "cell_type": "markdown",
   "metadata": {},
   "source": [
    "Why log? Easier to see skewed/exponential data, since the log is the inverse of the exponential. Also, it decreases variability.\n"
   ]
  },
  {
   "cell_type": "code",
   "execution_count": null,
   "metadata": {},
   "outputs": [],
   "source": [
    "sns.distplot(data1['TIMELAG'])"
   ]
  },
  {
   "cell_type": "code",
   "execution_count": null,
   "metadata": {},
   "outputs": [],
   "source": [
    "# below 8 might still be outliers\n",
    "data1 = data1[data1['TIMELAG'] < 6]\n",
    "data1\n",
    "# WATCH OUT! Many rows were lost... this can impact other columns."
   ]
  },
  {
   "cell_type": "markdown",
   "metadata": {},
   "source": [
    "##### Thoughts on what we've done so far:\n",
    "Have I made the right choices? Checking correlations again makes me think that NO.\n",
    "\n",
    "But to be sure I should have run the metrics of the model first, to have a threshold to compare it after each of the transformations.\n",
    "\n",
    "OBS.: Document your work or you'll get lost in it :)"
   ]
  },
  {
   "cell_type": "markdown",
   "metadata": {},
   "source": [
    "#### Scaling\n",
    "\n",
    "Below there are three techniques for scaling, you'll pick only one according to your dataset. Scaling helps the model to converge by decreasing the distance between the values. Besides improving model performance, it might also increase it's metrics."
   ]
  },
  {
   "cell_type": "code",
   "execution_count": 7,
   "metadata": {},
   "outputs": [],
   "source": [
    "from sklearn.model_selection import train_test_split\n",
    "\n",
    "X = data.drop('AVGGIFT', axis=1)\n",
    "y = data['AVGGIFT']\n",
    "\n",
    "X_train, X_test, y_train, y_test = train_test_split(X, y, test_size=0.20, random_state=42)\n",
    "\n",
    "X_train_num = X_train.select_dtypes(np.number)\n",
    "X_test_num = X_test.select_dtypes(np.number)"
   ]
  },
  {
   "cell_type": "markdown",
   "metadata": {},
   "source": [
    "##### Standardization/Standard Scaler\n",
    "\n",
    "For each column, each value in the column is subtracted by the mean of the column and then divided by the standard deviation.\n",
    " \n",
    "Works row wise, so it takes information from the whole column. It is wise to do the train/test split beforehand.\n",
    "\n",
    "You will .fit() on the training set and then .transform() both (train and test)."
   ]
  },
  {
   "cell_type": "code",
   "execution_count": 8,
   "metadata": {},
   "outputs": [
    {
     "data": {
      "text/plain": [
       "4601.0"
      ]
     },
     "execution_count": 8,
     "metadata": {},
     "output_type": "execute_result"
    }
   ],
   "source": [
    "from sklearn.preprocessing import StandardScaler\n",
    "import pickle\n",
    "\n",
    "# Pickle - you'll use it at least for these steps:\n",
    "# to save the scaler\n",
    "# to save the encoder\n",
    "# to save the model\n",
    "\n",
    "transformer = StandardScaler()\n",
    "transformer.fit(X_train_num)\n",
    "\n",
    "# saving in a pickle\n",
    "with open('std_transformer.pickle', 'wb') as file:\n",
    "    pickle.dump(transformer, file)\n",
    "    \n",
    "# loading from a pickle  \n",
    "with open('std_transformer.pickle', 'rb') as file:\n",
    "    loaded_transformer = pickle.load(file)\n",
    "\n",
    "X_train_ = loaded_transformer.transform(X_train_num)\n",
    "X_test_ = loaded_transformer.transform(X_test_num)\n",
    "\n",
    "# if you need to un-scale afterwards, speacially if you scaled target variable:\n",
    "unscaled_X_train = loaded_transformer.inverse_transform(X_train_)\n",
    "\n",
    "# it makes sense to scale the target variable as well\n",
    "unscaled_X_train[0][0]"
   ]
  },
  {
   "cell_type": "markdown",
   "metadata": {},
   "source": [
    "##### Normalization\n",
    "\n",
    "For each column, each value is divided by the magnitude of the column. The magnitude is calculated as the euclidean distance.\n",
    "\n",
    "It is calculated column wise, so it takes the values of a whole row to calculate. It is wise to do the X/y split beforehand.\n",
    "\n",
    "When using Normalizer() you might lose considerable amount of information in the dummified columns. So it might be a good idea to take the categorical columns out before scaling, and then concatenating them together again, but watch out because that too will have consequences to your model."
   ]
  },
  {
   "cell_type": "code",
   "execution_count": null,
   "metadata": {},
   "outputs": [],
   "source": [
    "from sklearn.preprocessing import Normalizer\n",
    "\n",
    "numericals = X.select_dtypes(np.number) # using only X, and not y\n",
    "\n",
    "transformer = Normalizer()\n",
    "transformer.fit(numericals)\n",
    "x_normalized = transformer.transform(numericals)"
   ]
  },
  {
   "cell_type": "markdown",
   "metadata": {},
   "source": [
    "##### Min-max scaler\n",
    "\n",
    "For each column, each value in the column is subtracted by the max of the column and then divided by the difference of max and min of the column. It is very sensitive to the presence of outliers.\n",
    "\n",
    "Works row wise, so it takes information from the whole column. It is wise to do the train/test split beforehand."
   ]
  },
  {
   "cell_type": "code",
   "execution_count": null,
   "metadata": {},
   "outputs": [],
   "source": [
    "from sklearn.preprocessing import MinMaxScaler\n",
    "\n",
    "numericals = data.select_dtypes(np.number)\n",
    "\n",
    "transformer = MinMaxScaler().fit(numericals)\n",
    "x_min_max = transformer.transform(numericals)\n",
    "x_min_max"
   ]
  },
  {
   "cell_type": "markdown",
   "metadata": {},
   "source": [
    "**REMEMBER:** if you scaled your data, you'll have to apply the same scale to the new data you'll apply the predictions to.\n",
    "\n",
    "**ALSO:** you might need to un-scale it for better readability (specially if you scaled the target variable).\n",
    "\n",
    "Some more clarification on where to use which [here](https://towardsdatascience.com/what-is-feature-scaling-why-is-it-important-in-machine-learning-2854ae877048)."
   ]
  },
  {
   "cell_type": "markdown",
   "metadata": {},
   "source": [
    "### Now, the categoricals"
   ]
  },
  {
   "cell_type": "code",
   "execution_count": null,
   "metadata": {
    "scrolled": true
   },
   "outputs": [],
   "source": [
    "for col in data.select_dtypes('object'):\n",
    "    print(data[col].value_counts(), '\\n')"
   ]
  },
  {
   "cell_type": "markdown",
   "metadata": {},
   "source": [
    "I believe that for HOMEOWNR the empty value is supposed to be 'U' for unknown, but this needs checking ofc. \n",
    " \n",
    "The problem on simply making it 'U' is that, if it isn't, you'll be inducing bias.\n",
    " \n",
    "Other options could be considering the empty space as a category of it's own.\n",
    "\n",
    "I don't think removing rows (too many) or the column (don't know correlation with the target yet) would be a good idea.\n",
    "\n",
    "I'm keeping it as a category of it's own, but for now your guess is as good as mine."
   ]
  },
  {
   "cell_type": "markdown",
   "metadata": {},
   "source": [
    "#### Bucketing"
   ]
  },
  {
   "cell_type": "markdown",
   "metadata": {},
   "source": [
    "When we have too many categories, and some are little represented, we can bucket several of them into one."
   ]
  },
  {
   "cell_type": "code",
   "execution_count": null,
   "metadata": {
    "scrolled": true
   },
   "outputs": [],
   "source": [
    "# just taking a look at the categories and counts\n",
    "categories = pd.DataFrame(data['STATE'].value_counts())\n",
    "categories.columns = ['counts']\n",
    "categories"
   ]
  },
  {
   "cell_type": "code",
   "execution_count": null,
   "metadata": {},
   "outputs": [],
   "source": [
    "# making a list with the categories i want to replace\n",
    "group_states = categories[categories['counts'] < 2000].index\n",
    "group_states"
   ]
  },
  {
   "cell_type": "markdown",
   "metadata": {},
   "source": [
    "I chose a threshold, but at this point, your guess is as good as mine (make it a reasonable one)."
   ]
  },
  {
   "cell_type": "code",
   "execution_count": null,
   "metadata": {},
   "outputs": [],
   "source": [
    "def clean_state(x):\n",
    "    if x in group_states:\n",
    "        return 'other'\n",
    "    else:\n",
    "        return x"
   ]
  },
  {
   "cell_type": "code",
   "execution_count": null,
   "metadata": {},
   "outputs": [],
   "source": [
    "data['STATE'] = data['STATE'].apply(clean_state)"
   ]
  },
  {
   "cell_type": "code",
   "execution_count": null,
   "metadata": {},
   "outputs": [],
   "source": [
    "data['STATE'].value_counts()"
   ]
  },
  {
   "cell_type": "markdown",
   "metadata": {},
   "source": [
    "#### Feature Extraction"
   ]
  },
  {
   "cell_type": "code",
   "execution_count": null,
   "metadata": {},
   "outputs": [],
   "source": [
    "# we will use the column MDMAUD and extract only the info that makes sense for us\n",
    "data['MDMAUD'].value_counts()"
   ]
  },
  {
   "cell_type": "code",
   "execution_count": null,
   "metadata": {},
   "outputs": [],
   "source": [
    "data['MDMAUD'] = data['MDMAUD'].apply(lambda x: x[0]+x[2])\n",
    "data['MDMAUD'].value_counts()"
   ]
  },
  {
   "cell_type": "markdown",
   "metadata": {},
   "source": [
    "### Feature Selection - Correlations and Multi-Colinearity"
   ]
  },
  {
   "cell_type": "markdown",
   "metadata": {},
   "source": [
    "#### Checking some correlations with our traditional methods"
   ]
  },
  {
   "cell_type": "code",
   "execution_count": null,
   "metadata": {},
   "outputs": [],
   "source": [
    "data.corr()['AVGGIFT'].sort_values(ascending=False)"
   ]
  },
  {
   "cell_type": "markdown",
   "metadata": {},
   "source": [
    "#### VIF"
   ]
  },
  {
   "cell_type": "markdown",
   "metadata": {},
   "source": [
    "VIF is used to calculate multicolinearity between features, helping on the feature selection. For that purpose, you won't have the target variable in the calculation.\n",
    "\n",
    "While the correlation methods we've seen so far (pearson, spearman, etc) calculates the correlation of one feature vs another, VIF checks correlation of many features vs another.\n",
    "\n",
    "VIF uses variation, which is calculated using the standard deviation, to return a measure of \"explainability\" of several features against another. How the spread of the values of that variable can be \"explained\" or \"predicted\" by the other variables.\n",
    "\n",
    "It is calculated through linear regression. For each feature you can imagine that a linear regression is made where that feature is considered the \"target variable\" and the other variables are considered the features.\n",
    "\n",
    "The rule of thumb is that features with VIF above 10 could be dropped without decreasing the metrics of your model, but I don't buy it... so make sure you always test your metrics before and after dropping the columns :)\n",
    "\n",
    "**IMPORTANT:** Everytime you drop a column, you need to re-calculate the VIF, because it will affect the factors from all the other columns."
   ]
  },
  {
   "cell_type": "code",
   "execution_count": null,
   "metadata": {},
   "outputs": [],
   "source": [
    "data1 = data.copy()\n",
    "numericals = data1.select_dtypes(np.number).drop(columns=['AVGGIFT'], axis=1) # 'HV2', 'IC3', 'NUMPROM', 'IC2'"
   ]
  },
  {
   "cell_type": "code",
   "execution_count": null,
   "metadata": {
    "scrolled": true
   },
   "outputs": [],
   "source": [
    "from statsmodels.stats.outliers_influence import variance_inflation_factor\n",
    "from statsmodels.tools.tools import add_constant\n",
    "\n",
    "# vif uses OLS to calculate the factor, so we don't have the intercept\n",
    "# that's why we need to assign it:\n",
    "vif_numericals = add_constant(numericals)\n",
    "vif_numericals"
   ]
  },
  {
   "cell_type": "code",
   "execution_count": null,
   "metadata": {},
   "outputs": [],
   "source": [
    "# To remove multicolinearity automatically:\n",
    "\n",
    "threshold = 30\n",
    "\n",
    "while True:\n",
    "    # calculates the vif\n",
    "    values = [variance_inflation_factor(np.array(vif_numericals), i)\n",
    "              for i in range(len(vif_numericals.columns))][1:]\n",
    "    display(pd.DataFrame(values, index=vif_numericals.columns[1:]).sort_values(0))\n",
    "    # checks if the highest vif is bigger than the threshold\n",
    "    if max(values) > threshold:\n",
    "        # finds the column that has the maximum vif\n",
    "        col_index = values.index(max(values)) + 1\n",
    "        column_name = vif_numericals.columns[col_index]\n",
    "        # drops that column\n",
    "        vif_numericals = vif_numericals.drop(column_name, axis=1)\n",
    "    else:\n",
    "        break\n",
    "\n",
    "vif_numericals"
   ]
  },
  {
   "cell_type": "code",
   "execution_count": null,
   "metadata": {},
   "outputs": [],
   "source": [
    "# or manually\n",
    "\n",
    "vif = pd.DataFrame(index=vif_numericals.columns)\n",
    "\n",
    "vif[\"VIF Factor\"] = [round(variance_inflation_factor(np.array(vif_numericals), i),2)\n",
    "                     for i in range(len(vif_numericals.columns))]"
   ]
  },
  {
   "cell_type": "code",
   "execution_count": null,
   "metadata": {},
   "outputs": [],
   "source": [
    "vif.sort_values(\"VIF Factor\")"
   ]
  },
  {
   "cell_type": "markdown",
   "metadata": {},
   "source": [
    "OBS.:\n",
    "\n",
    "Feature Engineering: transforming data from your dataset.\n",
    "\n",
    "Feature Extraction: extracting a new column from the existing data.\n",
    "\n",
    "Feature Selection: discarding the columns you won't need."
   ]
  },
  {
   "cell_type": "markdown",
   "metadata": {},
   "source": [
    "### Feature Selection - Categoricals\n",
    "#### Chi-square test:\n",
    "Chi-square test is used to determine if there is a significant relationship between two categorical variables. The test is based on a contingency table. The frequency of categories in a variable is compared to the frequencies of categories in another variable.\n",
    "\n",
    "The order in which frequencies are put in the table does not change the result of the chi-square test, so it won't consider the hierarchy for ordinal categoricals."
   ]
  },
  {
   "cell_type": "markdown",
   "metadata": {},
   "source": [
    "Contingency Table:\n",
    "![](https://i.stack.imgur.com/8YuSA.jpg)"
   ]
  },
  {
   "cell_type": "code",
   "execution_count": null,
   "metadata": {},
   "outputs": [],
   "source": [
    "# contingency table\n",
    "data_crosstab = pd.crosstab(data['DOMAIN'], data['RFA_2'], margins=True)\n",
    "data_crosstab"
   ]
  },
  {
   "cell_type": "markdown",
   "metadata": {},
   "source": [
    "With the contingency table we can check if these two variables are dependent or independent from each other. \n",
    "\n",
    "OFC we won't be checking that with our eyes, therefore, a nice way to 'measure' the dependency between the variables is a chi-squared test:"
   ]
  },
  {
   "cell_type": "code",
   "execution_count": null,
   "metadata": {},
   "outputs": [],
   "source": [
    "from scipy.stats import chi2_contingency\n",
    "\n",
    "stats, p_value, dof, frequencies = chi2_contingency(data_crosstab)\n",
    "p_value\n",
    "# the result is a low p_value, so we can assume correlation between the variables"
   ]
  },
  {
   "cell_type": "markdown",
   "metadata": {},
   "source": [
    "The p_value is used for hypothesis testing and it can be used to measure dependency between two variables. \n",
    "\n",
    "A low p_value means that there is significant relationship between two variables.\n",
    "\n",
    "A reasonable threshold for p_value is 0.05, and it's related to a confidence interval of 95%. But all this is subject for another class :)\n",
    "\n",
    "**For now:** a p_value below 0.05 means that there is a considerable correlation between two variables, and it is likely that one of them can be dropped without decreasing the metrics of the model.\n",
    "\n",
    "A more ludicrous example [here](https://statisticsbyjim.com/hypothesis-testing/chi-square-test-independence-example/)."
   ]
  },
  {
   "cell_type": "code",
   "execution_count": null,
   "metadata": {},
   "outputs": [],
   "source": [
    "# Activity 1\n",
    "# Use the Chi-Square test for measuring the salary differences between men and women.\n",
    "# Remember that chi-square works on categoricals, so maybe you want to bucket the income into categoricals\n",
    "data['INCOME'].unique()"
   ]
  },
  {
   "cell_type": "code",
   "execution_count": null,
   "metadata": {
    "scrolled": true
   },
   "outputs": [],
   "source": [
    "income = data['INCOME'].apply(lambda x: 'high' if x >= 5 else 'medium' if x >= 0 and x < 5 else 'low')\n",
    "gender = data['GENDER']\n",
    "\n",
    "data_crosstab = pd.crosstab(income, gender, margins=True)\n",
    "data_crosstab"
   ]
  },
  {
   "cell_type": "code",
   "execution_count": null,
   "metadata": {},
   "outputs": [],
   "source": [
    "stats, p_value, dof, frequencies = chi2_contingency(data_crosstab)\n",
    "p_value"
   ]
  },
  {
   "cell_type": "markdown",
   "metadata": {},
   "source": [
    "#### Dummifying"
   ]
  },
  {
   "cell_type": "code",
   "execution_count": null,
   "metadata": {},
   "outputs": [],
   "source": [
    "data = pd.get_dummies(data)"
   ]
  },
  {
   "cell_type": "markdown",
   "metadata": {},
   "source": [
    "### Training the model"
   ]
  },
  {
   "cell_type": "code",
   "execution_count": null,
   "metadata": {},
   "outputs": [],
   "source": [
    "from sklearn.model_selection import train_test_split\n",
    "\n",
    "X = data.drop('AVGGIFT', axis=1)\n",
    "y = data['AVGGIFT']\n",
    "\n",
    "X_train, X_test, y_train, y_test = train_test_split(X, y, test_size=0.20, random_state=42)"
   ]
  },
  {
   "cell_type": "markdown",
   "metadata": {},
   "source": [
    "#### Linear Regression"
   ]
  },
  {
   "cell_type": "code",
   "execution_count": null,
   "metadata": {},
   "outputs": [],
   "source": [
    "from sklearn.linear_model import LinearRegression\n",
    "\n",
    "lr = LinearRegression(random_state=42)\n",
    "lr.fit(X_train, y_train)"
   ]
  },
  {
   "cell_type": "code",
   "execution_count": null,
   "metadata": {},
   "outputs": [],
   "source": [
    "lr.score(X_test, y_test)"
   ]
  },
  {
   "cell_type": "markdown",
   "metadata": {},
   "source": [
    "#### KNN - K Nearest Neighbors\n",
    "\n",
    "KNN regressor will take the distances from the k nearest neightbors and \"average\" them for the prediction."
   ]
  },
  {
   "cell_type": "code",
   "execution_count": null,
   "metadata": {},
   "outputs": [],
   "source": [
    "from sklearn.neighbors import KNeighborsRegressor\n",
    "\n",
    "knn = KNeighborsRegressor(n_neighbors=3)\n",
    "knn.fit(X_train, y_train)"
   ]
  },
  {
   "cell_type": "code",
   "execution_count": null,
   "metadata": {},
   "outputs": [],
   "source": [
    "knn.score(X_test, y_test)\n",
    "### Ops... what could be wrong here?"
   ]
  },
  {
   "cell_type": "markdown",
   "metadata": {},
   "source": [
    "### Analyzing the results"
   ]
  },
  {
   "cell_type": "markdown",
   "metadata": {},
   "source": [
    "#### Bias-Variance Trade-Off\n",
    "\n",
    "* Bias is how wrong your predictions are. Related to how similar the average of the predictions is to the average of the actual values.\n",
    "* Variance is related to how similar the \"spread\" of the predictions is to the \"spread\" of the actual values.\n",
    "\n",
    "![](https://expoundai.files.wordpress.com/2019/05/bvcomplexitycurve-1.png?w=589)\n",
    "\n",
    "Where:\n",
    "* Total Error = sum of the residuals;\n",
    "* Model complexity = the amount of features used.\n",
    "\n",
    "Read more about it [here](https://machinelearningmastery.com/gentle-introduction-to-the-bias-variance-trade-off-in-machine-learning/)."
   ]
  },
  {
   "cell_type": "markdown",
   "metadata": {},
   "source": [
    "#### Checking for Over/Under-fitting\n",
    "\n",
    "* Overfitting is when you have a high variance but low bias. A quick way to check is to see if your train score is higher than your test score. To avoid it try having more data (rows) or removing irrelevant features.\n",
    "<br><br>\n",
    "* Underfitting is when you have a high bias but low variance. A quick way to check is to see if your test score is low. To avoid it, you will need to find out more relevant features you can add to your data.\n",
    "<br><br>\n",
    "![](https://miro.medium.com/max/700/1*UCd6KrmBxpzUpWt3bnoKEA.png)\n",
    "\n",
    "Thy good ol' [article](https://towardsdatascience.com/underfitting-and-overfitting-in-machine-learning-and-how-to-deal-with-it-6fe4a8a49dbf)."
   ]
  },
  {
   "cell_type": "code",
   "execution_count": null,
   "metadata": {},
   "outputs": [],
   "source": [
    "## Analize your results here :)\n"
   ]
  },
  {
   "cell_type": "markdown",
   "metadata": {},
   "source": [
    "### Now it's on you:\n",
    "\n",
    "- Go through this beautiful notebook and understand what's going on. You will notice that, even though I left a lot of stuff ready, they aren't being applied in the model (except for dealing with the Nans).\n",
    "<br><br>\n",
    "- You will apply different feature engineering and feature selection methods, always checking how the model reacts. Feel free to try different approaches to handle the Nans and whatever else you feel like trying out. Write stuff down as you go, and organize the notebook to your liking, so you can use it as future reference and save a lot of your future self's time!\n",
    "<br><br>\n",
    "- You will read/interpret the docs on your own for the KNN regressor. I'd focus on: understanding the n_neighbors and weights parameter.\n",
    "<br><br>\n",
    "- Check for overfitting and analize your results. Know how to explain the difference between r-squared and adjusted r-squared. [Here](https://medium.com/analytics-vidhya/r-squared-vs-adjusted-r-squared-a3ebc565677b) is a quick and light read. Also, use both metrics + the usual MAE/MSE/RMSE (make sure you can explain the difference between each).\n",
    "<br><br>\n",
    "- You have 1h30min to work on it. Keep notes so we can discuss it afterwards.\n",
    "<br><br>\n",
    " ***Good Luck!*** ¯\\\\_(ツ)_/¯\n",
    "\n"
   ]
  },
  {
   "cell_type": "markdown",
   "metadata": {},
   "source": [
    "### THE END ?"
   ]
  }
 ],
 "metadata": {
  "kernelspec": {
   "display_name": "Python 3",
   "language": "python",
   "name": "python3"
  },
  "language_info": {
   "codemirror_mode": {
    "name": "ipython",
    "version": 3
   },
   "file_extension": ".py",
   "mimetype": "text/x-python",
   "name": "python",
   "nbconvert_exporter": "python",
   "pygments_lexer": "ipython3",
   "version": "3.8.8"
  }
 },
 "nbformat": 4,
 "nbformat_minor": 4
}
