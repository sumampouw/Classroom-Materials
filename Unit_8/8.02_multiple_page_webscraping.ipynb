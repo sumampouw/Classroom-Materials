{
 "cells": [
  {
   "cell_type": "markdown",
   "metadata": {},
   "source": [
    "## WebScraping II: the reckoning"
   ]
  },
  {
   "cell_type": "code",
   "execution_count": 1,
   "metadata": {},
   "outputs": [],
   "source": [
    "from bs4 import BeautifulSoup\n",
    "import pandas as pd\n",
    "import requests\n",
    "import math"
   ]
  },
  {
   "cell_type": "markdown",
   "metadata": {},
   "source": [
    "### Requests"
   ]
  },
  {
   "cell_type": "code",
   "execution_count": 2,
   "metadata": {},
   "outputs": [
    {
     "name": "stdout",
     "output_type": "stream",
     "text": [
      "Google: 200\n",
      "NBA: 401\n",
      "Rotten Tomatoes: 403\n"
     ]
    }
   ],
   "source": [
    "import requests\n",
    "\n",
    "google = requests.get(\"https://developers.google.com\")\n",
    "print(\"Google:\", google.status_code)\n",
    "\n",
    "NBA = requests.post(\"https://api.sportsdata.io/api/nba/fantasy/json/CurrentSeason\", data={})\n",
    "print(\"NBA:\", NBA.status_code)\n",
    "\n",
    "rotten_tomato = requests.get(\"http://api.rottentomatoes.com/api/public/v1.0/lists/movies/box_office.json\")\n",
    "print(\"Rotten Tomatoes:\", rotten_tomato.status_code)"
   ]
  },
  {
   "cell_type": "markdown",
   "metadata": {},
   "source": [
    "#### Status Codes\n",
    "\n",
    "\n",
    "* 200: Everything went okay and the result has been returned (if any).\n",
    "* 301: The server is redirecting you to a different endpoint. This can happen when a company switches domain names, or an endpoint name is changed.\n",
    "* 400: The server thinks you made a bad request. This happens when you don’t send along the right data, among other things.\n",
    "* 401: You are not properly authenticated.\n",
    "* 403: The resource you’re trying to access is forbidden: you don’t have the right permissions to get it.\n",
    "* 404: The resource you tried to access doesn't exist.\n",
    "* 503: The server can't handle the request.\n"
   ]
  },
  {
   "cell_type": "code",
   "execution_count": 3,
   "metadata": {},
   "outputs": [
    {
     "data": {
      "text/plain": [
       "200"
      ]
     },
     "execution_count": 3,
     "metadata": {},
     "output_type": "execute_result"
    }
   ],
   "source": [
    "r = requests.get('https://www.imdb.com/search/title/?title_type=feature&release_date=2021-01-01,&user_rating=6.5,&num_votes=100,')\n",
    "r.status_code"
   ]
  },
  {
   "cell_type": "code",
   "execution_count": 4,
   "metadata": {},
   "outputs": [
    {
     "data": {
      "text/plain": [
       "{'Content-Type': 'text/html;charset=UTF-8', 'Transfer-Encoding': 'chunked', 'Connection': 'keep-alive', 'Server': 'Server', 'Date': 'Thu, 07 Oct 2021 13:04:19 GMT', 'x-amz-rid': 'BQ4SXJXN8G9FXE2B76CA', 'Set-Cookie': 'uu=eyJpZCI6InV1NzhmZmUyMzg0NDZkNDFlY2EwZmMiLCJwcmVmZXJlbmNlcyI6eyJmaW5kX2luY2x1ZGVfYWR1bHQiOmZhbHNlfX0=; Domain=.imdb.com; Expires=Tue, 25-Oct-2089 16:18:26 GMT; Path=/; Secure, session-id=000-0000000-0000000; Domain=.imdb.com; Expires=Tue, 25-Oct-2089 16:18:26 GMT; Path=/; Secure, session-id-time=2264331858; Domain=.imdb.com; Expires=Tue, 25-Oct-2089 16:18:26 GMT; Path=/; Secure', 'X-Frame-Options': 'SAMEORIGIN', 'Content-Security-Policy': \"frame-ancestors 'self' imdb.com *.imdb.com *.media-imdb.com withoutabox.com *.withoutabox.com amazon.com *.amazon.com amazon.co.uk *.amazon.co.uk amazon.de *.amazon.de translate.google.com images.google.com www.google.com www.google.co.uk search.aol.com bing.com www.bing.com\", 'Content-Language': 'en-US', 'Strict-Transport-Security': 'max-age=47474747; includeSubDomains; preload', 'Vary': 'Content-Type,Accept-Encoding,X-Amzn-CDN-Cache,X-Amzn-AX-Treatment,User-Agent', 'Permissions-Policy': 'interest-cohort=()', 'X-Cache': 'Miss from cloudfront', 'Via': '1.1 a9aaca288fcbd536439c73d66f5c49ec.cloudfront.net (CloudFront)', 'X-Amz-Cf-Pop': 'BOM51-C1', 'X-Amz-Cf-Id': 'YfpXX4sawcGz-AvbiWskY6HXJmaIr19kq82_ht78a1yw28SZz3ogyg=='}"
      ]
     },
     "execution_count": 4,
     "metadata": {},
     "output_type": "execute_result"
    }
   ],
   "source": [
    "r.headers"
   ]
  },
  {
   "cell_type": "code",
   "execution_count": 5,
   "metadata": {},
   "outputs": [
    {
     "data": {
      "text/plain": [
       "<RequestsCookieJar[Cookie(version=0, name='session-id', value='000-0000000-0000000', port=None, port_specified=False, domain='.imdb.com', domain_specified=True, domain_initial_dot=True, path='/', path_specified=True, secure=True, expires=3781095506, discard=False, comment=None, comment_url=None, rest={}, rfc2109=False), Cookie(version=0, name='session-id-time', value='2264331858', port=None, port_specified=False, domain='.imdb.com', domain_specified=True, domain_initial_dot=True, path='/', path_specified=True, secure=True, expires=3781095506, discard=False, comment=None, comment_url=None, rest={}, rfc2109=False), Cookie(version=0, name='uu', value='eyJpZCI6InV1NzhmZmUyMzg0NDZkNDFlY2EwZmMiLCJwcmVmZXJlbmNlcyI6eyJmaW5kX2luY2x1ZGVfYWR1bHQiOmZhbHNlfX0=', port=None, port_specified=False, domain='.imdb.com', domain_specified=True, domain_initial_dot=True, path='/', path_specified=True, secure=True, expires=3781095506, discard=False, comment=None, comment_url=None, rest={}, rfc2109=False)]>"
      ]
     },
     "execution_count": 5,
     "metadata": {},
     "output_type": "execute_result"
    }
   ],
   "source": [
    "r.cookies"
   ]
  },
  {
   "cell_type": "markdown",
   "metadata": {},
   "source": [
    "/search/title/?title_type=feature&release_date=2021-01-01,2021-12-31&user_rating=6.5,&num_votes=100,&start=151&ref_=adv_nxt"
   ]
  },
  {
   "cell_type": "code",
   "execution_count": 6,
   "metadata": {},
   "outputs": [
    {
     "data": {
      "text/plain": [
       "'517'"
      ]
     },
     "execution_count": 6,
     "metadata": {},
     "output_type": "execute_result"
    }
   ],
   "source": [
    "# firt getting the number of total results\n",
    "\n",
    "soup = BeautifulSoup(r.content, 'html.parser')\n",
    "\n",
    "soup.find('div', attrs={'class': 'desc'}).find('span').get_text().split()[-2]"
   ]
  },
  {
   "cell_type": "code",
   "execution_count": 7,
   "metadata": {},
   "outputs": [
    {
     "data": {
      "text/plain": [
       "517"
      ]
     },
     "execution_count": 7,
     "metadata": {},
     "output_type": "execute_result"
    }
   ],
   "source": [
    "total_results = int(soup.find('div', attrs={'class': 'desc'}).find('span').get_text().split()[-2])\n",
    "total_results"
   ]
  },
  {
   "cell_type": "code",
   "execution_count": 8,
   "metadata": {},
   "outputs": [
    {
     "data": {
      "text/plain": [
       "[1, 51, 101, 151, 201, 251, 301, 351, 401, 451, 501]"
      ]
     },
     "execution_count": 8,
     "metadata": {},
     "output_type": "execute_result"
    }
   ],
   "source": [
    "starts = range(1, total_results, 50) # because, 50 items per page\n",
    "list(starts)"
   ]
  },
  {
   "cell_type": "code",
   "execution_count": 9,
   "metadata": {},
   "outputs": [
    {
     "data": {
      "text/plain": [
       "516"
      ]
     },
     "execution_count": 9,
     "metadata": {},
     "output_type": "execute_result"
    }
   ],
   "source": [
    "# To get all the pages:\n",
    "\n",
    "movies = []\n",
    "\n",
    "for start in starts:\n",
    "    try:\n",
    "        r = requests.get(f'https://www.imdb.com/search/title/?title_type=feature&release_date=2021-01-01,2021-12-31&user_rating=6.5,&num_votes=100,&start={start}&ref_=adv_nxt')\n",
    "        soup = BeautifulSoup(r.content, 'html.parser')\n",
    "        movies += soup.find_all('div', attrs={'class': 'lister-item-content'})\n",
    "    except:\n",
    "        print(f'Error on page {start}.')\n",
    "        continue\n",
    "    \n",
    "len(movies)\n",
    "\n",
    "\n",
    "# To get all the pages:\n",
    "\n",
    "movies = []\n",
    "\n",
    "for start in starts:\n",
    "    \n",
    "    r = requests.get(f'https://www.imdb.com/search/title/?title_type=feature&release_date=2021-01-01,2021-12-31&user_rating=6.5,&num_votes=100,&start={start}&ref_=adv_nxt')\n",
    "    \n",
    "    if r.status_code == 200:\n",
    "        soup = BeautifulSoup(r.content, 'html.parser')\n",
    "        movies += soup.find_all('div', attrs={'class': 'lister-item-content'})\n",
    "    else:\n",
    "        print(f'Error on page {start}.')\n",
    "        continue\n",
    "    \n",
    "len(movies)"
   ]
  },
  {
   "cell_type": "code",
   "execution_count": 10,
   "metadata": {},
   "outputs": [
    {
     "data": {
      "text/plain": [
       "<div class=\"lister-item-content\">\n",
       "<h3 class=\"lister-item-header\">\n",
       "<span class=\"lister-item-index unbold text-primary\">1.</span>\n",
       "<a href=\"/title/tt2382320/\">No Time to Die</a>\n",
       "<span class=\"lister-item-year text-muted unbold\">(2021)</span>\n",
       "</h3>\n",
       "<p class=\"text-muted\">\n",
       "<span class=\"certificate\">UA</span>\n",
       "<span class=\"ghost\">|</span>\n",
       "<span class=\"runtime\">163 min</span>\n",
       "<span class=\"ghost\">|</span>\n",
       "<span class=\"genre\">\n",
       "Action, Adventure, Thriller            </span>\n",
       "</p>\n",
       "<div class=\"ratings-bar\">\n",
       "<div class=\"inline-block ratings-imdb-rating\" data-value=\"7.6\" name=\"ir\">\n",
       "<span class=\"global-sprite rating-star imdb-rating\"></span>\n",
       "<strong>7.6</strong>\n",
       "</div>\n",
       "<div class=\"inline-block ratings-user-rating\">\n",
       "<span class=\"userRatingValue\" data-tconst=\"tt2382320\" id=\"urv_tt2382320\">\n",
       "<span class=\"global-sprite rating-star no-rating\"></span>\n",
       "<span class=\"rate\" data-no-rating=\"Rate this\" data-value=\"0\" name=\"ur\">Rate this</span>\n",
       "</span>\n",
       "<div class=\"starBarWidget\" id=\"sb_tt2382320\">\n",
       "<div class=\"rating rating-list\" data-csrf-token=\"\" data-ga-identifier=\"\" data-starbar-class=\"rating-list\" data-user=\"\" id=\"tt2382320|imdb|7.6|7.6|adv_li_tt||advsearch|title\" itemprop=\"aggregateRating\" itemscope=\"\" itemtype=\"http://schema.org/AggregateRating\" title=\"Users rated this 7.6/10 (48,077 votes) - click stars to rate\">\n",
       "<meta content=\"7.6\" itemprop=\"ratingValue\"/>\n",
       "<meta content=\"10\" itemprop=\"bestRating\"/>\n",
       "<meta content=\"48077\" itemprop=\"ratingCount\"/>\n",
       "<span class=\"rating-bg\"> </span>\n",
       "<span class=\"rating-imdb\" style=\"width: 106.4px\"> </span>\n",
       "<span class=\"rating-stars\">\n",
       "<a href=\"/register/login?why=vote\" rel=\"nofollow\" title=\"Register or login to rate this title\"><span>1</span></a>\n",
       "<a href=\"/register/login?why=vote\" rel=\"nofollow\" title=\"Register or login to rate this title\"><span>2</span></a>\n",
       "<a href=\"/register/login?why=vote\" rel=\"nofollow\" title=\"Register or login to rate this title\"><span>3</span></a>\n",
       "<a href=\"/register/login?why=vote\" rel=\"nofollow\" title=\"Register or login to rate this title\"><span>4</span></a>\n",
       "<a href=\"/register/login?why=vote\" rel=\"nofollow\" title=\"Register or login to rate this title\"><span>5</span></a>\n",
       "<a href=\"/register/login?why=vote\" rel=\"nofollow\" title=\"Register or login to rate this title\"><span>6</span></a>\n",
       "<a href=\"/register/login?why=vote\" rel=\"nofollow\" title=\"Register or login to rate this title\"><span>7</span></a>\n",
       "<a href=\"/register/login?why=vote\" rel=\"nofollow\" title=\"Register or login to rate this title\"><span>8</span></a>\n",
       "<a href=\"/register/login?why=vote\" rel=\"nofollow\" title=\"Register or login to rate this title\"><span>9</span></a>\n",
       "<a href=\"/register/login?why=vote\" rel=\"nofollow\" title=\"Register or login to rate this title\"><span>10</span></a>\n",
       "</span>\n",
       "<span class=\"rating-rating\"><span class=\"value\">7.6</span><span class=\"grey\">/</span><span class=\"grey\">10</span></span>\n",
       "<span class=\"rating-cancel\"><a href=\"/title/tt2382320/vote\" rel=\"nofollow\" title=\"Delete\"><span>X</span></a></span>\n",
       " </div>\n",
       "</div>\n",
       "</div>\n",
       "<div class=\"inline-block ratings-metascore\">\n",
       "<span class=\"metascore favorable\">70        </span>\n",
       "        Metascore\n",
       "            </div>\n",
       "</div>\n",
       "<p class=\"text-muted\">\n",
       "James Bond has left active service. His peace is short-lived when Felix Leiter, an old friend from the CIA, turns up asking for help, leading Bond onto the trail of a mysterious villain armed with dangerous new technology.</p>\n",
       "<p class=\"\">\n",
       "    Director:\n",
       "<a href=\"/name/nm1560977/\">Cary Joji Fukunaga</a>\n",
       "<span class=\"ghost\">|</span> \n",
       "    Stars:\n",
       "<a href=\"/name/nm0185819/\">Daniel Craig</a>, \n",
       "<a href=\"/name/nm1869101/\">Ana de Armas</a>, \n",
       "<a href=\"/name/nm1785339/\">Rami Malek</a>, \n",
       "<a href=\"/name/nm2244205/\">Léa Seydoux</a>\n",
       "</p>\n",
       "<p class=\"sort-num_votes-visible\">\n",
       "<span class=\"text-muted\">Votes:</span>\n",
       "<span data-value=\"48077\" name=\"nv\">48,077</span>\n",
       "</p>\n",
       "</div>"
      ]
     },
     "execution_count": 10,
     "metadata": {},
     "output_type": "execute_result"
    }
   ],
   "source": [
    "movies[0]"
   ]
  },
  {
   "cell_type": "code",
   "execution_count": 13,
   "metadata": {},
   "outputs": [
    {
     "name": "stdout",
     "output_type": "stream",
     "text": [
      "No Time to Die\n",
      "Dune\n",
      "Free Guy\n",
      "The Many Saints of Newark\n",
      "Venom: Let There Be Carnage\n",
      "Shang-Chi and the Legend of the Ten Rings\n",
      "The Last Duel\n",
      "The Suicide Squad\n",
      "Cruella\n",
      "Halloween Kills\n",
      "The Green Knight\n",
      "My Little Pony: A New Generation\n",
      "Titane\n",
      "The French Dispatch\n",
      "Black Widow\n",
      "Jungle Cruise\n",
      "Pig\n",
      "Last Night in Soho\n",
      "Wrath of Man\n",
      "Copshop\n",
      "The Eyes of Tammy Faye\n",
      "The Tomorrow War\n",
      "Nobody\n",
      "Zack Snyder's Justice League\n",
      "The Power of the Dog\n",
      "CODA\n",
      "Lamb\n",
      "Shershaah\n",
      "The Electrical Life of Louis Wain\n",
      "Luca\n",
      "Stillwater\n",
      "Chehre\n",
      "Raya and the Last Dragon\n",
      "Benedetta\n",
      "Respect\n",
      "Bhoot Police\n",
      "Toma\n",
      "Old Henry\n",
      "Vivo\n",
      "The Medium\n",
      "The Witcher: Nightmare of the Wolf\n",
      "The Mauritanian\n",
      "No Sudden Move\n",
      "In the Heights\n",
      "Love Story\n",
      "Ich bin dein Mensch\n",
      "Shiddat\n",
      "Blue Bayou\n",
      "Le bal des folles\n",
      "Fear Street: 1978\n",
      "The Last Letter from Your Lover\n",
      "Belfast\n",
      "Judas and the Black Messiah\n",
      "Mass\n",
      "Midnight\n",
      "Boku no Hero Academia: World Heroes Mission\n",
      "The Mitchells vs the Machines\n",
      "Cherry\n",
      "Together\n",
      "The Dig\n",
      "Verdens verste menneske\n",
      "Fear Street: 1666\n",
      "Oxygène\n",
      "Babardeala cu bucluc sau porno balamuc\n",
      "C'mon C'mon\n",
      "Red Rocket\n",
      "12 Mighty Orphans\n",
      "Qismat 2\n",
      "Small Engine Repair\n",
      "Passing\n",
      "Eiffel\n",
      "Bergman Island\n",
      "Fatherhood\n",
      "Doraibu mai kâ\n",
      "Wish Dragon\n",
      "Palmer\n",
      "If I Can't Have Love, I Want Power\n",
      "Rise of the Footsoldier: Origins\n",
      "People Just Do Nothing: Big in Japan\n",
      "None\n",
      "Nitram\n",
      "Mimi\n",
      "Mortal Kombat Legends: Battle of the Realms\n",
      "Come from Away\n",
      "Nou fo\n",
      "Helmet\n",
      "Pleasure\n",
      "Boîte noire\n",
      "Sunny\n",
      "Seungriho\n",
      "Malcolm & Marie\n",
      "Rurôni Kenshin: Sai shûshô - The Beginning\n",
      "The Auschwitz Report\n",
      "Memoria\n",
      "Firebird\n",
      "Sweetheart\n",
      "Shin Evangelion Gekijôban\n",
      "Here Today\n",
      "Vortex\n",
      "È stata la mano di Dio\n",
      "Moxie\n",
      "Maestro\n",
      "Haseen Dillruba\n",
      "Together Together\n",
      "The White Tiger\n",
      "Bad Trip\n",
      "Rurôni Kenshin: Sai shûshô - The Final\n",
      "Maixabel\n",
      "Petite maman\n",
      "Happier Than Ever: A Love Letter to Los Angeles\n",
      "Ryû to sobakasu no hime\n",
      "The Map of Tiny Perfect Things\n",
      "Land\n",
      "Lift\n",
      "The Fallout\n",
      "Man of God\n",
      "Kaanekkaane\n",
      "Blue Miracle\n",
      "Raame Aandalum Raavane Aandalum\n",
      "Chal Mera Putt 3\n",
      "Trollhunters: Rise of the Titans\n",
      "Schachnovelle\n",
      "Ferry\n",
      "Republic\n",
      "The Sadness\n",
      "Star-Crossed: The Film\n",
      "Implanted\n",
      "Long Story Short\n",
      "Margrete den første\n",
      "Sarpatta Parambarai\n",
      "Swan Song\n",
      "I onde dager\n",
      "Mogadishu\n",
      "De uskyldige\n",
      "Gekijouban Nanatsu no Taizai: Hikari ni Norowareshi Mono-tachi\n",
      "Mad God\n",
      "#Home\n",
      "Necista krv: Greh predaka\n",
      "Noche de fuego\n",
      "Recalled\n",
      "Plan B\n",
      "Hytti nro 6\n",
      "Les Olympiades, Paris 13e\n",
      "Seetharaam Benoy Case Number Eighteen\n",
      "Born a Champion\n",
      "Azor\n",
      "Die Heimsuchung\n",
      "The Last Bus\n",
      "The Man with the Answers\n",
      "Language Lessons\n",
      "Kodiyil Oruvan\n",
      "Downfalls High\n",
      "200: Halla Ho\n",
      "The Cursed\n",
      "State of Siege: Temple Attack\n",
      "L'événement\n",
      "De Veroordeling\n",
      "Xuan ya zhi shang\n",
      "Competencia oficial\n",
      "Sivakumarin Sabadham\n",
      "Nr. 10\n",
      "None\n",
      "Aakashavaani\n",
      "14 Phere\n",
      "Nebenan\n",
      "2gether: The Movie\n",
      "The Priest\n",
      "Fabian oder Der Gang vor die Hunde\n",
      "Le sommet des dieux\n",
      "Karnan\n",
      "Haathi Mere Saathi\n",
      "Gûzen to sôzô\n",
      "Moosa Jatt\n",
      "Murina\n",
      "Malik\n",
      "Tokyo Revengers\n",
      "Întregalde\n",
      "Le Guide de la famille parfaite\n",
      "Seetimaarr\n",
      "Rudra Thandavam\n",
      "The Journey\n",
      "Kuruthi\n",
      "Mijn beste vriendin Anne Frank\n",
      "Zeby nie bylo sladów\n",
      "Xin shen bang: Ne Zha chong sheng\n",
      "Charming the Hearts of Men\n",
      "Dang nan ren lian ai shi\n",
      "Délicieux\n",
      "Tesciowie\n",
      "None\n",
      "To Olivia\n",
      "Grosse Freiheit\n",
      "Skater Girl\n",
      "Dikkiloona\n",
      "Palma\n",
      "Ninjababy\n",
      "The Novice\n",
      "Bhramam\n",
      "Thimmarusu: Assignment Vali\n",
      "Ajeeb Daastaans\n",
      "Kaamelott - Premier volet\n",
      "Master\n",
      "Petrovy v grippe\n",
      "Kasada Thapara\n",
      "Pagglait\n",
      "Loco por ella\n",
      "Ji hun\n",
      "Toxikoma\n",
      "Kagittan Hayatlar\n",
      "Nail Polish\n",
      "Silence: Can You Hear It\n",
      "Sweet & Sour\n",
      "Clairevoyant\n",
      "Drishyam 2\n",
      "Qui rido io\n",
      "Kaadan\n",
      "Bem Bom\n",
      "Smagen af sult\n",
      "Joji\n",
      "Kidô senshi Gandamu: Senkô no Hasauei\n",
      "A Chiara\n",
      "Friendship\n",
      "Raja Raja Chora\n",
      "Nayattu\n",
      "On the Count of Three\n",
      "First Signal\n",
      "Illusions perdues\n",
      "Ras vkhedavt, rodesac cas vukurebt?\n",
      "Kaagaz\n",
      "Ternet Ninja 2\n",
      "Onoda, 10 000 nuits dans la jungle\n",
      "Where Is Anne Frank\n",
      "June\n",
      "Juzni vetar 2: Ubrzanje\n",
      "Thittam Irandu\n",
      "Mission Possible\n",
      "Gekijouban Bishoujo Senshi Sailor Moon Eternal\n",
      "The Pebble and the Boy\n",
      "Jockey\n",
      "Gintama: The Final\n",
      "Najmro: Kocha, kradnie, szanuje\n",
      "El Planeta\n",
      "Mandela\n",
      "Hive\n",
      "Sherni\n",
      "Droste no hate de bokura\n",
      "Luzzu\n",
      "The Demented\n",
      "The Thing: O Regresso\n",
      "Tunka Tunka\n",
      "Hanataba Mitai na ki wo Shita\n",
      "Asmee\n",
      "Limbo\n",
      "Orey Bamardhi\n",
      "Marfa\n",
      "Sundari\n",
      "Munshigiri\n",
      "Zebra Girl\n",
      "Gully Rowdy\n",
      "My True Fairytale\n",
      "Ingenting å le av\n",
      "Mousa\n",
      "Cousins\n",
      "Sokea mies joka ei halunnut nähdä Titanicia\n",
      "The Knower\n",
      "Panchhi\n",
      "Gameboys: The Movie\n",
      "Unclenching the Fists\n",
      "America Latina\n",
      "Mukhosh\n",
      "Bai She 2: Qing She jie qi\n",
      "The Great Indian Kitchen\n",
      "Ni hao, Li Huan Ying\n",
      "Korô no chi: Level 2\n",
      "Pagten\n",
      "After Masks\n",
      "Yaar Anmulle Returns\n",
      "Brother's Keeper\n",
      "Hotel Coppelia\n",
      "Chavalas\n",
      "A Stand Worthy of Men (wa'fet regala)\n",
      "Sheng xia wei lai\n",
      "Narappa\n",
      "Rang De\n",
      "Potato Dreams of America\n",
      "Dear Megha\n",
      "The Box\n",
      "Wish You\n",
      "B.A. Pass 3\n",
      "The Ultimate Playlist of Noise\n",
      "One\n",
      "Some of Our Stallions\n",
      "The Book of Fish\n",
      "Motherly\n",
      "Endless Rain\n",
      "Narasimhapuram\n",
      "Vakeel Saab\n",
      "Chakra\n",
      "None\n",
      "Networker Baire\n",
      "Sridevi Soda Center\n",
      "Operation Java\n",
      "Cinderella\n",
      "Die Frau des Piloten\n",
      "One for the Road\n",
      "Zátopek\n",
      "Marathon\n",
      "Ali & the Queens\n",
      "Cosmic Radio\n",
      "Crazy Uncles\n",
      "Kaiserschmarrndrama\n",
      "Ksheera Sagara Madhanam\n",
      "Faactory\n",
      "Luizenmoeder - De film\n",
      "Marvelous and the Black Hole\n",
      "Octonauts: The Ring of Fire\n",
      "Ninnila Ninnila\n",
      "Jathi Ratnalu\n",
      "Ikkat\n",
      "Uppena\n",
      "Munduvareda Adhyaya\n",
      "Koozhangal\n",
      "Donny's Bar Mitzvah\n",
      "House Arrest\n",
      "Kala\n",
      "Cosas imposibles\n",
      "Meitantei Conan: Hiiro no dangan\n",
      "Krack\n",
      "Groufie\n",
      "Zero to Hero\n",
      "Vaazhl\n",
      "Maara\n",
      "Hvor kragerne vender\n",
      "Aarkkariyam\n",
      "Naandhi\n",
      "Zombie Reddy\n",
      "Flight\n",
      "Mugguru Monagallu\n"
     ]
    },
    {
     "ename": "AttributeError",
     "evalue": "'NoneType' object has no attribute 'get_text'",
     "output_type": "error",
     "traceback": [
      "\u001b[0;31m---------------------------------------------------------------------------\u001b[0m",
      "\u001b[0;31mAttributeError\u001b[0m                            Traceback (most recent call last)",
      "\u001b[0;32m<ipython-input-13-0a56fd74e65a>\u001b[0m in \u001b[0;36m<module>\u001b[0;34m\u001b[0m\n\u001b[1;32m      8\u001b[0m     \u001b[0mtitles\u001b[0m\u001b[0;34m.\u001b[0m\u001b[0mappend\u001b[0m\u001b[0;34m(\u001b[0m\u001b[0mmovie\u001b[0m\u001b[0;34m.\u001b[0m\u001b[0mfind\u001b[0m\u001b[0;34m(\u001b[0m\u001b[0;34m'h3'\u001b[0m\u001b[0;34m)\u001b[0m\u001b[0;34m.\u001b[0m\u001b[0mfind\u001b[0m\u001b[0;34m(\u001b[0m\u001b[0;34m'a'\u001b[0m\u001b[0;34m)\u001b[0m\u001b[0;34m.\u001b[0m\u001b[0mget_text\u001b[0m\u001b[0;34m(\u001b[0m\u001b[0;34m)\u001b[0m\u001b[0;34m)\u001b[0m\u001b[0;34m\u001b[0m\u001b[0;34m\u001b[0m\u001b[0m\n\u001b[1;32m      9\u001b[0m     \u001b[0mratings\u001b[0m\u001b[0;34m.\u001b[0m\u001b[0mappend\u001b[0m\u001b[0;34m(\u001b[0m\u001b[0mmovie\u001b[0m\u001b[0;34m.\u001b[0m\u001b[0mfind\u001b[0m\u001b[0;34m(\u001b[0m\u001b[0;34m'strong'\u001b[0m\u001b[0;34m)\u001b[0m\u001b[0;34m.\u001b[0m\u001b[0mget_text\u001b[0m\u001b[0;34m(\u001b[0m\u001b[0;34m)\u001b[0m\u001b[0;34m)\u001b[0m\u001b[0;34m\u001b[0m\u001b[0;34m\u001b[0m\u001b[0m\n\u001b[0;32m---> 10\u001b[0;31m     \u001b[0mgenres\u001b[0m\u001b[0;34m.\u001b[0m\u001b[0mappend\u001b[0m\u001b[0;34m(\u001b[0m\u001b[0mmovie\u001b[0m\u001b[0;34m.\u001b[0m\u001b[0mfind\u001b[0m\u001b[0;34m(\u001b[0m\u001b[0;34m'span'\u001b[0m\u001b[0;34m,\u001b[0m \u001b[0mattrs\u001b[0m\u001b[0;34m=\u001b[0m\u001b[0;34m{\u001b[0m\u001b[0;34m'class'\u001b[0m\u001b[0;34m:\u001b[0m \u001b[0;34m'genre'\u001b[0m\u001b[0;34m}\u001b[0m\u001b[0;34m)\u001b[0m\u001b[0;34m.\u001b[0m\u001b[0mget_text\u001b[0m\u001b[0;34m(\u001b[0m\u001b[0mstrip\u001b[0m\u001b[0;34m=\u001b[0m\u001b[0;32mTrue\u001b[0m\u001b[0;34m)\u001b[0m\u001b[0;34m)\u001b[0m\u001b[0;34m\u001b[0m\u001b[0;34m\u001b[0m\u001b[0m\n\u001b[0m\u001b[1;32m     11\u001b[0m     \u001b[0mlinks\u001b[0m\u001b[0;34m.\u001b[0m\u001b[0mappend\u001b[0m\u001b[0;34m(\u001b[0m\u001b[0;34m'http://www.imdb.com'\u001b[0m \u001b[0;34m+\u001b[0m \u001b[0mmovie\u001b[0m\u001b[0;34m.\u001b[0m\u001b[0mfind\u001b[0m\u001b[0;34m(\u001b[0m\u001b[0;34m'h3'\u001b[0m\u001b[0;34m,\u001b[0m \u001b[0mattrs\u001b[0m\u001b[0;34m=\u001b[0m\u001b[0;34m{\u001b[0m\u001b[0;34m'class'\u001b[0m\u001b[0;34m:\u001b[0m \u001b[0;34m'lister-item-header'\u001b[0m\u001b[0;34m}\u001b[0m\u001b[0;34m)\u001b[0m\u001b[0;34m.\u001b[0m\u001b[0mfind\u001b[0m\u001b[0;34m(\u001b[0m\u001b[0;34m'a'\u001b[0m\u001b[0;34m)\u001b[0m\u001b[0;34m.\u001b[0m\u001b[0mget\u001b[0m\u001b[0;34m(\u001b[0m\u001b[0;34m'href'\u001b[0m\u001b[0;34m)\u001b[0m\u001b[0;34m)\u001b[0m\u001b[0;34m\u001b[0m\u001b[0;34m\u001b[0m\u001b[0m\n\u001b[1;32m     12\u001b[0m     \u001b[0;32mif\u001b[0m \u001b[0mmovie\u001b[0m\u001b[0;34m.\u001b[0m\u001b[0mfind\u001b[0m\u001b[0;34m(\u001b[0m\u001b[0;34m'span'\u001b[0m\u001b[0;34m,\u001b[0m \u001b[0mattrs\u001b[0m\u001b[0;34m=\u001b[0m\u001b[0;34m{\u001b[0m\u001b[0;34m'class'\u001b[0m\u001b[0;34m:\u001b[0m \u001b[0;34m'runtime'\u001b[0m\u001b[0;34m}\u001b[0m\u001b[0;34m)\u001b[0m \u001b[0;34m!=\u001b[0m \u001b[0;32mNone\u001b[0m\u001b[0;34m:\u001b[0m\u001b[0;34m\u001b[0m\u001b[0;34m\u001b[0m\u001b[0m\n",
      "\u001b[0;31mAttributeError\u001b[0m: 'NoneType' object has no attribute 'get_text'"
     ]
    }
   ],
   "source": [
    "titles = []\n",
    "ratings = []\n",
    "genres = []\n",
    "runtimes = []\n",
    "links = []\n",
    "\n",
    "for movie in movies:\n",
    "    titles.append(movie.find('h3').find('a').get_text())\n",
    "    ratings.append(movie.find('strong').get_text())\n",
    "    genres.append(movie.find('span', attrs={'class': 'genre'}).get_text(strip=True))\n",
    "    links.append('http://www.imdb.com' + movie.find('h3', attrs={'class': 'lister-item-header'}).find('a').get('href'))\n",
    "    if movie.find('span', attrs={'class': 'runtime'}) != None:\n",
    "        runtimes.append(movie.find('span', attrs={'class': 'runtime'}).get_text())\n",
    "        print(titles[-1])\n",
    "    else:\n",
    "        print(movie.find('span', attrs={'class': 'runtime'}))\n",
    "        runtimes.append('Not informed.')"
   ]
  },
  {
   "cell_type": "code",
   "execution_count": 18,
   "metadata": {},
   "outputs": [],
   "source": [
    "x = min(len(titles), len(ratings), len(genres), len(runtimes))"
   ]
  },
  {
   "cell_type": "code",
   "execution_count": 19,
   "metadata": {},
   "outputs": [
    {
     "data": {
      "text/html": [
       "<div>\n",
       "<style scoped>\n",
       "    .dataframe tbody tr th:only-of-type {\n",
       "        vertical-align: middle;\n",
       "    }\n",
       "\n",
       "    .dataframe tbody tr th {\n",
       "        vertical-align: top;\n",
       "    }\n",
       "\n",
       "    .dataframe thead th {\n",
       "        text-align: right;\n",
       "    }\n",
       "</style>\n",
       "<table border=\"1\" class=\"dataframe\">\n",
       "  <thead>\n",
       "    <tr style=\"text-align: right;\">\n",
       "      <th></th>\n",
       "      <th>title</th>\n",
       "      <th>rating</th>\n",
       "      <th>genre</th>\n",
       "      <th>runtime</th>\n",
       "    </tr>\n",
       "  </thead>\n",
       "  <tbody>\n",
       "    <tr>\n",
       "      <th>0</th>\n",
       "      <td>No Time to Die</td>\n",
       "      <td>7.6</td>\n",
       "      <td>Action, Adventure, Thriller</td>\n",
       "      <td>163 min</td>\n",
       "    </tr>\n",
       "    <tr>\n",
       "      <th>1</th>\n",
       "      <td>Dune</td>\n",
       "      <td>8.4</td>\n",
       "      <td>Action, Adventure, Drama</td>\n",
       "      <td>155 min</td>\n",
       "    </tr>\n",
       "    <tr>\n",
       "      <th>2</th>\n",
       "      <td>Free Guy</td>\n",
       "      <td>7.3</td>\n",
       "      <td>Action, Adventure, Comedy</td>\n",
       "      <td>115 min</td>\n",
       "    </tr>\n",
       "    <tr>\n",
       "      <th>3</th>\n",
       "      <td>The Many Saints of Newark</td>\n",
       "      <td>6.5</td>\n",
       "      <td>Crime, Drama</td>\n",
       "      <td>120 min</td>\n",
       "    </tr>\n",
       "    <tr>\n",
       "      <th>4</th>\n",
       "      <td>Venom: Let There Be Carnage</td>\n",
       "      <td>6.6</td>\n",
       "      <td>Action, Adventure, Sci-Fi</td>\n",
       "      <td>97 min</td>\n",
       "    </tr>\n",
       "    <tr>\n",
       "      <th>...</th>\n",
       "      <td>...</td>\n",
       "      <td>...</td>\n",
       "      <td>...</td>\n",
       "      <td>...</td>\n",
       "    </tr>\n",
       "    <tr>\n",
       "      <th>333</th>\n",
       "      <td>Aarkkariyam</td>\n",
       "      <td>6.9</td>\n",
       "      <td>Crime, Drama</td>\n",
       "      <td>126 min</td>\n",
       "    </tr>\n",
       "    <tr>\n",
       "      <th>334</th>\n",
       "      <td>Naandhi</td>\n",
       "      <td>8.3</td>\n",
       "      <td>Crime, Drama, Thriller</td>\n",
       "      <td>146 min</td>\n",
       "    </tr>\n",
       "    <tr>\n",
       "      <th>335</th>\n",
       "      <td>Zombie Reddy</td>\n",
       "      <td>6.9</td>\n",
       "      <td>Action, Comedy, Horror</td>\n",
       "      <td>130 min</td>\n",
       "    </tr>\n",
       "    <tr>\n",
       "      <th>336</th>\n",
       "      <td>Flight</td>\n",
       "      <td>8.3</td>\n",
       "      <td>Action, Thriller</td>\n",
       "      <td>116 min</td>\n",
       "    </tr>\n",
       "    <tr>\n",
       "      <th>337</th>\n",
       "      <td>Mugguru Monagallu</td>\n",
       "      <td>8.8</td>\n",
       "      <td>Comedy, Thriller</td>\n",
       "      <td>120 min</td>\n",
       "    </tr>\n",
       "  </tbody>\n",
       "</table>\n",
       "<p>338 rows × 4 columns</p>\n",
       "</div>"
      ],
      "text/plain": [
       "                           title rating                        genre  runtime\n",
       "0                 No Time to Die    7.6  Action, Adventure, Thriller  163 min\n",
       "1                           Dune    8.4     Action, Adventure, Drama  155 min\n",
       "2                       Free Guy    7.3    Action, Adventure, Comedy  115 min\n",
       "3      The Many Saints of Newark    6.5                 Crime, Drama  120 min\n",
       "4    Venom: Let There Be Carnage    6.6    Action, Adventure, Sci-Fi   97 min\n",
       "..                           ...    ...                          ...      ...\n",
       "333                  Aarkkariyam    6.9                 Crime, Drama  126 min\n",
       "334                      Naandhi    8.3       Crime, Drama, Thriller  146 min\n",
       "335                 Zombie Reddy    6.9       Action, Comedy, Horror  130 min\n",
       "336                       Flight    8.3             Action, Thriller  116 min\n",
       "337            Mugguru Monagallu    8.8             Comedy, Thriller  120 min\n",
       "\n",
       "[338 rows x 4 columns]"
      ]
     },
     "execution_count": 19,
     "metadata": {},
     "output_type": "execute_result"
    }
   ],
   "source": [
    "dct = {'title': titles[:x], 'rating': ratings[:x], 'genre': genres[:x], 'runtime': runtimes[:x]}\n",
    "\n",
    "df = pd.DataFrame.from_dict(dct)\n",
    "df"
   ]
  },
  {
   "cell_type": "code",
   "execution_count": 23,
   "metadata": {},
   "outputs": [
    {
     "data": {
      "text/plain": [
       "['http://www.imdb.com/title/tt2382320/']"
      ]
     },
     "execution_count": 23,
     "metadata": {},
     "output_type": "execute_result"
    }
   ],
   "source": [
    "links[:1]"
   ]
  },
  {
   "cell_type": "code",
   "execution_count": null,
   "metadata": {},
   "outputs": [],
   "source": [
    "<ul class=\"ipc-inline-list ipc-inline-list--show-dividers ipc-inline-list--inline ipc-metadata-list-item__list-content baseAlt\" role=\"presentation\"><li role=\"presentation\" class=\"ipc-inline-list__item\"><a class=\"ipc-metadata-list-item__list-content-item ipc-metadata-list-item__list-content-item--link\" rel=\"\" href=\"/name/nm1560977/?ref_=tt_ov_dr\">Cary Joji Fukunaga</a></li></ul>"
   ]
  },
  {
   "cell_type": "code",
   "execution_count": 37,
   "metadata": {},
   "outputs": [
    {
     "name": "stdout",
     "output_type": "stream",
     "text": [
      "['Cary Joji Fukunaga']\n",
      "['Denis Villeneuve']\n"
     ]
    }
   ],
   "source": [
    "for link in links[:2]:\n",
    "    r = requests.get(link)\n",
    "    soup = BeautifulSoup(r.content, 'html.parser')\n",
    "    soup1 = soup.find('li', attrs={'class':'ipc-metadata-list__item'})\n",
    "    directors = [element.get_text() for element in soup1.find_all('a', attrs={'class':'ipc-metadata-list-item__list-content-item ipc-metadata-list-item__list-content-item--link'})]\n",
    "#     directors = [element.get_text() for element in soup.find_all('a', attrs={'class':'ipc-metadata-list__item'})]\n",
    "#     directors = [element.get_text() for element in soup.find('div', attrs={'class': 'credit_summary_item'}).find_all('a')]\n",
    "#     print(soup.find('a', attrs={'class':'ipc-metadata-list-item__list-content-item ipc-metadata-list-item__list-content-item--link'}).get_text())\n",
    "    print(directors)"
   ]
  },
  {
   "cell_type": "code",
   "execution_count": 38,
   "metadata": {},
   "outputs": [],
   "source": [
    "directors = []\n",
    "for movie in movies[:9]:\n",
    "    directors.append([element.strip().replace(',', '') for element in movie.find('p', attrs={'class':''}).get_text().strip().split('|')[0].split('\\n')[1:-1]])"
   ]
  },
  {
   "cell_type": "code",
   "execution_count": 39,
   "metadata": {},
   "outputs": [
    {
     "data": {
      "text/plain": [
       "[['Cary Joji Fukunaga'],\n",
       " ['Denis Villeneuve'],\n",
       " ['Shawn Levy'],\n",
       " ['Alan Taylor'],\n",
       " ['Andy Serkis'],\n",
       " ['Destin Daniel Cretton'],\n",
       " ['Ridley Scott'],\n",
       " ['James Gunn'],\n",
       " ['Craig Gillespie']]"
      ]
     },
     "execution_count": 39,
     "metadata": {},
     "output_type": "execute_result"
    }
   ],
   "source": [
    "directors"
   ]
  },
  {
   "cell_type": "code",
   "execution_count": 40,
   "metadata": {},
   "outputs": [
    {
     "data": {
      "text/plain": [
       "['Craig Gillespie']"
      ]
     },
     "execution_count": 40,
     "metadata": {},
     "output_type": "execute_result"
    }
   ],
   "source": [
    "movie.find('p', attrs={'class':''}).get_text().strip().split('|')[0].split('\\n')[1:-1]"
   ]
  },
  {
   "cell_type": "code",
   "execution_count": null,
   "metadata": {},
   "outputs": [],
   "source": []
  },
  {
   "cell_type": "code",
   "execution_count": null,
   "metadata": {},
   "outputs": [],
   "source": []
  }
 ],
 "metadata": {
  "kernelspec": {
   "display_name": "Python 3",
   "language": "python",
   "name": "python3"
  },
  "language_info": {
   "codemirror_mode": {
    "name": "ipython",
    "version": 3
   },
   "file_extension": ".py",
   "mimetype": "text/x-python",
   "name": "python",
   "nbconvert_exporter": "python",
   "pygments_lexer": "ipython3",
   "version": "3.8.2"
  }
 },
 "nbformat": 4,
 "nbformat_minor": 4
}
