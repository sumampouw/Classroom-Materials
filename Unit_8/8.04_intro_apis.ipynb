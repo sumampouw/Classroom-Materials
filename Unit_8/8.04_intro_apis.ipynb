{
 "cells": [
  {
   "cell_type": "code",
   "execution_count": 6,
   "id": "0af6955e-7ea2-462d-ac33-1e3817e75f91",
   "metadata": {},
   "outputs": [
    {
     "name": "stdout",
     "output_type": "stream",
     "text": [
      "Google: 200\n",
      "NBA: 401\n",
      "Rotten Tomatoes: 403\n"
     ]
    }
   ],
   "source": [
    "#Install requests library with the command promt\n",
    "\n",
    "# Import requests library\n",
    "import requests\n",
    "\n",
    "google = requests.get(\"https://developers.google.com\")\n",
    "print(\"Google:\", google.status_code)\n",
    "\n",
    "NBA = response = requests.get(\"https://api.sportsdata.io/api/nba/fantasy/json/CurrentSeason\")\n",
    "print(\"NBA:\", NBA.status_code)\n",
    "\n",
    "rotten_tomato = requests.get(\"http://api.rottentomatoes.com/api/public/v1.0/lists/movies/box_office.json\")\n",
    "print(\"Rotten Tomatoes:\", rotten_tomato.status_code)"
   ]
  },
  {
   "cell_type": "code",
   "execution_count": 9,
   "id": "275f529f-796d-45d4-8709-1fcd7ae344ac",
   "metadata": {},
   "outputs": [
    {
     "name": "stdout",
     "output_type": "stream",
     "text": [
      "{\n",
      "  \"Places\" : [ {\n",
      "    \"PlaceId\" : \"BER-sky\",\n",
      "    \"PlaceName\" : \"Berlin Brandenburg\",\n",
      "    \"CountryId\" : \"DE-sky\",\n",
      "    \"RegionId\" : \"\",\n",
      "    \"CityId\" : \"BERL-sky\",\n",
      "    \"CountryName\" : \"Germany\"\n",
      "  }, {\n",
      "    \"PlaceId\" : \"BLI-sky\",\n",
      "    \"PlaceName\" : \"Bellingham\",\n",
      "    \"CountryId\" : \"US-sky\",\n",
      "    \"RegionId\" : \"WA\",\n",
      "    \"CityId\" : \"BLIA-sky\",\n",
      "    \"CountryName\" : \"United States\"\n",
      "  }, {\n",
      "    \"PlaceId\" : \"BTV-sky\",\n",
      "    \"PlaceName\" : \"Burlington\",\n",
      "    \"CountryId\" : \"US-sky\",\n",
      "    \"RegionId\" : \"VT\",\n",
      "    \"CityId\" : \"BTVA-sky\",\n",
      "    \"CountryName\" : \"United States\"\n",
      "  }, {\n",
      "    \"PlaceId\" : \"BRL-sky\",\n",
      "    \"PlaceName\" : \"Burlington\",\n",
      "    \"CountryId\" : \"US-sky\",\n",
      "    \"RegionId\" : \"IA\",\n",
      "    \"CityId\" : \"BRLA-sky\",\n",
      "    \"CountryName\" : \"United States\"\n",
      "  } ]\n",
      "}\n"
     ]
    }
   ],
   "source": [
    "url = \"https://skyscanner-skyscanner-flight-search-v1.p.rapidapi.com/apiservices/autosuggest/v1.0/UK/GBP/en-GB/\"\n",
    "\n",
    "querystring = {\"query\":\"Berlin\"}\n",
    "\n",
    "headers = {\n",
    "    'x-rapidapi-host': \"skyscanner-skyscanner-flight-search-v1.p.rapidapi.com\",\n",
    "    'x-rapidapi-key': \"65ac367414mshca9278aae631978p1965d3jsn38a1bf02ce82\"\n",
    "    }\n",
    "\n",
    "response = requests.request(\"GET\", url, headers=headers, params=querystring)\n",
    "\n",
    "print(response.text)"
   ]
  },
  {
   "cell_type": "code",
   "execution_count": 18,
   "id": "48ec8699-811b-465c-baf9-758a145773ff",
   "metadata": {},
   "outputs": [
    {
     "name": "stdout",
     "output_type": "stream",
     "text": [
      "{\n",
      "  \"Quotes\" : [ {\n",
      "    \"QuoteId\" : 1,\n",
      "    \"MinPrice\" : 96,\n",
      "    \"Direct\" : false,\n",
      "    \"OutboundLeg\" : {\n",
      "      \"CarrierIds\" : [ 1065 ],\n",
      "      \"OriginId\" : 81727,\n",
      "      \"DestinationId\" : 60987,\n",
      "      \"DepartureDate\" : \"2021-11-01T00:00:00\"\n",
      "    },\n",
      "    \"QuoteDateTime\" : \"2021-10-09T03:14:00\"\n",
      "  }, {\n",
      "    \"QuoteId\" : 2,\n",
      "    \"MinPrice\" : 116,\n",
      "    \"Direct\" : true,\n",
      "    \"OutboundLeg\" : {\n",
      "      \"CarrierIds\" : [ 870 ],\n",
      "      \"OriginId\" : 81727,\n",
      "      \"DestinationId\" : 60987,\n",
      "      \"DepartureDate\" : \"2021-11-01T00:00:00\"\n",
      "    },\n",
      "    \"QuoteDateTime\" : \"2021-10-09T03:14:00\"\n",
      "  } ],\n",
      "  \"Carriers\" : [ {\n",
      "    \"CarrierId\" : 1065,\n",
      "    \"Name\" : \"Frontier Airlines\"\n",
      "  }, {\n",
      "    \"CarrierId\" : 870,\n",
      "    \"Name\" : \"jetBlue\"\n",
      "  } ],\n",
      "  \"Places\" : [ {\n",
      "    \"Name\" : \"New York John F. Kennedy\",\n",
      "    \"Type\" : \"Station\",\n",
      "    \"PlaceId\" : 60987,\n",
      "    \"IataCode\" : \"JFK\",\n",
      "    \"SkyscannerCode\" : \"JFK\",\n",
      "    \"CityName\" : \"New York\",\n",
      "    \"CityId\" : \"NYCA\",\n",
      "    \"CountryName\" : \"United States\"\n",
      "  }, {\n",
      "    \"Name\" : \"San Francisco International\",\n",
      "    \"Type\" : \"Station\",\n",
      "    \"PlaceId\" : 81727,\n",
      "    \"IataCode\" : \"SFO\",\n",
      "    \"SkyscannerCode\" : \"SFO\",\n",
      "    \"CityName\" : \"San Francisco\",\n",
      "    \"CityId\" : \"SFOA\",\n",
      "    \"CountryName\" : \"United States\"\n",
      "  } ],\n",
      "  \"Currencies\" : [ {\n",
      "    \"Code\" : \"USD\",\n",
      "    \"Symbol\" : \"$\",\n",
      "    \"ThousandsSeparator\" : \",\",\n",
      "    \"DecimalSeparator\" : \".\",\n",
      "    \"SymbolOnLeft\" : true,\n",
      "    \"SpaceBetweenAmountAndSymbol\" : false,\n",
      "    \"RoundingCoefficient\" : 0,\n",
      "    \"DecimalDigits\" : 2\n",
      "  } ]\n",
      "}\n"
     ]
    }
   ],
   "source": [
    "import requests\n",
    "\n",
    "url = \"https://skyscanner-skyscanner-flight-search-v1.p.rapidapi.com/apiservices/browsequotes/v1.0/US/USD/en-US/SFO-sky/JFK-sky/2021-11-01\"\n",
    "\n",
    "querystring = {\"inboundpartialdate\":\"2019-12-01\"}\n",
    "\n",
    "headers = {\n",
    "    'x-rapidapi-host': \"skyscanner-skyscanner-flight-search-v1.p.rapidapi.com\",\n",
    "    'x-rapidapi-key': \"65ac367414mshca9278aae631978p1965d3jsn38a1bf02ce82\"\n",
    "    }\n",
    "\n",
    "response = requests.request(\"GET\", url, headers=headers, params=querystring)\n",
    "\n",
    "print(response.text)"
   ]
  },
  {
   "cell_type": "code",
   "execution_count": 19,
   "id": "5a1e2564-65e8-4faa-9b2f-0b2843c07579",
   "metadata": {},
   "outputs": [],
   "source": [
    "import pandas as pd"
   ]
  },
  {
   "cell_type": "code",
   "execution_count": 25,
   "id": "bf8ab220-54f7-43ad-b904-b5b5c66eed65",
   "metadata": {},
   "outputs": [],
   "source": [
    "df = pd.DataFrame(response.json().items())"
   ]
  },
  {
   "cell_type": "code",
   "execution_count": 26,
   "id": "781698d4-e86a-4487-97f6-830bba702a20",
   "metadata": {},
   "outputs": [],
   "source": [
    "df['new_col'] = df[1].apply(lambda x: x[0])"
   ]
  },
  {
   "cell_type": "code",
   "execution_count": 27,
   "id": "c9cc1684-0e74-4dca-84f4-e91451d15603",
   "metadata": {},
   "outputs": [
    {
     "data": {
      "text/html": [
       "<div>\n",
       "<style scoped>\n",
       "    .dataframe tbody tr th:only-of-type {\n",
       "        vertical-align: middle;\n",
       "    }\n",
       "\n",
       "    .dataframe tbody tr th {\n",
       "        vertical-align: top;\n",
       "    }\n",
       "\n",
       "    .dataframe thead th {\n",
       "        text-align: right;\n",
       "    }\n",
       "</style>\n",
       "<table border=\"1\" class=\"dataframe\">\n",
       "  <thead>\n",
       "    <tr style=\"text-align: right;\">\n",
       "      <th></th>\n",
       "      <th>0</th>\n",
       "      <th>1</th>\n",
       "      <th>new_col</th>\n",
       "    </tr>\n",
       "  </thead>\n",
       "  <tbody>\n",
       "    <tr>\n",
       "      <th>0</th>\n",
       "      <td>Quotes</td>\n",
       "      <td>[{'QuoteId': 1, 'MinPrice': 96, 'Direct': Fals...</td>\n",
       "      <td>{'QuoteId': 1, 'MinPrice': 96, 'Direct': False...</td>\n",
       "    </tr>\n",
       "    <tr>\n",
       "      <th>1</th>\n",
       "      <td>Carriers</td>\n",
       "      <td>[{'CarrierId': 1065, 'Name': 'Frontier Airline...</td>\n",
       "      <td>{'CarrierId': 1065, 'Name': 'Frontier Airlines'}</td>\n",
       "    </tr>\n",
       "    <tr>\n",
       "      <th>2</th>\n",
       "      <td>Places</td>\n",
       "      <td>[{'Name': 'New York John F. Kennedy', 'Type': ...</td>\n",
       "      <td>{'Name': 'New York John F. Kennedy', 'Type': '...</td>\n",
       "    </tr>\n",
       "    <tr>\n",
       "      <th>3</th>\n",
       "      <td>Currencies</td>\n",
       "      <td>[{'Code': 'USD', 'Symbol': '$', 'ThousandsSepa...</td>\n",
       "      <td>{'Code': 'USD', 'Symbol': '$', 'ThousandsSepar...</td>\n",
       "    </tr>\n",
       "  </tbody>\n",
       "</table>\n",
       "</div>"
      ],
      "text/plain": [
       "            0                                                  1  \\\n",
       "0      Quotes  [{'QuoteId': 1, 'MinPrice': 96, 'Direct': Fals...   \n",
       "1    Carriers  [{'CarrierId': 1065, 'Name': 'Frontier Airline...   \n",
       "2      Places  [{'Name': 'New York John F. Kennedy', 'Type': ...   \n",
       "3  Currencies  [{'Code': 'USD', 'Symbol': '$', 'ThousandsSepa...   \n",
       "\n",
       "                                             new_col  \n",
       "0  {'QuoteId': 1, 'MinPrice': 96, 'Direct': False...  \n",
       "1   {'CarrierId': 1065, 'Name': 'Frontier Airlines'}  \n",
       "2  {'Name': 'New York John F. Kennedy', 'Type': '...  \n",
       "3  {'Code': 'USD', 'Symbol': '$', 'ThousandsSepar...  "
      ]
     },
     "execution_count": 27,
     "metadata": {},
     "output_type": "execute_result"
    }
   ],
   "source": [
    "df"
   ]
  },
  {
   "cell_type": "code",
   "execution_count": 28,
   "id": "e66a7288-e779-4c52-b2a1-6c6a1fa9f36c",
   "metadata": {},
   "outputs": [
    {
     "data": {
      "text/html": [
       "<div>\n",
       "<style scoped>\n",
       "    .dataframe tbody tr th:only-of-type {\n",
       "        vertical-align: middle;\n",
       "    }\n",
       "\n",
       "    .dataframe tbody tr th {\n",
       "        vertical-align: top;\n",
       "    }\n",
       "\n",
       "    .dataframe thead th {\n",
       "        text-align: right;\n",
       "    }\n",
       "</style>\n",
       "<table border=\"1\" class=\"dataframe\">\n",
       "  <thead>\n",
       "    <tr style=\"text-align: right;\">\n",
       "      <th></th>\n",
       "      <th>Quotes</th>\n",
       "      <th>Carriers</th>\n",
       "      <th>Places</th>\n",
       "      <th>Currencies</th>\n",
       "    </tr>\n",
       "  </thead>\n",
       "  <tbody>\n",
       "    <tr>\n",
       "      <th>0</th>\n",
       "      <td>[{'QuoteId': 1, 'MinPrice': 96, 'Direct': Fals...</td>\n",
       "      <td>[{'CarrierId': 1065, 'Name': 'Frontier Airline...</td>\n",
       "      <td>[{'Name': 'New York John F. Kennedy', 'Type': ...</td>\n",
       "      <td>[{'Code': 'USD', 'Symbol': '$', 'ThousandsSepa...</td>\n",
       "    </tr>\n",
       "  </tbody>\n",
       "</table>\n",
       "</div>"
      ],
      "text/plain": [
       "                                              Quotes  \\\n",
       "0  [{'QuoteId': 1, 'MinPrice': 96, 'Direct': Fals...   \n",
       "\n",
       "                                            Carriers  \\\n",
       "0  [{'CarrierId': 1065, 'Name': 'Frontier Airline...   \n",
       "\n",
       "                                              Places  \\\n",
       "0  [{'Name': 'New York John F. Kennedy', 'Type': ...   \n",
       "\n",
       "                                          Currencies  \n",
       "0  [{'Code': 'USD', 'Symbol': '$', 'ThousandsSepa...  "
      ]
     },
     "execution_count": 28,
     "metadata": {},
     "output_type": "execute_result"
    }
   ],
   "source": [
    "# Import libraries\n",
    "import pandas as pd\n",
    "import json\n",
    "\n",
    "# Normalize the response\n",
    "\n",
    "pd.json_normalize(response.json())\n",
    "# If this doesn't work, try to import json"
   ]
  },
  {
   "cell_type": "code",
   "execution_count": 31,
   "id": "f6bc78db-a338-4b6a-b0a4-7063f627cc0b",
   "metadata": {},
   "outputs": [],
   "source": [
    "quotes = pd.DataFrame(pd.json_normalize(response.json())[\"Quotes\"][0])\n",
    "carriers = pd.DataFrame(pd.json_normalize(response.json())[\"Carriers\"][0])\n",
    "places = pd.DataFrame(pd.json_normalize(response.json())[\"Places\"][0])\n",
    "currencies = pd.DataFrame(pd.json_normalize(response.json())[\"Currencies\"][0])"
   ]
  },
  {
   "cell_type": "code",
   "execution_count": 33,
   "id": "9690fd60-10da-4d1d-b6e0-48a3a24d30c7",
   "metadata": {},
   "outputs": [
    {
     "data": {
      "text/html": [
       "<div>\n",
       "<style scoped>\n",
       "    .dataframe tbody tr th:only-of-type {\n",
       "        vertical-align: middle;\n",
       "    }\n",
       "\n",
       "    .dataframe tbody tr th {\n",
       "        vertical-align: top;\n",
       "    }\n",
       "\n",
       "    .dataframe thead th {\n",
       "        text-align: right;\n",
       "    }\n",
       "</style>\n",
       "<table border=\"1\" class=\"dataframe\">\n",
       "  <thead>\n",
       "    <tr style=\"text-align: right;\">\n",
       "      <th></th>\n",
       "      <th>Name</th>\n",
       "      <th>Type</th>\n",
       "      <th>PlaceId</th>\n",
       "      <th>IataCode</th>\n",
       "      <th>SkyscannerCode</th>\n",
       "      <th>CityName</th>\n",
       "      <th>CityId</th>\n",
       "      <th>CountryName</th>\n",
       "    </tr>\n",
       "  </thead>\n",
       "  <tbody>\n",
       "    <tr>\n",
       "      <th>0</th>\n",
       "      <td>New York John F. Kennedy</td>\n",
       "      <td>Station</td>\n",
       "      <td>60987</td>\n",
       "      <td>JFK</td>\n",
       "      <td>JFK</td>\n",
       "      <td>New York</td>\n",
       "      <td>NYCA</td>\n",
       "      <td>United States</td>\n",
       "    </tr>\n",
       "    <tr>\n",
       "      <th>1</th>\n",
       "      <td>San Francisco International</td>\n",
       "      <td>Station</td>\n",
       "      <td>81727</td>\n",
       "      <td>SFO</td>\n",
       "      <td>SFO</td>\n",
       "      <td>San Francisco</td>\n",
       "      <td>SFOA</td>\n",
       "      <td>United States</td>\n",
       "    </tr>\n",
       "  </tbody>\n",
       "</table>\n",
       "</div>"
      ],
      "text/plain": [
       "                          Name     Type  PlaceId IataCode SkyscannerCode  \\\n",
       "0     New York John F. Kennedy  Station    60987      JFK            JFK   \n",
       "1  San Francisco International  Station    81727      SFO            SFO   \n",
       "\n",
       "        CityName CityId    CountryName  \n",
       "0       New York   NYCA  United States  \n",
       "1  San Francisco   SFOA  United States  "
      ]
     },
     "execution_count": 33,
     "metadata": {},
     "output_type": "execute_result"
    }
   ],
   "source": [
    "places"
   ]
  },
  {
   "cell_type": "code",
   "execution_count": 34,
   "id": "3b8b06eb-8f5c-4a44-955d-bc1e3da81a57",
   "metadata": {},
   "outputs": [],
   "source": [
    "flights = pd.DataFrame(pd.DataFrame(pd.json_normalize(response.json())[\"Quotes\"][0])[\"OutboundLeg\"][0])\n"
   ]
  },
  {
   "cell_type": "code",
   "execution_count": 35,
   "id": "5e276405-b3a0-4ed8-ae2d-83ff208a63aa",
   "metadata": {},
   "outputs": [
    {
     "data": {
      "text/html": [
       "<div>\n",
       "<style scoped>\n",
       "    .dataframe tbody tr th:only-of-type {\n",
       "        vertical-align: middle;\n",
       "    }\n",
       "\n",
       "    .dataframe tbody tr th {\n",
       "        vertical-align: top;\n",
       "    }\n",
       "\n",
       "    .dataframe thead th {\n",
       "        text-align: right;\n",
       "    }\n",
       "</style>\n",
       "<table border=\"1\" class=\"dataframe\">\n",
       "  <thead>\n",
       "    <tr style=\"text-align: right;\">\n",
       "      <th></th>\n",
       "      <th>CarrierIds</th>\n",
       "      <th>OriginId</th>\n",
       "      <th>DestinationId</th>\n",
       "      <th>DepartureDate</th>\n",
       "    </tr>\n",
       "  </thead>\n",
       "  <tbody>\n",
       "    <tr>\n",
       "      <th>0</th>\n",
       "      <td>1065</td>\n",
       "      <td>81727</td>\n",
       "      <td>60987</td>\n",
       "      <td>2021-11-01T00:00:00</td>\n",
       "    </tr>\n",
       "  </tbody>\n",
       "</table>\n",
       "</div>"
      ],
      "text/plain": [
       "   CarrierIds  OriginId  DestinationId        DepartureDate\n",
       "0        1065     81727          60987  2021-11-01T00:00:00"
      ]
     },
     "execution_count": 35,
     "metadata": {},
     "output_type": "execute_result"
    }
   ],
   "source": [
    "flights"
   ]
  },
  {
   "cell_type": "code",
   "execution_count": null,
   "id": "beec2673-bfd1-407d-811e-7e9eb6b714bf",
   "metadata": {},
   "outputs": [],
   "source": [
    "pd.to_datetime(df['col'])"
   ]
  }
 ],
 "metadata": {
  "kernelspec": {
   "display_name": "Python 3",
   "language": "python",
   "name": "python3"
  },
  "language_info": {
   "codemirror_mode": {
    "name": "ipython",
    "version": 3
   },
   "file_extension": ".py",
   "mimetype": "text/x-python",
   "name": "python",
   "nbconvert_exporter": "python",
   "pygments_lexer": "ipython3",
   "version": "3.8.2"
  }
 },
 "nbformat": 4,
 "nbformat_minor": 5
}
