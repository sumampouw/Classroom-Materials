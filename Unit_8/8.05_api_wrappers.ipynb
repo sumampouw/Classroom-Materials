{
 "cells": [
  {
   "cell_type": "markdown",
   "metadata": {},
   "source": [
    "## WebScraping V: rise of the wrappers"
   ]
  },
  {
   "cell_type": "code",
   "execution_count": null,
   "metadata": {},
   "outputs": [],
   "source": [
    "a = 1\n",
    "b = 2\n",
    "\n",
    "c = a+b\n",
    "\n",
    "def sum(a,b):\n",
    "    return a+b"
   ]
  },
  {
   "cell_type": "code",
   "execution_count": 4,
   "metadata": {},
   "outputs": [
    {
     "name": "stdout",
     "output_type": "stream",
     "text": [
      "Collecting spotipy\n",
      "  Downloading spotipy-2.19.0-py3-none-any.whl (27 kB)\n",
      "Requirement already satisfied: six>=1.15.0 in /Users/abhimanyumittal/venv/lib/python3.8/site-packages (from spotipy) (1.16.0)\n",
      "Requirement already satisfied: urllib3>=1.26.0 in /Users/abhimanyumittal/venv/lib/python3.8/site-packages (from spotipy) (1.26.4)\n",
      "Requirement already satisfied: requests>=2.25.0 in /Users/abhimanyumittal/venv/lib/python3.8/site-packages (from spotipy) (2.25.1)\n",
      "Requirement already satisfied: idna<3,>=2.5 in /Users/abhimanyumittal/venv/lib/python3.8/site-packages (from requests>=2.25.0->spotipy) (2.10)\n",
      "Requirement already satisfied: chardet<5,>=3.0.2 in /Users/abhimanyumittal/venv/lib/python3.8/site-packages (from requests>=2.25.0->spotipy) (4.0.0)\n",
      "Requirement already satisfied: certifi>=2017.4.17 in /Users/abhimanyumittal/venv/lib/python3.8/site-packages (from requests>=2.25.0->spotipy) (2020.12.5)\n",
      "Installing collected packages: spotipy\n",
      "Successfully installed spotipy-2.19.0\n",
      "\u001b[33mWARNING: You are using pip version 21.0.1; however, version 21.2.4 is available.\n",
      "You should consider upgrading via the '/Users/abhimanyumittal/venv/bin/python -m pip install --upgrade pip' command.\u001b[0m\n"
     ]
    }
   ],
   "source": [
    "!pip install spotipy"
   ]
  },
  {
   "cell_type": "code",
   "execution_count": 3,
   "metadata": {
    "scrolled": true,
    "tags": []
   },
   "outputs": [
    {
     "data": {
      "text/plain": [
       "{'tracks': {'href': 'https://api.spotify.com/v1/search?query=artist%3A+Queen&type=track&offset=0&limit=2',\n",
       "  'items': [{'album': {'album_type': 'album',\n",
       "     'artists': [{'external_urls': {'spotify': 'https://open.spotify.com/artist/1dfeR4HaWDbWqFHLkxsg1d'},\n",
       "       'href': 'https://api.spotify.com/v1/artists/1dfeR4HaWDbWqFHLkxsg1d',\n",
       "       'id': '1dfeR4HaWDbWqFHLkxsg1d',\n",
       "       'name': 'Queen',\n",
       "       'type': 'artist',\n",
       "       'uri': 'spotify:artist:1dfeR4HaWDbWqFHLkxsg1d'}],\n",
       "     'available_markets': ['CA', 'US'],\n",
       "     'external_urls': {'spotify': 'https://open.spotify.com/album/6X9k3hSsvQck2OfKYdBbXr'},\n",
       "     'href': 'https://api.spotify.com/v1/albums/6X9k3hSsvQck2OfKYdBbXr',\n",
       "     'id': '6X9k3hSsvQck2OfKYdBbXr',\n",
       "     'images': [{'height': 640,\n",
       "       'url': 'https://i.scdn.co/image/ab67616d0000b273ce4f1737bc8a646c8c4bd25a',\n",
       "       'width': 640},\n",
       "      {'height': 300,\n",
       "       'url': 'https://i.scdn.co/image/ab67616d00001e02ce4f1737bc8a646c8c4bd25a',\n",
       "       'width': 300},\n",
       "      {'height': 64,\n",
       "       'url': 'https://i.scdn.co/image/ab67616d00004851ce4f1737bc8a646c8c4bd25a',\n",
       "       'width': 64}],\n",
       "     'name': 'A Night At The Opera (Deluxe Remastered Version)',\n",
       "     'release_date': '1975-11-21',\n",
       "     'release_date_precision': 'day',\n",
       "     'total_tracks': 18,\n",
       "     'type': 'album',\n",
       "     'uri': 'spotify:album:6X9k3hSsvQck2OfKYdBbXr'},\n",
       "    'artists': [{'external_urls': {'spotify': 'https://open.spotify.com/artist/1dfeR4HaWDbWqFHLkxsg1d'},\n",
       "      'href': 'https://api.spotify.com/v1/artists/1dfeR4HaWDbWqFHLkxsg1d',\n",
       "      'id': '1dfeR4HaWDbWqFHLkxsg1d',\n",
       "      'name': 'Queen',\n",
       "      'type': 'artist',\n",
       "      'uri': 'spotify:artist:1dfeR4HaWDbWqFHLkxsg1d'}],\n",
       "    'available_markets': ['CA', 'US'],\n",
       "    'disc_number': 1,\n",
       "    'duration_ms': 354320,\n",
       "    'explicit': False,\n",
       "    'external_ids': {'isrc': 'GBUM71029604'},\n",
       "    'external_urls': {'spotify': 'https://open.spotify.com/track/7tFiyTwD0nx5a1eklYtX2J'},\n",
       "    'href': 'https://api.spotify.com/v1/tracks/7tFiyTwD0nx5a1eklYtX2J',\n",
       "    'id': '7tFiyTwD0nx5a1eklYtX2J',\n",
       "    'is_local': False,\n",
       "    'name': 'Bohemian Rhapsody - Remastered 2011',\n",
       "    'popularity': 74,\n",
       "    'preview_url': None,\n",
       "    'track_number': 11,\n",
       "    'type': 'track',\n",
       "    'uri': 'spotify:track:7tFiyTwD0nx5a1eklYtX2J'},\n",
       "   {'album': {'album_type': 'album',\n",
       "     'artists': [{'external_urls': {'spotify': 'https://open.spotify.com/artist/1dfeR4HaWDbWqFHLkxsg1d'},\n",
       "       'href': 'https://api.spotify.com/v1/artists/1dfeR4HaWDbWqFHLkxsg1d',\n",
       "       'id': '1dfeR4HaWDbWqFHLkxsg1d',\n",
       "       'name': 'Queen',\n",
       "       'type': 'artist',\n",
       "       'uri': 'spotify:artist:1dfeR4HaWDbWqFHLkxsg1d'}],\n",
       "     'available_markets': ['CA', 'US'],\n",
       "     'external_urls': {'spotify': 'https://open.spotify.com/album/6wPXUmYJ9mOWrKlLzZ5cCa'},\n",
       "     'href': 'https://api.spotify.com/v1/albums/6wPXUmYJ9mOWrKlLzZ5cCa',\n",
       "     'id': '6wPXUmYJ9mOWrKlLzZ5cCa',\n",
       "     'images': [{'height': 640,\n",
       "       'url': 'https://i.scdn.co/image/ab67616d0000b27307744e2ed983efa3e6620a47',\n",
       "       'width': 640},\n",
       "      {'height': 300,\n",
       "       'url': 'https://i.scdn.co/image/ab67616d00001e0207744e2ed983efa3e6620a47',\n",
       "       'width': 300},\n",
       "      {'height': 64,\n",
       "       'url': 'https://i.scdn.co/image/ab67616d0000485107744e2ed983efa3e6620a47',\n",
       "       'width': 64}],\n",
       "     'name': 'The Game (Deluxe Remastered Version)',\n",
       "     'release_date': '1980-06-27',\n",
       "     'release_date_precision': 'day',\n",
       "     'total_tracks': 15,\n",
       "     'type': 'album',\n",
       "     'uri': 'spotify:album:6wPXUmYJ9mOWrKlLzZ5cCa'},\n",
       "    'artists': [{'external_urls': {'spotify': 'https://open.spotify.com/artist/1dfeR4HaWDbWqFHLkxsg1d'},\n",
       "      'href': 'https://api.spotify.com/v1/artists/1dfeR4HaWDbWqFHLkxsg1d',\n",
       "      'id': '1dfeR4HaWDbWqFHLkxsg1d',\n",
       "      'name': 'Queen',\n",
       "      'type': 'artist',\n",
       "      'uri': 'spotify:artist:1dfeR4HaWDbWqFHLkxsg1d'}],\n",
       "    'available_markets': ['CA', 'US'],\n",
       "    'disc_number': 1,\n",
       "    'duration_ms': 214653,\n",
       "    'explicit': False,\n",
       "    'external_ids': {'isrc': 'GBUM71029605'},\n",
       "    'external_urls': {'spotify': 'https://open.spotify.com/track/57JVGBtBLCfHw2muk5416J'},\n",
       "    'href': 'https://api.spotify.com/v1/tracks/57JVGBtBLCfHw2muk5416J',\n",
       "    'id': '57JVGBtBLCfHw2muk5416J',\n",
       "    'is_local': False,\n",
       "    'name': 'Another One Bites The Dust - Remastered 2011',\n",
       "    'popularity': 74,\n",
       "    'preview_url': None,\n",
       "    'track_number': 3,\n",
       "    'type': 'track',\n",
       "    'uri': 'spotify:track:57JVGBtBLCfHw2muk5416J'}],\n",
       "  'limit': 2,\n",
       "  'next': 'https://api.spotify.com/v1/search?query=artist%3A+Queen&type=track&offset=2&limit=2',\n",
       "  'offset': 0,\n",
       "  'previous': None,\n",
       "  'total': 10000}}"
      ]
     },
     "execution_count": 3,
     "metadata": {},
     "output_type": "execute_result"
    }
   ],
   "source": [
    "import spotipy\n",
    "from spotipy.oauth2 import SpotifyClientCredentials\n",
    "\n",
    "#Initialize SpotiPy with user credentias\n",
    "sp = spotipy.Spotify(auth_manager=SpotifyClientCredentials(client_id=\"af3a4e21d9974f798b0ddef081728f2b\",\n",
    "                                                           client_secret=\"99a65d20eff04d64bcf24b11824dffc4\"))\n",
    "\n",
    "results = sp.search(q='artist: Queen', limit=2)\n",
    "results"
   ]
  },
  {
   "cell_type": "code",
   "execution_count": 7,
   "metadata": {},
   "outputs": [
    {
     "data": {
      "text/plain": [
       "2"
      ]
     },
     "execution_count": 7,
     "metadata": {},
     "output_type": "execute_result"
    }
   ],
   "source": [
    "results['tracks']['limit']#.keys()"
   ]
  },
  {
   "cell_type": "code",
   "execution_count": 8,
   "metadata": {},
   "outputs": [
    {
     "data": {
      "text/plain": [
       "2"
      ]
     },
     "execution_count": 8,
     "metadata": {},
     "output_type": "execute_result"
    }
   ],
   "source": [
    "len(results['tracks']['items'])"
   ]
  },
  {
   "cell_type": "code",
   "execution_count": 7,
   "metadata": {},
   "outputs": [
    {
     "data": {
      "text/plain": [
       "dict_keys(['tracks'])"
      ]
     },
     "execution_count": 7,
     "metadata": {},
     "output_type": "execute_result"
    }
   ],
   "source": [
    "results.keys() # We can see that we only have tracks"
   ]
  },
  {
   "cell_type": "code",
   "execution_count": 8,
   "metadata": {},
   "outputs": [
    {
     "data": {
      "text/plain": [
       "dict_keys(['href', 'items', 'limit', 'next', 'offset', 'previous', 'total'])"
      ]
     },
     "execution_count": 8,
     "metadata": {},
     "output_type": "execute_result"
    }
   ],
   "source": [
    "results[\"tracks\"].keys() # Let's check the values"
   ]
  },
  {
   "cell_type": "code",
   "execution_count": 9,
   "metadata": {
    "scrolled": true
   },
   "outputs": [
    {
     "data": {
      "text/plain": [
       "'https://api.spotify.com/v1/search?query=artist%3A+Queen&type=track&offset=0&limit=2'"
      ]
     },
     "execution_count": 9,
     "metadata": {},
     "output_type": "execute_result"
    }
   ],
   "source": [
    "results[\"tracks\"][\"href\"] # Query we have searched"
   ]
  },
  {
   "cell_type": "code",
   "execution_count": 10,
   "metadata": {},
   "outputs": [
    {
     "data": {
      "text/plain": [
       "dict_keys(['album', 'artists', 'available_markets', 'disc_number', 'duration_ms', 'explicit', 'external_ids', 'external_urls', 'href', 'id', 'is_local', 'name', 'popularity', 'preview_url', 'track_number', 'type', 'uri'])"
      ]
     },
     "execution_count": 10,
     "metadata": {},
     "output_type": "execute_result"
    }
   ],
   "source": [
    "results[\"tracks\"][\"items\"][0].keys() #items (actual tracks)"
   ]
  },
  {
   "cell_type": "code",
   "execution_count": 11,
   "metadata": {},
   "outputs": [
    {
     "data": {
      "text/plain": [
       "'Bohemian Rhapsody - Remastered 2011'"
      ]
     },
     "execution_count": 11,
     "metadata": {},
     "output_type": "execute_result"
    }
   ],
   "source": [
    "results[\"tracks\"][\"items\"][0]['name']"
   ]
  },
  {
   "cell_type": "code",
   "execution_count": 17,
   "metadata": {},
   "outputs": [
    {
     "data": {
      "text/plain": [
       "10000"
      ]
     },
     "execution_count": 17,
     "metadata": {},
     "output_type": "execute_result"
    }
   ],
   "source": [
    "# Info that might help you navegate through the API\n",
    "results[\"tracks\"][\"limit\"]#Limit we have chosen\n",
    "results[\"tracks\"][\"next\"] #link to the next page (next 50 tracks)\n",
    "results[\"tracks\"][\"offset\"] # Actual offset (starting point)\n",
    "results[\"tracks\"][\"previous\"] #Previous search\n",
    "results[\"tracks\"][\"total\"] # Number of matches"
   ]
  },
  {
   "cell_type": "markdown",
   "metadata": {},
   "source": [
    "#### User playlists"
   ]
  },
  {
   "cell_type": "code",
   "execution_count": 22,
   "metadata": {},
   "outputs": [
    {
     "data": {
      "text/plain": [
       "dict_keys(['href', 'items', 'limit', 'next', 'offset', 'previous', 'total'])"
      ]
     },
     "execution_count": 22,
     "metadata": {},
     "output_type": "execute_result"
    }
   ],
   "source": [
    "# playlist = sp.user_playlist_tracks(\"spotify\", \"12Wbv8sIx84T5uh6iOoJ7V\")\n",
    "playlist = sp.user_playlist_tracks(\"spotify\", \"5ZAkcwRgY19JHXl97hNZ1a\")\n",
    "playlist.keys() # Let's look at items and total:"
   ]
  },
  {
   "cell_type": "code",
   "execution_count": 23,
   "metadata": {},
   "outputs": [
    {
     "data": {
      "text/plain": [
       "113"
      ]
     },
     "execution_count": 23,
     "metadata": {},
     "output_type": "execute_result"
    }
   ],
   "source": [
    "playlist[\"total\"]"
   ]
  },
  {
   "cell_type": "code",
   "execution_count": 24,
   "metadata": {},
   "outputs": [
    {
     "data": {
      "text/plain": [
       "100"
      ]
     },
     "execution_count": 24,
     "metadata": {},
     "output_type": "execute_result"
    }
   ],
   "source": [
    "len(playlist[\"items\"]) "
   ]
  },
  {
   "cell_type": "code",
   "execution_count": 38,
   "metadata": {},
   "outputs": [
    {
     "data": {
      "text/plain": [
       "[1]"
      ]
     },
     "execution_count": 38,
     "metadata": {},
     "output_type": "execute_result"
    }
   ],
   "source": [
    "a = []\n",
    "b = [1]\n",
    "\n",
    "a = a+b\n",
    "\n",
    "a"
   ]
  },
  {
   "cell_type": "code",
   "execution_count": null,
   "metadata": {},
   "outputs": [],
   "source": [
    "# 150\n",
    "\n",
    "# 1-100 -> offset 0, limit 100\n",
    "# 100-200 -> offset 100, limit 100\n",
    "# 200-300 -> return null"
   ]
  },
  {
   "cell_type": "code",
   "execution_count": 29,
   "metadata": {},
   "outputs": [
    {
     "name": "stdout",
     "output_type": "stream",
     "text": [
      "https://api.spotify.com/v1/playlists/12Wbv8sIx84T5uh6iOoJ7V/tracks?offset=100&limit=100&additional_types=track\n",
      "https://api.spotify.com/v1/playlists/12Wbv8sIx84T5uh6iOoJ7V/tracks?offset=200&limit=100&additional_types=track\n"
     ]
    }
   ],
   "source": [
    "results = sp.user_playlist_tracks(\"spotify\", \"12Wbv8sIx84T5uh6iOoJ7V\")\n",
    "tracks = results['items']\n",
    "\n",
    "while results['next']:\n",
    "    print(results['next'])\n",
    "    results = sp.next(results)\n",
    "    tracks.extend(results['items'])\n"
   ]
  },
  {
   "cell_type": "code",
   "execution_count": 37,
   "metadata": {},
   "outputs": [
    {
     "data": {
      "text/plain": [
       "202"
      ]
     },
     "execution_count": 37,
     "metadata": {},
     "output_type": "execute_result"
    }
   ],
   "source": [
    "results = sp.user_playlist_tracks(\"spotify\", \"12Wbv8sIx84T5uh6iOoJ7V\")\n",
    "tracks = results['items']\n",
    "\n",
    "for oset in range(100,results['total'],100):\n",
    "    results = sp.user_playlist_tracks(\"spotify\", \"12Wbv8sIx84T5uh6iOoJ7V\", offset=oset)\n",
    "    tracks += results['items']\n",
    "len(tracks)"
   ]
  },
  {
   "cell_type": "code",
   "execution_count": 38,
   "metadata": {},
   "outputs": [
    {
     "data": {
      "text/plain": [
       "[100, 200]"
      ]
     },
     "execution_count": 38,
     "metadata": {},
     "output_type": "execute_result"
    }
   ],
   "source": [
    "list(range(100,results['total'],100))"
   ]
  },
  {
   "cell_type": "code",
   "execution_count": 42,
   "metadata": {},
   "outputs": [],
   "source": [
    "# It is limited to 100 tracks, we will have to fix it:\n",
    "\n",
    "def get_playlist_tracks(username, playlist_id):\n",
    "    \n",
    "    results = sp.user_playlist_tracks(username, playlist_id)\n",
    "    tracks = results['items']\n",
    "    \n",
    "    while results['next']:\n",
    "        results = sp.next(results)\n",
    "        tracks.extend(results['items'])\n",
    "    \n",
    "    return tracks\n",
    "\n",
    "tracks = get_playlist_tracks(\"spotify\", \"12Wbv8sIx84T5uh6iOoJ7V\")"
   ]
  },
  {
   "cell_type": "code",
   "execution_count": 15,
   "metadata": {},
   "outputs": [],
   "source": [
    "tracks#[0]['track']#['artists']#.keys()#['name']"
   ]
  },
  {
   "cell_type": "code",
   "execution_count": 13,
   "metadata": {},
   "outputs": [
    {
     "data": {
      "text/plain": [
       "202"
      ]
     },
     "execution_count": 13,
     "metadata": {},
     "output_type": "execute_result"
    }
   ],
   "source": [
    "len(tracks)"
   ]
  },
  {
   "cell_type": "code",
   "execution_count": 39,
   "metadata": {},
   "outputs": [],
   "source": [
    "# Getting all the artists\n",
    "\n",
    "def get_artists_from_playlist(playlist_id):\n",
    "    \n",
    "    tracks_from_playlist = get_playlist_tracks(\"spotify\", playlist_id)\n",
    "    \n",
    "    artists = []\n",
    "    \n",
    "    for track in tracks_from_playlist:\n",
    "        artists_info = track['track']['artists']\n",
    "        \n",
    "        for artist_info in artists_info:\n",
    "            artists.append(artist_info['name'])\n",
    "    \n",
    "    return list(set(artists))"
   ]
  },
  {
   "cell_type": "code",
   "execution_count": 40,
   "metadata": {},
   "outputs": [],
   "source": [
    "# Getting all the artists IDs\n",
    "\n",
    "def get_artists_ids_from_playlist(playlist_id):\n",
    "    \n",
    "    tracks_from_playlist = get_playlist_tracks(\"spotify\", playlist_id)\n",
    "    \n",
    "    artists_ids = []\n",
    "    \n",
    "    for track in tracks_from_playlist:\n",
    "        artists_info = track['track']['artists']\n",
    "        \n",
    "        for artist_info in artists_info:\n",
    "            artists_ids.append(artist_info['id'])\n",
    "            \n",
    "    return list(set(artists_ids))"
   ]
  },
  {
   "cell_type": "code",
   "execution_count": 44,
   "metadata": {},
   "outputs": [
    {
     "data": {
      "text/plain": [
       "['The Zombies',\n",
       " 'Elliott Smith',\n",
       " 'The Smashing Pumpkins',\n",
       " 'Santana',\n",
       " 'Rosana',\n",
       " 'Iggy Pop',\n",
       " 'The Clash',\n",
       " 'John Lennon',\n",
       " 'Nico',\n",
       " 'Nick Cave & The Bad Seeds',\n",
       " 'Johnny Cash',\n",
       " 'The Beatles',\n",
       " 'dEUS',\n",
       " 'Talking Heads',\n",
       " 'Jefferson Airplane',\n",
       " 'America',\n",
       " 'David Bowie',\n",
       " 'Bill Withers',\n",
       " 'Nirvana',\n",
       " 'Neil Young',\n",
       " 'Black Sabbath',\n",
       " 'Lou Reed',\n",
       " 'Marcy Playground',\n",
       " 'Chuck Berry',\n",
       " 'Joy Division',\n",
       " 'The Animals',\n",
       " 'Shirley Bassey',\n",
       " 'The Rolling Stones',\n",
       " 'Nina Simone',\n",
       " 'Julie London',\n",
       " 'The Doors',\n",
       " 'Oasis',\n",
       " \"Booker T. & the M.G.'s\",\n",
       " 'Mazzy Star',\n",
       " 'Derek & The Dominos',\n",
       " 'The Underground Youth',\n",
       " 'The Stranglers',\n",
       " 'George Martin',\n",
       " 'The Velvet Underground',\n",
       " 'Leonard Cohen',\n",
       " 'The Jesus and Mary Chain',\n",
       " 'Patti Smith',\n",
       " 'Buffalo Springfield',\n",
       " 'Love',\n",
       " 'Warren Zevon',\n",
       " 'Ian Brown',\n",
       " 'Chris Cornell',\n",
       " 'Son House',\n",
       " 'Jimi Hendrix',\n",
       " 'PJ Harvey',\n",
       " 'Dusty Springfield',\n",
       " 'Foo Fighters',\n",
       " 'Muddy Waters',\n",
       " 'Fleetwood Mac',\n",
       " 'Billy Fury',\n",
       " 'The Kinks',\n",
       " 'Paul Simon',\n",
       " 'Canned Heat',\n",
       " 'Yusuf / Cat Stevens',\n",
       " 'The Fly Bi Nights',\n",
       " 'Camille Yarbrough',\n",
       " 'Janis Joplin']"
      ]
     },
     "execution_count": 44,
     "metadata": {},
     "output_type": "execute_result"
    }
   ],
   "source": [
    "artists = get_artists_from_playlist(\"5ZAkcwRgY19JHXl97hNZ1a\")\n",
    "artists"
   ]
  },
  {
   "cell_type": "code",
   "execution_count": 46,
   "metadata": {},
   "outputs": [
    {
     "data": {
      "text/plain": [
       "['7AQzXO3NPNQsI7oNu5rC3r',\n",
       " '33EUXrFKGjpUSGacqEHhU4',\n",
       " '1bSCGVnnijnSf8R9maUeJ9',\n",
       " '2qFr8w5sWUITRlzZ9kZotF',\n",
       " '0RUEHcBiENFEqxgicqS2ig',\n",
       " '3WrFJ7ztbogyGnTHbHJFl2',\n",
       " '4rjlerN21ygkIhmUv55irs',\n",
       " '6GI52t8N5F02MxU0g5U69P',\n",
       " '1ThoqLcyIYvZn7iWbj8fsj',\n",
       " '5zaXYwewAXedKNCff45U5l',\n",
       " '2Hupv6e87TIsohgH4w4R8e',\n",
       " '7G1GBhoKtEPnP86X2PvEYO',\n",
       " '4y6J8jwRAwO4dssiSmN91R',\n",
       " '12VaqyEhgwDRuFfEqbnrpz',\n",
       " '68IDm3R3jTpugUYXemHeZF',\n",
       " '5l8VQNuIg0turYE1VtM9zV',\n",
       " '2vDV0T8sxx2ENnKXds75e5',\n",
       " '3RGLhK1IP9jnYFH4BRFJBS',\n",
       " '4UXJsSlnKd7ltsrHebV79Q',\n",
       " '5ttV0N9HvMH3KLqNKcS2M0',\n",
       " '22WZ7M8sxp5THdruNY3gXt',\n",
       " '37w38cCSGgKLdayTRjna4W',\n",
       " '090VebphoycdEyH165iMqc',\n",
       " '1SQRv42e4PjEYfPhS0Tk9E',\n",
       " '08F3Y3SctIlsOEmKd6dnH8',\n",
       " '15oeqKO5k5uZ5773tWvpda',\n",
       " '3mY9Ii0cL5SQxpOTAm8SHx',\n",
       " '3Q6OOkfssqoMSTtl11J5Uk',\n",
       " '2x9SpqnPi8rlE9pjHBwmSC',\n",
       " '293zczrfYafIItmnmM3coR',\n",
       " '0tcbedGX7n5UHrMhVsGmIU',\n",
       " '0vYkHhJ48Bs3jWcvZXvOrP',\n",
       " '3eskO5m0H4yiF64vRySBjr',\n",
       " '27a0GiCba9K9lnkKidroFU',\n",
       " '08GQAI4eElDnROBrJRGE0X',\n",
       " '2rc78XDH9zuJP6bm78lU8Z',\n",
       " '3zMir00BoCKhwNTjlT61KN',\n",
       " '0IwlY33zbBXN7zlS9DP2Cj',\n",
       " '7jy3rLJdDQY21OgRLCZ9sD',\n",
       " '3s398TKZNahAURRacx7oIT',\n",
       " '0XHiH53dHrvbwfjYM7en7I',\n",
       " '3qUMmh5biaB5hqpF4LqS3m',\n",
       " '3ICflSq6ZgYAIrm2CTkfVP',\n",
       " '7rtLZcKWGV4eaZsBwSKimf',\n",
       " '40Yq4vzPs9VNUrIBG5Jr2i',\n",
       " '4x1nvY2FN8jxqAFA0DA02H',\n",
       " '42TFhl7WlMRXiNqzSrnzPL',\n",
       " '2DaxqgrOhkeH0fpeiQq2f4',\n",
       " '2ApaG60P4r0yhBoDCGD8YG',\n",
       " '6olE6TJLqED3rqDCT0FyPh',\n",
       " '6kACVPfCOnqzgfEF5ryl0x',\n",
       " '0oSGxfWSnnOXhD2fKuz2Gy',\n",
       " '22bE4uQ6baNwSHPVcDxLCe',\n",
       " '5M52tdBnJaKSvOpJGz8mfZ',\n",
       " '1nJvji2KIlWSseXRSlNYsC',\n",
       " '4NgfOZCL9Ml67xzM0xzIvC',\n",
       " '2CvCyf1gEVhI0mX6aFXmVI',\n",
       " '35U9lQaRWSQISxQAB94Meo',\n",
       " '2jgPkn6LuUazBoBk6vvjh5',\n",
       " '776Uo845nYHJpNaStv1Ds4',\n",
       " '6v8FB84lnmJs434UJf2Mrm',\n",
       " '432R46LaYsJZV2Gmc4jUV5']"
      ]
     },
     "execution_count": 46,
     "metadata": {},
     "output_type": "execute_result"
    }
   ],
   "source": [
    "artists_ids = get_artists_ids_from_playlist(\"5ZAkcwRgY19JHXl97hNZ1a\")\n",
    "artists_ids"
   ]
  },
  {
   "cell_type": "code",
   "execution_count": 47,
   "metadata": {},
   "outputs": [
    {
     "data": {
      "text/plain": [
       "['0A0eOcimSNRs2EQQlH7FFJ',\n",
       " '0MtVmhAx6CxNuxFIUc6Mj9',\n",
       " '6aUAF8JOd8zEl41B6I18xL',\n",
       " '2vGvPQNnyybJmiqpr1HiKX',\n",
       " '1PuLHwFZoh5qYK89I5YBdZ',\n",
       " '0XqvweqwDQluyCKyK25XqC',\n",
       " '3KkXRkHbMCARz0aVfEt68P',\n",
       " '5m9bm8tBxyhvKv41tMAdnv',\n",
       " '6r5tlCMur8Vngv3n0DzOFl',\n",
       " '3HQdwlovzULm18PjvlA5wz',\n",
       " '1Jte640nBiOWyuD7N0odNZ',\n",
       " '3HfSYACG5O3cio4dpHujWo',\n",
       " '4UdckfJgnMiFzY2leDJ11v',\n",
       " '7w5cxTEzp1rfV3KCy0Bd5N',\n",
       " '2DFRFqWNahKtFD112H2iEZ',\n",
       " '49WL7NYewiv6xPVgroXmKz',\n",
       " '3Ed55g8hCz1GmqRTelIPIW',\n",
       " '5TjAhRtHiLjCrzuOhgk50U',\n",
       " '4f1n0muKxA870NYsPmraLN',\n",
       " '0ytcZAli1HSG5qHNp76y6Y',\n",
       " '78dUBuP4dmw7krQz2yEI97',\n",
       " '0VqU5fPMcFo3iH1aWlDevK',\n",
       " '0WSPIU3Y3bNXsGeKnzSnt1',\n",
       " '1ogk8gkNwRw9iHONH2CAna',\n",
       " '5AGC0c1Hqv2iiUpvvxVexq',\n",
       " '7zfTF24acTKL42XSfzGETi',\n",
       " '4Qq8rERaPWkDuZsvSWR9LL',\n",
       " '2LWW6D1zabtolij6KFXQYm',\n",
       " '0QUiguzo0mWdlBk6Nvujic',\n",
       " '2y0ksBOhMh9hbJRLTNK8jC',\n",
       " '78J9MBkAoqfvyeEpQKJDzD',\n",
       " '73M2Vb5MfZh8iGKudkMtlw',\n",
       " '3nATeGcFdtkhpUrRvgr667',\n",
       " '0pdKRp2sUthTPe7RLWpPqQ',\n",
       " '1tSVf4MEdh8kVwKCmZw6uc',\n",
       " '6HTVZeVQ9J6Uiq6tHESxU9',\n",
       " '3RpwjGzgb8QAuOnZbdDZZs',\n",
       " '3cUxncrTWSA9lhlQbuIwUY',\n",
       " '7EaxLW81WCgYuHSu6UBcMa',\n",
       " '1tGfetmGzNQeJ7AZUhCaar',\n",
       " '0FfZudphGgQTGeEV6AhmOs',\n",
       " '5d8CreUdJvZejvTUo1IHLw',\n",
       " '4CwpP3vWh0f5VsEmvdOWib',\n",
       " '6a20J6YFMYUjUZ7WnuJYZu',\n",
       " '04NQ1q92DRbxWq6lhpVVDQ',\n",
       " '4mCF3EBgGPSqmEm205KBAV',\n",
       " '4abEe6s1Ja2qSxqC6BUzn1',\n",
       " '6AYFKOPbmd12rUP5DalRwB',\n",
       " '1TJlbxArMUQca5A3tfNyl2',\n",
       " '0DlTCllcloMx4ENilIfxan',\n",
       " '6YXbSjabsKQ1pNvj6zcJ9V',\n",
       " '7mMlbJlXXo2mRtQ4R9sIzD',\n",
       " '1VGCIpDw7EJG3oIuw7Hnnq',\n",
       " '6ug8xD1Q4jhgfE8t7r2ZKl',\n",
       " '1dKyBRZ7ckTsgdzRoWdgRY',\n",
       " '1zUj5lTHBiu3EkNr8KB27x',\n",
       " '5lmCkYVA7AFTHexCHJp2VK',\n",
       " '3czU3hYMIg7bdfVFXJWCvI',\n",
       " '5qo32EQuOBG9qvs3Hf2FYZ',\n",
       " '1kjaDbJzIBjuKxF2hk6ACj',\n",
       " '3WtB2who5tPeyzpe2rAoPk',\n",
       " '3NajfY7p2Si4qVvHba51X3',\n",
       " '74X1epeRufHckhuX1KFD04',\n",
       " '4nrdAPKfJDJ8Iiifa9WvD9',\n",
       " '0nMqu5vN44GNv8UOQxmBJK',\n",
       " '5xwKCPdE3kyU0XwqfbyQsx',\n",
       " '4ufN2o3Rf6LN5Z0XaqJXIz',\n",
       " '27LyQFdQbui4TnRs05cZ8C',\n",
       " '0ESvfrHfNuAtkZp8SMJBOY',\n",
       " '0eVYGqIPngJQUeRwGeVeXG',\n",
       " '3irtiZ6iy1C7CmMdzF11rT',\n",
       " '6rEkaGgEj1HLWZ9mjcZDjP',\n",
       " '5eeMft4YZx0Xdf9yJPNZJY',\n",
       " '0jcHQTvfHCH1LETpdMdHJo',\n",
       " '7oJmIBxEAYjfkS7lhZ7M1S',\n",
       " '2ZzoFGdygE4uLVHUGAaR0O',\n",
       " '7HHwxrSIIqyIMmpbSfgXeA',\n",
       " '47DKI4RxI8ZW0sBqDenMhO',\n",
       " '299KUyIYhezxrtXiwNamtP',\n",
       " '0DwaOWI1kC2s98qLj0LTDd',\n",
       " '3V3PN2Rs7qjVcnBi60QdMb',\n",
       " '1NodY8JMQCZAwpNd6Rsqew',\n",
       " '2SAr2lP8GwNYcJvbAVTKxi',\n",
       " '0DRvClQbN9znQ295sx76VC',\n",
       " '6xZ3PWSh0duo0ETm4lJ3lF',\n",
       " '5G89r6tEKp9ZrR3xivmMET',\n",
       " '4OIuUoYoO87LnzzaHNp1Ej',\n",
       " '1GxNPd5r7D1zChEMuMhue0',\n",
       " '2WsPW6yawWU8zczAeKk4c0',\n",
       " '4qyfir5Yr7nfo05g6cyFMT',\n",
       " '6lFHBbN3sDmSTqpEdZyBGv',\n",
       " '58rs5ZN3jjZ03rOuVyPNZb',\n",
       " '0JXKS3yn0oeSBeji20J523',\n",
       " '1mzjbH3G6oEm2OUTpXOS6f',\n",
       " '2z37pTrYrn8ncBt8QhxIl0',\n",
       " '6Py8QOQ4I1286xM9KncPQ4',\n",
       " '06OLH1cjQrSuWrqg7FXTD3',\n",
       " '51Yy4jTMPlq0Qwnn53id64',\n",
       " '4PMvRfhHAx5j6Bb3XsFLoq',\n",
       " '6tqzOYuE3lrNVPDgtF3MjM',\n",
       " '7tvURb3EutC5eHJQ1QoNTq',\n",
       " '6oVm5ocTB8B0rjO5dZk8Px',\n",
       " '3rTnGUeDrnZV22DvRuUuXr',\n",
       " '085evEw0dS7ODLc3ZCX0vq',\n",
       " '2nwxVkDbM9Y7plRSKKfIcT',\n",
       " '4aPl9DHXAqiYJUdjmBk4wf',\n",
       " '71HEg3bYLyMAxHuJ3a6KIM',\n",
       " '2o3jyT6JzyrpRncOVIxLLl',\n",
       " '03ECtgB8cdmgHB3s6aeLGj',\n",
       " '1Dp7JGFNjvg8Nk0CtMCcnr',\n",
       " '3dwjSIuxyU6jLbfRRt5fX4',\n",
       " '4tGQUAnrOXuM3epCM8OBYC',\n",
       " '1XQnZTR0ER8y5fGO17uX1R',\n",
       " '0guNjayAfHBgG1BPhkhT3d',\n",
       " '6ZzQ76i9WDdVmwVeDQIcJz',\n",
       " '44alNkXsYnTyPnkMdohBcx',\n",
       " '05QeyKGAn4TZrv41tMiD1A',\n",
       " '39V80DsHqas6AxqoVCVDIr',\n",
       " '6dDXhN1Gssy8qonfDEa3EI',\n",
       " '7ldIYiFIvxPyTiy0iO9UqV',\n",
       " '71WzoGZcDWzrKZqSkiY3Tz',\n",
       " '6b7j9PK107JFAb4OM2loie',\n",
       " '67R4hNuwDWxDYGEd1lVlru',\n",
       " '7swTZr50nSpeq9469IJ9LI',\n",
       " '2AJkpwkDvAoj9al2tBWfK7',\n",
       " '3WVBQjDRoUUTJnWVaUUEHL',\n",
       " '5GDJpB4k5yzzjjNbi3MnTz',\n",
       " '5OQlzJEpnbSd3f4ZBdh1lI',\n",
       " '7Jh1bpe76CNTCgdgAdBw4Z',\n",
       " '54rZE6vIzFU7cKld28NE7s',\n",
       " '17b8JfOB3C9eSzockIBgvZ',\n",
       " '4Pf4pygB5mb8PtEr1SMK1u',\n",
       " '6dpPkJIg1nGcvcvFC1aXUR',\n",
       " '0jw2IKm30sbb6kK2WgHvmn',\n",
       " '307cqh2ACTzBm3deY5uVzs',\n",
       " '3KhDqe6lwslwDsDGFq9cvq',\n",
       " '3vhQHYQ6Lz08VzUuERJ06W',\n",
       " '2jpuRZSbcBgm7jgJy3ys3r',\n",
       " '68wibJU4yMiqNX79IaLAsN',\n",
       " '0muYLof9H50ElzamEgi6nt',\n",
       " '7DqOEFNBLOfF2X24eXbG2z',\n",
       " '1NawD4ezwYuCtues1xG2Xj',\n",
       " '3GhY9OW479kbAQvnlR0uAt',\n",
       " '0chBzUSAfMg133RaYd6b7X',\n",
       " '2qeGrFbgL4St7P4ArgXCS9',\n",
       " '34fW9WmeI49SUTOTwW91kP',\n",
       " '3gd9jFyf2AhJPi1HqHUVFP',\n",
       " '0RMrqldYnjyoZziGlIvton',\n",
       " '3biMJs3xhRTg13aZEWukty',\n",
       " '67AmB2gk9L41eVSy590o1v',\n",
       " '2SYWArhFYrwDYm0gM1aonU',\n",
       " '1YVVAiBD5WhX2ZdHtlSOhz',\n",
       " '1G1zhTPT7ZlgZHsyjelcQg',\n",
       " '7eJMfftS33KTjuF7lTsMCx',\n",
       " '3xxz277NbYSFLbj1DRYtsf',\n",
       " '2lffRiAET2Xt6BNb4EmkS2',\n",
       " '2m1W73aJNII9wafWkDn8S0',\n",
       " '6x14wL9HvABR2Rix8N88EH',\n",
       " '6xMFDLtFIiObaAuB42qHGW',\n",
       " '669PEr8I3wOswY8BANBpdh',\n",
       " '65wICNTM2s1PwXSgKt8f0a',\n",
       " '0tutU5E5kMR3bY8sZllpoJ',\n",
       " '1mGppNewxmuC9tpXhgZ2kO',\n",
       " '5yGZ0DhhktOyE2sPPSX2Q8',\n",
       " '2ZYBwkmtYhgUj1A7teYAZ7',\n",
       " '1AdYZ6X00nXmO613Y7GJOl',\n",
       " '0GevyB8xMZvEMNtyVCOxLf',\n",
       " '1K0AENxzuLi4M420wUlvPT',\n",
       " '0yc6Gst2xkRu0eMLeRMGCX',\n",
       " '0qnSjipvB268SHMbNSxZ7y',\n",
       " '1SKPmfSYaPsETbRHaiA18G',\n",
       " '7qH9Z4dJEN0l9bidizW7fq',\n",
       " '2KCqAdd2ad0hpJc5ySoTE8',\n",
       " '76bcaYeKOKTrj9lEc9BZFU',\n",
       " '2IhUmUhs9gCN2mCCuQHIPJ',\n",
       " '78phUJYhGDpYur3XNICQQY',\n",
       " '1uP8UVMXcTJn28TbhfR2Wo',\n",
       " '36xZeDLfY3pSGZdQadvEvd',\n",
       " '6DvMHPpNxxozZYyL9WjK2O',\n",
       " '7i3MO9TWVzZyfLghMs6qH5',\n",
       " '5q2xlArAzx7UHtbDSwIYPJ',\n",
       " '2Wl4MbBRtan8gr0C8qUSGT',\n",
       " '57MkRx712OdCQFCD2F4Yzc',\n",
       " '58UM4xyufOAwhpvmfCBPyD',\n",
       " '37mfTcSlX60JtAvAETytGs',\n",
       " '4qx6KUiBAsuZB9ubcreapu',\n",
       " '7biIPXNwf5SgDSlLChMvC6',\n",
       " '2xIed9JHx5IuZ8T16JGOOM',\n",
       " '4LDOieBPdFL4E8Z5raYuoq',\n",
       " '0P3IyyiJecMoAX9Q4cbwHX',\n",
       " '3UKvS7mLIsv7HvFQHQNRP8',\n",
       " '3EIQofQf9NloNNmvg45MFE',\n",
       " '2eDRSAU65nsBDlCzde45Vd',\n",
       " '7hzgk557YLr0722EFkmp9Z',\n",
       " '32XCjURMIi6zTRriXP8RF2',\n",
       " '0zRCHQtrCsAaCSvxtexSf0',\n",
       " '4i3txPQIUV4eC9g9FBpi9I',\n",
       " '5BeYGBDPpCICt6WwrCaCHL',\n",
       " '31Xlp8YDrHFNN54Y2F8fB8',\n",
       " '46Xnj8vZFwOZCE4aZNXlTf',\n",
       " '3YDbCeUmo9V4ZM3c8b8KF0',\n",
       " '5oSSFX46m6u3UFLoouLlTw',\n",
       " '0HSSgiQmmv0mQg4LiQhTbj',\n",
       " '21KBEtrQybdzCY2acS1PAu',\n",
       " '1UR0lWHLSCx2naiD7bq9FW',\n",
       " '2cLG5TbzZoHiKbHETnvIGv',\n",
       " '3ZRbP0biQ1e6cjokeR1eSI',\n",
       " '2I3GqzeBrDexksDBR6v9CQ']"
      ]
     },
     "execution_count": 47,
     "metadata": {},
     "output_type": "execute_result"
    }
   ],
   "source": [
    "track_ids = [track['track']['id'] for track in tracks]\n",
    "track_ids"
   ]
  },
  {
   "cell_type": "code",
   "execution_count": 52,
   "metadata": {},
   "outputs": [
    {
     "data": {
      "text/plain": [
       "{'danceability': 0.171,\n",
       " 'energy': 0.626,\n",
       " 'key': 8,\n",
       " 'loudness': -8.677,\n",
       " 'mode': 1,\n",
       " 'speechiness': 0.0486,\n",
       " 'acousticness': 0.873,\n",
       " 'instrumentalness': 0.0252,\n",
       " 'liveness': 0.0681,\n",
       " 'valence': 0.457,\n",
       " 'tempo': 180.098,\n",
       " 'type': 'audio_features',\n",
       " 'id': '0MtVmhAx6CxNuxFIUc6Mj9',\n",
       " 'uri': 'spotify:track:0MtVmhAx6CxNuxFIUc6Mj9',\n",
       " 'track_href': 'https://api.spotify.com/v1/tracks/0MtVmhAx6CxNuxFIUc6Mj9',\n",
       " 'analysis_url': 'https://api.spotify.com/v1/audio-analysis/0MtVmhAx6CxNuxFIUc6Mj9',\n",
       " 'duration_ms': 348893,\n",
       " 'time_signature': 3}"
      ]
     },
     "execution_count": 52,
     "metadata": {},
     "output_type": "execute_result"
    }
   ],
   "source": [
    "sp.audio_features(track_ids[1])[0]"
   ]
  },
  {
   "cell_type": "code",
   "execution_count": null,
   "metadata": {},
   "outputs": [],
   "source": []
  }
 ],
 "metadata": {
  "kernelspec": {
   "display_name": "Python 3",
   "language": "python",
   "name": "python3"
  },
  "language_info": {
   "codemirror_mode": {
    "name": "ipython",
    "version": 3
   },
   "file_extension": ".py",
   "mimetype": "text/x-python",
   "name": "python",
   "nbconvert_exporter": "python",
   "pygments_lexer": "ipython3",
   "version": "3.8.2"
  }
 },
 "nbformat": 4,
 "nbformat_minor": 4
}
