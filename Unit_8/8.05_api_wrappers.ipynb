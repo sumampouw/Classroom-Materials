{
 "cells": [
  {
   "cell_type": "markdown",
   "metadata": {},
   "source": [
    "## WebScraping V: rise of the wrappers"
   ]
  },
  {
   "cell_type": "code",
   "execution_count": 4,
   "metadata": {},
   "outputs": [
    {
     "name": "stdout",
     "output_type": "stream",
     "text": [
      "Collecting spotipy\n",
      "  Downloading spotipy-2.19.0-py3-none-any.whl (27 kB)\n",
      "Requirement already satisfied: six>=1.15.0 in /Users/abhimanyumittal/venv/lib/python3.8/site-packages (from spotipy) (1.16.0)\n",
      "Requirement already satisfied: urllib3>=1.26.0 in /Users/abhimanyumittal/venv/lib/python3.8/site-packages (from spotipy) (1.26.4)\n",
      "Requirement already satisfied: requests>=2.25.0 in /Users/abhimanyumittal/venv/lib/python3.8/site-packages (from spotipy) (2.25.1)\n",
      "Requirement already satisfied: idna<3,>=2.5 in /Users/abhimanyumittal/venv/lib/python3.8/site-packages (from requests>=2.25.0->spotipy) (2.10)\n",
      "Requirement already satisfied: chardet<5,>=3.0.2 in /Users/abhimanyumittal/venv/lib/python3.8/site-packages (from requests>=2.25.0->spotipy) (4.0.0)\n",
      "Requirement already satisfied: certifi>=2017.4.17 in /Users/abhimanyumittal/venv/lib/python3.8/site-packages (from requests>=2.25.0->spotipy) (2020.12.5)\n",
      "Installing collected packages: spotipy\n",
      "Successfully installed spotipy-2.19.0\n",
      "\u001b[33mWARNING: You are using pip version 21.0.1; however, version 21.2.4 is available.\n",
      "You should consider upgrading via the '/Users/abhimanyumittal/venv/bin/python -m pip install --upgrade pip' command.\u001b[0m\n"
     ]
    }
   ],
   "source": [
    "!pip install spotipy"
   ]
  },
  {
   "cell_type": "code",
   "execution_count": 5,
   "metadata": {
    "scrolled": true
   },
   "outputs": [
    {
     "data": {
      "text/plain": [
       "{'tracks': {'href': 'https://api.spotify.com/v1/search?query=artist%3ALos+Hermanos&type=track&offset=0&limit=1',\n",
       "  'items': [{'album': {'album_type': 'album',\n",
       "     'artists': [{'external_urls': {'spotify': 'https://open.spotify.com/artist/2B8mbONjmLnXk4wpqF5UPQ'},\n",
       "       'href': 'https://api.spotify.com/v1/artists/2B8mbONjmLnXk4wpqF5UPQ',\n",
       "       'id': '2B8mbONjmLnXk4wpqF5UPQ',\n",
       "       'name': 'Los Mier',\n",
       "       'type': 'artist',\n",
       "       'uri': 'spotify:artist:2B8mbONjmLnXk4wpqF5UPQ'}],\n",
       "     'available_markets': ['US'],\n",
       "     'external_urls': {'spotify': 'https://open.spotify.com/album/3XqjOolTMs2plXorDGZINS'},\n",
       "     'href': 'https://api.spotify.com/v1/albums/3XqjOolTMs2plXorDGZINS',\n",
       "     'id': '3XqjOolTMs2plXorDGZINS',\n",
       "     'images': [{'height': 640,\n",
       "       'url': 'https://i.scdn.co/image/ab67616d0000b273306a4b579a60ac52181d6ae0',\n",
       "       'width': 640},\n",
       "      {'height': 300,\n",
       "       'url': 'https://i.scdn.co/image/ab67616d00001e02306a4b579a60ac52181d6ae0',\n",
       "       'width': 300},\n",
       "      {'height': 64,\n",
       "       'url': 'https://i.scdn.co/image/ab67616d00004851306a4b579a60ac52181d6ae0',\n",
       "       'width': 64}],\n",
       "     'name': 'Mi Historia',\n",
       "     'release_date': '1997-01-01',\n",
       "     'release_date_precision': 'day',\n",
       "     'total_tracks': 12,\n",
       "     'type': 'album',\n",
       "     'uri': 'spotify:album:3XqjOolTMs2plXorDGZINS'},\n",
       "    'artists': [{'external_urls': {'spotify': 'https://open.spotify.com/artist/2B8mbONjmLnXk4wpqF5UPQ'},\n",
       "      'href': 'https://api.spotify.com/v1/artists/2B8mbONjmLnXk4wpqF5UPQ',\n",
       "      'id': '2B8mbONjmLnXk4wpqF5UPQ',\n",
       "      'name': 'Los Mier',\n",
       "      'type': 'artist',\n",
       "      'uri': 'spotify:artist:2B8mbONjmLnXk4wpqF5UPQ'}],\n",
       "    'available_markets': ['US'],\n",
       "    'disc_number': 1,\n",
       "    'duration_ms': 175373,\n",
       "    'explicit': False,\n",
       "    'external_ids': {'isrc': 'MXF110000326'},\n",
       "    'external_urls': {'spotify': 'https://open.spotify.com/track/2Y1qcW4b9aVRnX1fHaVvxY'},\n",
       "    'href': 'https://api.spotify.com/v1/tracks/2Y1qcW4b9aVRnX1fHaVvxY',\n",
       "    'id': '2Y1qcW4b9aVRnX1fHaVvxY',\n",
       "    'is_local': False,\n",
       "    'name': 'Te Amo',\n",
       "    'popularity': 57,\n",
       "    'preview_url': None,\n",
       "    'track_number': 12,\n",
       "    'type': 'track',\n",
       "    'uri': 'spotify:track:2Y1qcW4b9aVRnX1fHaVvxY'}],\n",
       "  'limit': 1,\n",
       "  'next': 'https://api.spotify.com/v1/search?query=artist%3ALos+Hermanos&type=track&offset=1&limit=1',\n",
       "  'offset': 0,\n",
       "  'previous': None,\n",
       "  'total': 10000}}"
      ]
     },
     "execution_count": 5,
     "metadata": {},
     "output_type": "execute_result"
    }
   ],
   "source": [
    "import spotipy\n",
    "from spotipy.oauth2 import SpotifyClientCredentials\n",
    "\n",
    "#Initialize SpotiPy with user credentias\n",
    "sp = spotipy.Spotify(auth_manager=SpotifyClientCredentials(client_id=\"af3a4e21d9974f798b0ddef081728f2b\",\n",
    "                                                           client_secret=\"99a65d20eff04d64bcf24b11824dffc4\"))\n",
    "\n",
    "results = sp.search(q='artist:Los Hermanos', limit=1)\n",
    "results"
   ]
  },
  {
   "cell_type": "code",
   "execution_count": 6,
   "metadata": {},
   "outputs": [
    {
     "data": {
      "text/plain": [
       "1"
      ]
     },
     "execution_count": 6,
     "metadata": {},
     "output_type": "execute_result"
    }
   ],
   "source": [
    "len(results['tracks']['items'])"
   ]
  },
  {
   "cell_type": "code",
   "execution_count": 7,
   "metadata": {},
   "outputs": [
    {
     "data": {
      "text/plain": [
       "dict_keys(['tracks'])"
      ]
     },
     "execution_count": 7,
     "metadata": {},
     "output_type": "execute_result"
    }
   ],
   "source": [
    "results.keys() # We can see that we only have tracks"
   ]
  },
  {
   "cell_type": "code",
   "execution_count": 8,
   "metadata": {},
   "outputs": [
    {
     "data": {
      "text/plain": [
       "dict_keys(['href', 'items', 'limit', 'next', 'offset', 'previous', 'total'])"
      ]
     },
     "execution_count": 8,
     "metadata": {},
     "output_type": "execute_result"
    }
   ],
   "source": [
    "results[\"tracks\"].keys() # Let's check the values"
   ]
  },
  {
   "cell_type": "code",
   "execution_count": 9,
   "metadata": {
    "scrolled": true
   },
   "outputs": [
    {
     "data": {
      "text/plain": [
       "'https://api.spotify.com/v1/search?query=artist%3ALos+Hermanos&type=track&offset=0&limit=1'"
      ]
     },
     "execution_count": 9,
     "metadata": {},
     "output_type": "execute_result"
    }
   ],
   "source": [
    "results[\"tracks\"][\"href\"] # Query we have searched"
   ]
  },
  {
   "cell_type": "code",
   "execution_count": 10,
   "metadata": {},
   "outputs": [
    {
     "data": {
      "text/plain": [
       "dict_keys(['album', 'artists', 'available_markets', 'disc_number', 'duration_ms', 'explicit', 'external_ids', 'external_urls', 'href', 'id', 'is_local', 'name', 'popularity', 'preview_url', 'track_number', 'type', 'uri'])"
      ]
     },
     "execution_count": 10,
     "metadata": {},
     "output_type": "execute_result"
    }
   ],
   "source": [
    "results[\"tracks\"][\"items\"][0].keys() #items (actual tracks)"
   ]
  },
  {
   "cell_type": "code",
   "execution_count": 11,
   "metadata": {},
   "outputs": [
    {
     "data": {
      "text/plain": [
       "'Te Amo'"
      ]
     },
     "execution_count": 11,
     "metadata": {},
     "output_type": "execute_result"
    }
   ],
   "source": [
    "results[\"tracks\"][\"items\"][0]['name']"
   ]
  },
  {
   "cell_type": "code",
   "execution_count": 12,
   "metadata": {},
   "outputs": [
    {
     "data": {
      "text/plain": [
       "10000"
      ]
     },
     "execution_count": 12,
     "metadata": {},
     "output_type": "execute_result"
    }
   ],
   "source": [
    "# Info that might help you navegate through the API\n",
    "results[\"tracks\"][\"limit\"]#Limit we have chosen\n",
    "results[\"tracks\"][\"next\"] #link to the next page (next 50 tracks)\n",
    "results[\"tracks\"][\"offset\"] # Actual offset (starting point)\n",
    "results[\"tracks\"][\"previous\"] #Previous search\n",
    "results[\"tracks\"][\"total\"] # Number of matches"
   ]
  },
  {
   "cell_type": "markdown",
   "metadata": {},
   "source": [
    "#### User playlists"
   ]
  },
  {
   "cell_type": "code",
   "execution_count": 14,
   "metadata": {},
   "outputs": [],
   "source": [
    "playlist = sp.user_playlist_tracks(\"spotify\", \"12Wbv8sIx84T5uh6iOoJ7V\")\n",
    "playlist#.keys() # Let's look at items and total:"
   ]
  },
  {
   "cell_type": "code",
   "execution_count": 22,
   "metadata": {},
   "outputs": [
    {
     "data": {
      "text/plain": [
       "202"
      ]
     },
     "execution_count": 22,
     "metadata": {},
     "output_type": "execute_result"
    }
   ],
   "source": [
    "playlist[\"total\"]"
   ]
  },
  {
   "cell_type": "code",
   "execution_count": 23,
   "metadata": {},
   "outputs": [
    {
     "data": {
      "text/plain": [
       "100"
      ]
     },
     "execution_count": 23,
     "metadata": {},
     "output_type": "execute_result"
    }
   ],
   "source": [
    "len(playlist[\"items\"]) "
   ]
  },
  {
   "cell_type": "code",
   "execution_count": 41,
   "metadata": {},
   "outputs": [],
   "source": [
    "results = sp.user_playlist_tracks(\"spotify\", \"12Wbv8sIx84T5uh6iOoJ7V\")\n",
    "tracks = results['items']\n",
    "\n",
    "while results['next']:\n",
    "    results = sp.next(results)\n",
    "    tracks.extend(results['items'])\n"
   ]
  },
  {
   "cell_type": "code",
   "execution_count": 37,
   "metadata": {},
   "outputs": [
    {
     "data": {
      "text/plain": [
       "202"
      ]
     },
     "execution_count": 37,
     "metadata": {},
     "output_type": "execute_result"
    }
   ],
   "source": [
    "results = sp.user_playlist_tracks(\"spotify\", \"12Wbv8sIx84T5uh6iOoJ7V\")\n",
    "tracks = results['items']\n",
    "\n",
    "for oset in range(100,results['total'],100):\n",
    "    results = sp.user_playlist_tracks(\"spotify\", \"12Wbv8sIx84T5uh6iOoJ7V\", offset=oset)\n",
    "    tracks += results['items']\n",
    "len(tracks)"
   ]
  },
  {
   "cell_type": "code",
   "execution_count": 38,
   "metadata": {},
   "outputs": [
    {
     "data": {
      "text/plain": [
       "[100, 200]"
      ]
     },
     "execution_count": 38,
     "metadata": {},
     "output_type": "execute_result"
    }
   ],
   "source": [
    "list(range(100,results['total'],100))"
   ]
  },
  {
   "cell_type": "code",
   "execution_count": 42,
   "metadata": {},
   "outputs": [],
   "source": [
    "# It is limited to 100 tracks, we will have to fix it:\n",
    "\n",
    "def get_playlist_tracks(username, playlist_id):\n",
    "    \n",
    "    results = sp.user_playlist_tracks(username, playlist_id)\n",
    "    tracks = results['items']\n",
    "    \n",
    "    while results['next']:\n",
    "        results = sp.next(results)\n",
    "        tracks.extend(results['items'])\n",
    "    \n",
    "    return tracks\n",
    "\n",
    "tracks = get_playlist_tracks(\"spotify\", \"12Wbv8sIx84T5uh6iOoJ7V\")"
   ]
  },
  {
   "cell_type": "code",
   "execution_count": 15,
   "metadata": {},
   "outputs": [],
   "source": [
    "tracks#[0]['track']#['artists']#.keys()#['name']"
   ]
  },
  {
   "cell_type": "code",
   "execution_count": 13,
   "metadata": {},
   "outputs": [
    {
     "data": {
      "text/plain": [
       "202"
      ]
     },
     "execution_count": 13,
     "metadata": {},
     "output_type": "execute_result"
    }
   ],
   "source": [
    "len(tracks)"
   ]
  },
  {
   "cell_type": "code",
   "execution_count": 59,
   "metadata": {},
   "outputs": [],
   "source": [
    "# Getting all the artists\n",
    "\n",
    "def get_artists_from_playlist(playlist_id):\n",
    "    \n",
    "    tracks_from_playlist = get_playlist_tracks(\"spotify\", playlist_id)\n",
    "    \n",
    "    artists = []\n",
    "    \n",
    "    for track in tracks_from_playlist:\n",
    "        artists_info = track['track']['artists']\n",
    "        \n",
    "        for artist_info in artists_info:\n",
    "            artists.append(artist_info['name'])\n",
    "    \n",
    "    return list(set(artists))"
   ]
  },
  {
   "cell_type": "code",
   "execution_count": 58,
   "metadata": {},
   "outputs": [],
   "source": [
    "# Getting all the artists IDs\n",
    "\n",
    "def get_artists_ids_from_playlist(playlist_id):\n",
    "    \n",
    "    tracks_from_playlist = get_playlist_tracks(\"spotify\", playlist_id)\n",
    "    \n",
    "    artists_ids = []\n",
    "    \n",
    "    for track in tracks_from_playlist:\n",
    "        artists_info = track['track']['artists']\n",
    "        \n",
    "        for artist_info in artists_info:\n",
    "            artists_ids.append(artist_info['id'])\n",
    "            \n",
    "    return list(set(artists_ids))"
   ]
  },
  {
   "cell_type": "code",
   "execution_count": 60,
   "metadata": {},
   "outputs": [
    {
     "data": {
      "text/plain": [
       "['La Dispute',\n",
       " 'Big Scary',\n",
       " 'Grandaddy',\n",
       " 'The Books',\n",
       " 'Delta Sleep',\n",
       " 'Attic Abasement',\n",
       " 'Phantogram',\n",
       " 'Flight Facilities',\n",
       " 'Motion City Soundtrack',\n",
       " 'Freelance Whales',\n",
       " 'Taba Chake',\n",
       " 'dandelion hands',\n",
       " 'Husbands',\n",
       " 'WHY?',\n",
       " 'Christine Hoberg',\n",
       " 'Benny Sings',\n",
       " 'Pinback',\n",
       " 'Darwin Deez']"
      ]
     },
     "execution_count": 60,
     "metadata": {},
     "output_type": "execute_result"
    }
   ],
   "source": [
    "artists = get_artists_from_playlist(\"5LJ68O8CE7hg9oAm2vYk5K\")\n",
    "artists"
   ]
  },
  {
   "cell_type": "code",
   "execution_count": 17,
   "metadata": {},
   "outputs": [
    {
     "data": {
      "text/plain": [
       "['0ZxZlO7oWCSYMXhehpyMvE',\n",
       " '7blXVKBSxdFZsIqlhdViKc',\n",
       " '6fZudW7fIeAYmGoSpl8mAv',\n",
       " '5SVFuUaS3BKAdJs6I8rVa4',\n",
       " '0lPhSdyfILTWuDUWJRyAk7',\n",
       " '7FBcuc1gsnv6Y1nwFtNRCb',\n",
       " '4I2BJf80C0skQpp1sQmA0h',\n",
       " '6FBDaR13swtiWwGhX1WQsP',\n",
       " '5ERkupmHea6uS0nwKr2zcz',\n",
       " '0botW5W7KGHTm8BkLemEH8',\n",
       " '0nuq0P5rPEpF6oFM4PTia5',\n",
       " '3Jy7XwrGPgOEq4OxRODWbf',\n",
       " '5schNIzWdI9gJ1QRK8SBnc',\n",
       " '3pTE9iaJTkWns3mxpNQlJV',\n",
       " '4nzV0hThyodYzrwksnS86G',\n",
       " '7o96HO2zrujyATtVsqGhh3',\n",
       " '163tK9Wjr9P9DmM0AVK7lm',\n",
       " '2d1iZa3wlO73YOM6tCeWSI',\n",
       " '5zlnl1lFTTaETmaKci4V6j',\n",
       " '2sNHl4oXsU0DVTy9u1otGt',\n",
       " '7oRT0oC3vhUGQJCL6CYYzk',\n",
       " '0Raaw7kr1Vzat4ZvHzjsJR',\n",
       " '0syIRg9MPSpJIC0QCPUaHB',\n",
       " '44DUgsrbRUlhwfLyj4ySUB',\n",
       " '3Kthx6vfOdyrwpE1mjsyb8',\n",
       " '1BPsbKiNgav1TY1ITIU8C5',\n",
       " '16eRpMNXSQ15wuJoeqguaB',\n",
       " '0qG3lxHmrUeKzL1BJJ7IBN',\n",
       " '3SBeVI3ELQKQTEDoQ9ztq9',\n",
       " '7ucqItQmz1PCNHBFSbr0ki',\n",
       " '20JZFwl6HVl6yg8a4H3ZqK',\n",
       " '2EO56JK4txid1Pss9GVbOL',\n",
       " '1WrqUPWlHN5FXCRcQgrkas',\n",
       " '5cIc3SBFuBLVxJz58W2tU9',\n",
       " '1UQRtt7eHW6Bt4INNTUtb3',\n",
       " '35l9BRT7MXmM8bv2WDQiyB',\n",
       " '5LkgVE79AHNZN7kMukfJFv',\n",
       " '54Bjxn26WsjfslQbNVtSCm',\n",
       " '6GpcBKNmZDIrRzYkPJu7Wd',\n",
       " '7giUHu5pv6YTZgSkxxCcgh',\n",
       " '4yvcSjfu4PC0CYQyLy4wSq',\n",
       " '3XHO7cRUPCLOr6jwp8vsx5',\n",
       " '68524z8sd176IRenNb1Fjy',\n",
       " '2FUIaEhxMNdiBpO8ykabdP',\n",
       " '246dkjvS1zLTtiykXe5h60',\n",
       " '1Tp7C6LzxZe9Mix6rn4zbI',\n",
       " '4fw9oPmbbmHW5aAJpkJdlI',\n",
       " '4MXUO7sVCaFgFjoTI5ox5c',\n",
       " '5sXaGoRLSpd7VeyZrLkKwt',\n",
       " '1ZtnMtzSrxGf5dt0PPLvAC',\n",
       " '4ERtgeBbWRkFzIz6LaFCeY',\n",
       " '3kE0TeA4n6FZD1UG6ctB0m',\n",
       " '2JSc53B5cQ31m0xTB7JFpG',\n",
       " '5cxol8ruhBU1QpUick7A42',\n",
       " '0n94vC3S9c3mb2HyNAOcjg',\n",
       " '4o16FybIZV7WPD7tOl7PUd',\n",
       " '7IAFAOtc9kTYNTizhLSWM6',\n",
       " '7ItbAZITSFxSy5LJChXe18',\n",
       " '5yV1qdnmxyIYiSFB02wpDj',\n",
       " '2kbAovdYb7krLSGdOrBMRu',\n",
       " '7Il2FrLyoQt0JlyhJRDL1c',\n",
       " '79hrYiudVcFyyxyJW0ipTy',\n",
       " '3BwypqKeCj1DVIoEFwoz3S',\n",
       " '0UQCSEnTVyI8gtCVEeJMKN',\n",
       " '2cCUtGK9sDU2EoElnk0GNB',\n",
       " '3DtHAw4MrjXhVFotN5n8fZ',\n",
       " '0xIsWKGGU3QjOvNp3l4jmo',\n",
       " '2dfxY7YDuYCUtWFzWTS6IR',\n",
       " '3nnQpaTvKb5jCQabZefACI',\n",
       " '3gd8FJtBJtkRxdfbTu19U2',\n",
       " '02YLJJnWC7YQVixkjEBRn7',\n",
       " '3NBmfDV6Yh3hjuQUBVvYgO',\n",
       " '2x7EATekOPhFGRx3syMGEC',\n",
       " '1btWGBz4Uu1HozTwb2Lm8A',\n",
       " '1Li0eIWeMeWcOOWpImcG9H',\n",
       " '3wWtfT7S2uVJJ3hGZlOLkZ',\n",
       " '56ZTgzPBDge0OvCGgMO3OY',\n",
       " '5vdQYwhaxOpaSV8s7AjjH6',\n",
       " '5Lm1CMoa8VOCBCLZesAcvc',\n",
       " '634K1Y2zhBHexel2Ma4xsC',\n",
       " '2SlMPjZm02pC12ODpApdhB',\n",
       " '7FDlvgcodNfC0IBdWevl4u',\n",
       " '0BVWMc7JEHdh2Ku6xgKuYL',\n",
       " '2Ijj8pkgSpxa6Il5BxI7ms',\n",
       " '7MOxmVjcx5HWoEu9pBWXT3',\n",
       " '26FGaBmX3yqXeFp3rTPWyp',\n",
       " '6QKDcdjtwqu4E7rztEUQu5',\n",
       " '2RwfRD2vlkdztGtVXENShq',\n",
       " '6imbHAlhHrFwtsOgqpeBK2',\n",
       " '586uxXMyD5ObPuzjtrzO1Q',\n",
       " '7IfZ8AcE6F4PZVtT8d0JE3',\n",
       " '3kzwYV3OCB010YfXMF0Avt',\n",
       " '5YltHxThwwuFhikvggRu5M',\n",
       " '3IunaFjvNKj98JW89JYv9u',\n",
       " '36057fby7tY856T2vg7jQj',\n",
       " '0slVGXBggrLglTLNKbeEyW',\n",
       " '1zXMNLcTn3CMhVKOQ9DSUp',\n",
       " '2D0wm8aDnVrcljPwg2GM75',\n",
       " '59RNNqeEfkq3X5pfOQxZ3C',\n",
       " '4bBaa9aj9JKI1tp7RZecxR',\n",
       " '4qU7IJSReZnsLy5907Mtau',\n",
       " '7KGI0OwY8iAL5rI5p47YyK',\n",
       " '0tC995Rfn9k2l7nqgCZsV7',\n",
       " '28dDyPkw069ypiqC78dhRb',\n",
       " '2ATweaQe83QUQVjM8LMh7J',\n",
       " '5Ld19xtpAR80G2boTcHaVx',\n",
       " '4LEiUm1SRbFMgfqnQTwUbQ',\n",
       " '2Z7gV3uEh1ckIaBzTUCE6R',\n",
       " '4M5nCE77Qaxayuhp3fVn4V',\n",
       " '59KX7XUUgAOOo5IyDjca0T',\n",
       " '21XbnrbEMUTZelIfoV12hC',\n",
       " '1BlsomJZZh7jhA7IvgS1Al',\n",
       " '6Bo5UEoUopq42HZX3apU1w',\n",
       " '0YrtvWJMgSdVrk3SfNjTbx',\n",
       " '3gXlFR0nVmanIwiMZ8SCnj',\n",
       " '027TpXKGwdXP7iwbjUSpV8',\n",
       " '3VQtUiBsrl1qXskSbtdQzi',\n",
       " '6qiGjRyN7TJ1GA2nXF68Hi',\n",
       " '6pmxr66tMAePxzOLfjGNcX',\n",
       " '0oSGxfWSnnOXhD2fKuz2Gy',\n",
       " '6bmlMHgSheBauioMgKv2tn',\n",
       " '7K3zpFXBvPcvzhj7zlGJdO',\n",
       " '0BzqUvjgztIQEyizxqj2xP',\n",
       " '26GHRG8x1F4AzbCKzUaIbw',\n",
       " '2bDSLK8y2edA9n2TPbzv6h',\n",
       " '4qOVAE5WtSf1lQ9Fi6jxXi',\n",
       " '5ZyTLGmGVyPcuv17gy4fvw',\n",
       " '3zIJJVhqINXeuLWMbZdlbY',\n",
       " '6AnOY77z51J14nEUVsFKTy',\n",
       " '5QdyldG4Fl4TPiOIeMNpBZ',\n",
       " '6hQS54VPpxunuwR0W7usuo',\n",
       " '4zrFO6P7G6EZry0pfxMfKT',\n",
       " '4tvKz56Tr39bkhcQUTO0Xr',\n",
       " '3VAxb3UskTNiHAKh4UeOEv',\n",
       " '6G7P2EzH5A36ujN9VPm4B0',\n",
       " '6Xb4ezwoAQC4516kI89nWz',\n",
       " '0nJaMZM8paoA5HEUTUXPqi',\n",
       " '1vkWdqcabQ1swciXipkLBj',\n",
       " '5o8Wylae9k23IEJMIiwd8s',\n",
       " '66mL7YE8rG9eCu4QgM64m4',\n",
       " '6FQqZYVfTNQ1pCqfkwVFEa',\n",
       " '1zNqQNIdeOUZHb8zbZRFMX',\n",
       " '1XwRhEHqiCVgiEJQk66fyy',\n",
       " '7lQKE6HaKQcCsgLRMhsh5W',\n",
       " '6d4jrmreCmsenscuieJERc',\n",
       " '6AyATGg7mDgBlZ4N5uNog0',\n",
       " '1bYTiIHnxEdBncCHYCfE4j',\n",
       " '4qOzMSukiZoiSjPQw8Zs7s',\n",
       " '5EM6xJN2QNk0cL7EEm9HR9',\n",
       " '5o206eFLx38glA2bb4zqIU',\n",
       " '0wyMPXGfOuQzNR54ujR9Ix',\n",
       " '0rZp7G3gIH6WkyeXbrZnGi',\n",
       " '3MZsBdqDrRTJihTHQrO6Dq',\n",
       " '2tYXwM1rLFrTBtYHY8JpnN',\n",
       " '2ayD3f20lm9a4aKNtg2sUm',\n",
       " '09b4q9Vfmuvxb8LuOrhp7W',\n",
       " '77BznF1Dr1k5KyEZ6Nn3jB',\n",
       " '63MQldklfxkjYDoUE4Tppz',\n",
       " '0aLsJXIaJ6MMCZIzaGpMaX',\n",
       " '53A0W3U0s8diEn9RhXQhVz',\n",
       " '0y0UzT7xPdd9niCbsODXES',\n",
       " '46CitWgnWrvF9t70C2p1Me',\n",
       " '6107PIkQDuEUcdpZqSzQsu',\n",
       " '64YVotBSFQoRt2TWCkGFqy',\n",
       " '7FU0xCgmSYQEiBeevUqQ4S',\n",
       " '19zqV9DV3txjMUjHvltl2D',\n",
       " '2DtidViVelNGRQW2Znq5Mf',\n",
       " '1Z2KInfSmPOzAIYyiaXeti',\n",
       " '0AdDjXozGY1mLZrjCOcE8O',\n",
       " '41y1iPh0WqB7tyGdzyeinZ',\n",
       " '5BvJzeQpmsdsFp4HGUYUEx',\n",
       " '4rUMcxwZhidyj6FTbMSXse',\n",
       " '1r1uxoy19fzMxunt3ONAkG',\n",
       " '0epOFNiUfyON9EYx7Tpr6V',\n",
       " '12KsgeavNVg66cW2frw3j2',\n",
       " '5Bcrb5qQMVTEbJ43fdIS4A',\n",
       " '1ctkBmvz80MGyi72Ix055S',\n",
       " '2KjAo6wVc9d2WcxdxSArpV',\n",
       " '3AcBSoCVhxILXJnfLcJb66',\n",
       " '336vr2M3Va0FjyvB55lJEd',\n",
       " '0QNjXIQx37k8fIIzO4g71q',\n",
       " '0N3qLnfGCy4AvCUpnemNLn',\n",
       " '1QAJqy2dA3ihHBFIHRphZj',\n",
       " '2TuVzZPwEPqpstqmA0qLl6',\n",
       " '4gHcu2JoaXJ0mV4aNPCd7N',\n",
       " '4wXchxfTTggLtzkoUhO86Q',\n",
       " '5qQdzyIlYfzICKOVdb7XvY',\n",
       " '2HubQ6TEbD7HknCNrBsqhR',\n",
       " '1z2SrszsRmq47kDhBAnyNS']"
      ]
     },
     "execution_count": 17,
     "metadata": {},
     "output_type": "execute_result"
    }
   ],
   "source": [
    "artists_ids = get_artists_ids_from_playlist(\"12Wbv8sIx84T5uh6iOoJ7V\")\n",
    "artists_ids"
   ]
  },
  {
   "cell_type": "code",
   "execution_count": 49,
   "metadata": {},
   "outputs": [
    {
     "data": {
      "text/plain": [
       "['0A0eOcimSNRs2EQQlH7FFJ',\n",
       " '0MtVmhAx6CxNuxFIUc6Mj9',\n",
       " '6aUAF8JOd8zEl41B6I18xL',\n",
       " '2vGvPQNnyybJmiqpr1HiKX',\n",
       " '1PuLHwFZoh5qYK89I5YBdZ',\n",
       " '0XqvweqwDQluyCKyK25XqC',\n",
       " '3KkXRkHbMCARz0aVfEt68P',\n",
       " '5m9bm8tBxyhvKv41tMAdnv',\n",
       " '6r5tlCMur8Vngv3n0DzOFl',\n",
       " '3HQdwlovzULm18PjvlA5wz',\n",
       " '1Jte640nBiOWyuD7N0odNZ',\n",
       " '3HfSYACG5O3cio4dpHujWo',\n",
       " '4UdckfJgnMiFzY2leDJ11v',\n",
       " '7w5cxTEzp1rfV3KCy0Bd5N',\n",
       " '2DFRFqWNahKtFD112H2iEZ',\n",
       " '49WL7NYewiv6xPVgroXmKz',\n",
       " '3Ed55g8hCz1GmqRTelIPIW',\n",
       " '5TjAhRtHiLjCrzuOhgk50U',\n",
       " '4f1n0muKxA870NYsPmraLN',\n",
       " '0ytcZAli1HSG5qHNp76y6Y',\n",
       " '78dUBuP4dmw7krQz2yEI97',\n",
       " '0VqU5fPMcFo3iH1aWlDevK',\n",
       " '0WSPIU3Y3bNXsGeKnzSnt1',\n",
       " '1ogk8gkNwRw9iHONH2CAna',\n",
       " '5AGC0c1Hqv2iiUpvvxVexq',\n",
       " '7zfTF24acTKL42XSfzGETi',\n",
       " '4Qq8rERaPWkDuZsvSWR9LL',\n",
       " '2LWW6D1zabtolij6KFXQYm',\n",
       " '0QUiguzo0mWdlBk6Nvujic',\n",
       " '2y0ksBOhMh9hbJRLTNK8jC',\n",
       " '78J9MBkAoqfvyeEpQKJDzD',\n",
       " '73M2Vb5MfZh8iGKudkMtlw',\n",
       " '3nATeGcFdtkhpUrRvgr667',\n",
       " '0pdKRp2sUthTPe7RLWpPqQ',\n",
       " '1tSVf4MEdh8kVwKCmZw6uc',\n",
       " '6HTVZeVQ9J6Uiq6tHESxU9',\n",
       " '3RpwjGzgb8QAuOnZbdDZZs',\n",
       " '3cUxncrTWSA9lhlQbuIwUY',\n",
       " '7EaxLW81WCgYuHSu6UBcMa',\n",
       " '1tGfetmGzNQeJ7AZUhCaar',\n",
       " '0FfZudphGgQTGeEV6AhmOs',\n",
       " '5d8CreUdJvZejvTUo1IHLw',\n",
       " '4CwpP3vWh0f5VsEmvdOWib',\n",
       " '6a20J6YFMYUjUZ7WnuJYZu',\n",
       " '04NQ1q92DRbxWq6lhpVVDQ',\n",
       " '4mCF3EBgGPSqmEm205KBAV',\n",
       " '4abEe6s1Ja2qSxqC6BUzn1',\n",
       " '6AYFKOPbmd12rUP5DalRwB',\n",
       " '1TJlbxArMUQca5A3tfNyl2',\n",
       " '0DlTCllcloMx4ENilIfxan',\n",
       " '6YXbSjabsKQ1pNvj6zcJ9V',\n",
       " '7mMlbJlXXo2mRtQ4R9sIzD',\n",
       " '1VGCIpDw7EJG3oIuw7Hnnq',\n",
       " '6ug8xD1Q4jhgfE8t7r2ZKl',\n",
       " '1dKyBRZ7ckTsgdzRoWdgRY',\n",
       " '1zUj5lTHBiu3EkNr8KB27x',\n",
       " '5lmCkYVA7AFTHexCHJp2VK',\n",
       " '3czU3hYMIg7bdfVFXJWCvI',\n",
       " '5qo32EQuOBG9qvs3Hf2FYZ',\n",
       " '1kjaDbJzIBjuKxF2hk6ACj',\n",
       " '3WtB2who5tPeyzpe2rAoPk',\n",
       " '3NajfY7p2Si4qVvHba51X3',\n",
       " '74X1epeRufHckhuX1KFD04',\n",
       " '4nrdAPKfJDJ8Iiifa9WvD9',\n",
       " '0nMqu5vN44GNv8UOQxmBJK',\n",
       " '5xwKCPdE3kyU0XwqfbyQsx',\n",
       " '4ufN2o3Rf6LN5Z0XaqJXIz',\n",
       " '27LyQFdQbui4TnRs05cZ8C',\n",
       " '0ESvfrHfNuAtkZp8SMJBOY',\n",
       " '0eVYGqIPngJQUeRwGeVeXG',\n",
       " '3irtiZ6iy1C7CmMdzF11rT',\n",
       " '6rEkaGgEj1HLWZ9mjcZDjP',\n",
       " '5eeMft4YZx0Xdf9yJPNZJY',\n",
       " '0jcHQTvfHCH1LETpdMdHJo',\n",
       " '7oJmIBxEAYjfkS7lhZ7M1S',\n",
       " '2ZzoFGdygE4uLVHUGAaR0O',\n",
       " '7HHwxrSIIqyIMmpbSfgXeA',\n",
       " '47DKI4RxI8ZW0sBqDenMhO',\n",
       " '299KUyIYhezxrtXiwNamtP',\n",
       " '0DwaOWI1kC2s98qLj0LTDd',\n",
       " '3V3PN2Rs7qjVcnBi60QdMb',\n",
       " '1NodY8JMQCZAwpNd6Rsqew',\n",
       " '2SAr2lP8GwNYcJvbAVTKxi',\n",
       " '0DRvClQbN9znQ295sx76VC',\n",
       " '6xZ3PWSh0duo0ETm4lJ3lF',\n",
       " '5G89r6tEKp9ZrR3xivmMET',\n",
       " '4OIuUoYoO87LnzzaHNp1Ej',\n",
       " '1GxNPd5r7D1zChEMuMhue0',\n",
       " '2WsPW6yawWU8zczAeKk4c0',\n",
       " '4qyfir5Yr7nfo05g6cyFMT',\n",
       " '6lFHBbN3sDmSTqpEdZyBGv',\n",
       " '58rs5ZN3jjZ03rOuVyPNZb',\n",
       " '0JXKS3yn0oeSBeji20J523',\n",
       " '1mzjbH3G6oEm2OUTpXOS6f',\n",
       " '2z37pTrYrn8ncBt8QhxIl0',\n",
       " '6Py8QOQ4I1286xM9KncPQ4',\n",
       " '06OLH1cjQrSuWrqg7FXTD3',\n",
       " '51Yy4jTMPlq0Qwnn53id64',\n",
       " '4PMvRfhHAx5j6Bb3XsFLoq',\n",
       " '6tqzOYuE3lrNVPDgtF3MjM',\n",
       " '7tvURb3EutC5eHJQ1QoNTq',\n",
       " '6oVm5ocTB8B0rjO5dZk8Px',\n",
       " '3rTnGUeDrnZV22DvRuUuXr',\n",
       " '085evEw0dS7ODLc3ZCX0vq',\n",
       " '2nwxVkDbM9Y7plRSKKfIcT',\n",
       " '4aPl9DHXAqiYJUdjmBk4wf',\n",
       " '71HEg3bYLyMAxHuJ3a6KIM',\n",
       " '2o3jyT6JzyrpRncOVIxLLl',\n",
       " '03ECtgB8cdmgHB3s6aeLGj',\n",
       " '1Dp7JGFNjvg8Nk0CtMCcnr',\n",
       " '3dwjSIuxyU6jLbfRRt5fX4',\n",
       " '4tGQUAnrOXuM3epCM8OBYC',\n",
       " '1XQnZTR0ER8y5fGO17uX1R',\n",
       " '0guNjayAfHBgG1BPhkhT3d',\n",
       " '6ZzQ76i9WDdVmwVeDQIcJz',\n",
       " '44alNkXsYnTyPnkMdohBcx',\n",
       " '05QeyKGAn4TZrv41tMiD1A',\n",
       " '39V80DsHqas6AxqoVCVDIr',\n",
       " '6dDXhN1Gssy8qonfDEa3EI',\n",
       " '7ldIYiFIvxPyTiy0iO9UqV',\n",
       " '71WzoGZcDWzrKZqSkiY3Tz',\n",
       " '6b7j9PK107JFAb4OM2loie',\n",
       " '67R4hNuwDWxDYGEd1lVlru',\n",
       " '7swTZr50nSpeq9469IJ9LI',\n",
       " '2AJkpwkDvAoj9al2tBWfK7',\n",
       " '3WVBQjDRoUUTJnWVaUUEHL',\n",
       " '5GDJpB4k5yzzjjNbi3MnTz',\n",
       " '5OQlzJEpnbSd3f4ZBdh1lI',\n",
       " '7Jh1bpe76CNTCgdgAdBw4Z',\n",
       " '54rZE6vIzFU7cKld28NE7s',\n",
       " '17b8JfOB3C9eSzockIBgvZ',\n",
       " '4Pf4pygB5mb8PtEr1SMK1u',\n",
       " '6dpPkJIg1nGcvcvFC1aXUR',\n",
       " '0jw2IKm30sbb6kK2WgHvmn',\n",
       " '307cqh2ACTzBm3deY5uVzs',\n",
       " '3KhDqe6lwslwDsDGFq9cvq',\n",
       " '3vhQHYQ6Lz08VzUuERJ06W',\n",
       " '2jpuRZSbcBgm7jgJy3ys3r',\n",
       " '68wibJU4yMiqNX79IaLAsN',\n",
       " '0muYLof9H50ElzamEgi6nt',\n",
       " '7DqOEFNBLOfF2X24eXbG2z',\n",
       " '1NawD4ezwYuCtues1xG2Xj',\n",
       " '3GhY9OW479kbAQvnlR0uAt',\n",
       " '0chBzUSAfMg133RaYd6b7X',\n",
       " '2qeGrFbgL4St7P4ArgXCS9',\n",
       " '34fW9WmeI49SUTOTwW91kP',\n",
       " '3gd9jFyf2AhJPi1HqHUVFP',\n",
       " '0RMrqldYnjyoZziGlIvton',\n",
       " '3biMJs3xhRTg13aZEWukty',\n",
       " '67AmB2gk9L41eVSy590o1v',\n",
       " '2SYWArhFYrwDYm0gM1aonU',\n",
       " '1YVVAiBD5WhX2ZdHtlSOhz',\n",
       " '1G1zhTPT7ZlgZHsyjelcQg',\n",
       " '7eJMfftS33KTjuF7lTsMCx',\n",
       " '3xxz277NbYSFLbj1DRYtsf',\n",
       " '2lffRiAET2Xt6BNb4EmkS2',\n",
       " '2m1W73aJNII9wafWkDn8S0',\n",
       " '6x14wL9HvABR2Rix8N88EH',\n",
       " '6xMFDLtFIiObaAuB42qHGW',\n",
       " '669PEr8I3wOswY8BANBpdh',\n",
       " '65wICNTM2s1PwXSgKt8f0a',\n",
       " '0tutU5E5kMR3bY8sZllpoJ',\n",
       " '1mGppNewxmuC9tpXhgZ2kO',\n",
       " '5yGZ0DhhktOyE2sPPSX2Q8',\n",
       " '2ZYBwkmtYhgUj1A7teYAZ7',\n",
       " '1AdYZ6X00nXmO613Y7GJOl',\n",
       " '0GevyB8xMZvEMNtyVCOxLf',\n",
       " '1K0AENxzuLi4M420wUlvPT',\n",
       " '0yc6Gst2xkRu0eMLeRMGCX',\n",
       " '0qnSjipvB268SHMbNSxZ7y',\n",
       " '1SKPmfSYaPsETbRHaiA18G',\n",
       " '7qH9Z4dJEN0l9bidizW7fq',\n",
       " '2KCqAdd2ad0hpJc5ySoTE8',\n",
       " '76bcaYeKOKTrj9lEc9BZFU',\n",
       " '2IhUmUhs9gCN2mCCuQHIPJ',\n",
       " '78phUJYhGDpYur3XNICQQY',\n",
       " '1uP8UVMXcTJn28TbhfR2Wo',\n",
       " '36xZeDLfY3pSGZdQadvEvd',\n",
       " '6DvMHPpNxxozZYyL9WjK2O',\n",
       " '7i3MO9TWVzZyfLghMs6qH5',\n",
       " '5q2xlArAzx7UHtbDSwIYPJ',\n",
       " '2Wl4MbBRtan8gr0C8qUSGT',\n",
       " '57MkRx712OdCQFCD2F4Yzc',\n",
       " '58UM4xyufOAwhpvmfCBPyD',\n",
       " '37mfTcSlX60JtAvAETytGs',\n",
       " '4qx6KUiBAsuZB9ubcreapu',\n",
       " '7biIPXNwf5SgDSlLChMvC6',\n",
       " '2xIed9JHx5IuZ8T16JGOOM',\n",
       " '4LDOieBPdFL4E8Z5raYuoq',\n",
       " '0P3IyyiJecMoAX9Q4cbwHX',\n",
       " '3UKvS7mLIsv7HvFQHQNRP8',\n",
       " '3EIQofQf9NloNNmvg45MFE',\n",
       " '2eDRSAU65nsBDlCzde45Vd',\n",
       " '7hzgk557YLr0722EFkmp9Z',\n",
       " '32XCjURMIi6zTRriXP8RF2',\n",
       " '0zRCHQtrCsAaCSvxtexSf0',\n",
       " '4i3txPQIUV4eC9g9FBpi9I',\n",
       " '5BeYGBDPpCICt6WwrCaCHL',\n",
       " '31Xlp8YDrHFNN54Y2F8fB8',\n",
       " '46Xnj8vZFwOZCE4aZNXlTf',\n",
       " '3YDbCeUmo9V4ZM3c8b8KF0',\n",
       " '5oSSFX46m6u3UFLoouLlTw']"
      ]
     },
     "execution_count": 49,
     "metadata": {},
     "output_type": "execute_result"
    }
   ],
   "source": [
    "track_ids = [track['track']['id'] for track in tracks]\n",
    "track_ids"
   ]
  },
  {
   "cell_type": "code",
   "execution_count": 56,
   "metadata": {},
   "outputs": [
    {
     "data": {
      "text/plain": [
       "{'danceability': 0.291,\n",
       " 'energy': 0.319,\n",
       " 'key': 7,\n",
       " 'loudness': -10.465,\n",
       " 'mode': 1,\n",
       " 'speechiness': 0.0306,\n",
       " 'acousticness': 0.791,\n",
       " 'instrumentalness': 0.468,\n",
       " 'liveness': 0.0692,\n",
       " 'valence': 0.038,\n",
       " 'tempo': 103.793,\n",
       " 'type': 'audio_features',\n",
       " 'id': '0A0eOcimSNRs2EQQlH7FFJ',\n",
       " 'uri': 'spotify:track:0A0eOcimSNRs2EQQlH7FFJ',\n",
       " 'track_href': 'https://api.spotify.com/v1/tracks/0A0eOcimSNRs2EQQlH7FFJ',\n",
       " 'analysis_url': 'https://api.spotify.com/v1/audio-analysis/0A0eOcimSNRs2EQQlH7FFJ',\n",
       " 'duration_ms': 323280,\n",
       " 'time_signature': 3}"
      ]
     },
     "execution_count": 56,
     "metadata": {},
     "output_type": "execute_result"
    }
   ],
   "source": [
    "sp.audio_features(track_ids[:100])[0]"
   ]
  }
 ],
 "metadata": {
  "kernelspec": {
   "display_name": "Python 3",
   "language": "python",
   "name": "python3"
  },
  "language_info": {
   "codemirror_mode": {
    "name": "ipython",
    "version": 3
   },
   "file_extension": ".py",
   "mimetype": "text/x-python",
   "name": "python",
   "nbconvert_exporter": "python",
   "pygments_lexer": "ipython3",
   "version": "3.8.2"
  }
 },
 "nbformat": 4,
 "nbformat_minor": 4
}
