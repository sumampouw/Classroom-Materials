{
 "cells": [
  {
   "cell_type": "code",
   "execution_count": 6,
   "metadata": {},
   "outputs": [],
   "source": [
    "def hot_recommender():\n",
    "    # import scraping function & random int generator\n",
    "    from scrape_billboard import scrape_billboard\n",
    "    from random import randint\n",
    "    \n",
    "    # scrape billboard hot 100\n",
    "    billboard = scrape_billboard()\n",
    "    \n",
    "    # ask for song\n",
    "    song = input(\"What song do you like? \")\n",
    "    \n",
    "    # check if song is on billboard hot 100\n",
    "    song_row = billboard[billboard[\"song\"].str.contains(song)]\n",
    "    if len(song_row) == 0:\n",
    "        print(\"Your song is not hot\")\n",
    "    else:\n",
    "        check_song = input(\"Did you mean \" + song_row[\"song\"].values[0] + \" by \" + song_row[\"artist\"].values[0] + \"? \")    \n",
    "    \n",
    "        # if song is in billboard hot 100, recommend another random hot song\n",
    "        if check_song == \"yes\":\n",
    "            print(\"That's a hot song.\")\n",
    "            random_song = randint(0, len(billboard)-1)\n",
    "            print(\"You might also like \" + billboard[\"song\"][random_song] + \" by \" + billboard[\"artist\"][random_song])\n",
    "        else:\n",
    "            print(\"Ah, not the one I had in mind.\")"
   ]
  }
 ],
 "metadata": {
  "kernelspec": {
   "display_name": "Python 3",
   "language": "python",
   "name": "python3"
  },
  "language_info": {
   "codemirror_mode": {
    "name": "ipython",
    "version": 3
   },
   "file_extension": ".py",
   "mimetype": "text/x-python",
   "name": "python",
   "nbconvert_exporter": "python",
   "pygments_lexer": "ipython3",
   "version": "3.8.4"
  }
 },
 "nbformat": 4,
 "nbformat_minor": 4
}
