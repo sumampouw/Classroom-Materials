{
 "cells": [
  {
   "cell_type": "code",
   "execution_count": 8,
   "metadata": {},
   "outputs": [],
   "source": [
    "# scrape_billboard() scrapes the Billboard's Hot 100 and retrieves the songs name &\n",
    "# artist, as well as the last week ranks, the peak rank and the weeks on chart\n",
    "\n",
    "def scrape_billboard():\n",
    "    # 1. import libraries\n",
    "    from bs4 import BeautifulSoup\n",
    "    import requests\n",
    "    import pandas as pd\n",
    "    \n",
    "    # 2. find url and store it in a variable\n",
    "    url = \"https://www.billboard.com/charts/hot-100\"\n",
    "    \n",
    "    # 3. download html with a get request\n",
    "    response = requests.get(url)\n",
    "    if response.status_code != 200:\n",
    "        print(\"Scraping failed. Status code \" + str(response.status_code))\n",
    "    \n",
    "    # 4. parse html (create the 'soup')\n",
    "    soup = BeautifulSoup(response.content, \"html.parser\")\n",
    "    soup.select(\"#main > div > span > div > div > div.lister > table > tbody > tr:nth-child(1) > td.titleColumn > a\")\n",
    "\n",
    "    # 5. retrieve/extract the desired info\n",
    "    # song titles\n",
    "    songs = soup.find_all(\"span\", class_=\"chart-element__information__song text--truncate color--primary\")\n",
    "    # artists\n",
    "    artists = soup.find_all(\"span\", class_=\"chart-element__information__artist text--truncate color--secondary\")\n",
    "    # last week\n",
    "    last_week_ranks = soup.find_all(\"span\", class_= \"chart-element__meta text--center color--secondary text--last\")\n",
    "    # peak rank\n",
    "    peak_ranks = soup.find_all(\"span\", class_= \"chart-element__meta text--center color--secondary text--peak\")\n",
    "    # weeks on chart\n",
    "    weeks_on_chart = soup.find_all(\"span\", class_= \"chart-element__meta text--center color--secondary text--week\")\n",
    "\n",
    "    for i in [songs, artists, last_week_ranks, peak_ranks, weeks_on_chart]:\n",
    "        for j in range(len(i)):\n",
    "            i[j] = i[j].getText()\n",
    "        \n",
    "    billboard = pd.DataFrame(\n",
    "        {\"song\": songs,\n",
    "         \"artist\": artists,\n",
    "         \"last_week_rank\": last_week_ranks,\n",
    "         \"peak_rank\": peak_ranks,\n",
    "         \"weeks_on_chart\": weeks_on_chart})\n",
    "    return billboard"
   ]
  }
 ],
 "metadata": {
  "kernelspec": {
   "display_name": "Python 3",
   "language": "python",
   "name": "python3"
  },
  "language_info": {
   "codemirror_mode": {
    "name": "ipython",
    "version": 3
   },
   "file_extension": ".py",
   "mimetype": "text/x-python",
   "name": "python",
   "nbconvert_exporter": "python",
   "pygments_lexer": "ipython3",
   "version": "3.8.4"
  }
 },
 "nbformat": 4,
 "nbformat_minor": 4
}
