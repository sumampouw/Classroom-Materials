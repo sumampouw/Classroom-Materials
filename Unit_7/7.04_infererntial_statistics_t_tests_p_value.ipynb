{
 "cells": [
  {
   "cell_type": "markdown",
   "id": "6e6634ef-9c38-4c3b-8c84-965f9e6e7183",
   "metadata": {},
   "source": [
    "## Inferential Statistics"
   ]
  },
  {
   "cell_type": "markdown",
   "id": "5a617278-0e9d-4024-8b96-a8b6ae9aa868",
   "metadata": {},
   "source": [
    "While using RFE we discussed that it uses `p-value` to select the most relevant features. Now we will learn more about it. To understand `p-values`, we first need to learn about basics in Inferential Statistics and Hypothesis Testing."
   ]
  },
  {
   "cell_type": "markdown",
   "id": "0b7ea9dd-9d8a-4eb9-afe5-62aabe5ac460",
   "metadata": {},
   "source": [
    "- **Descriptive statistic**: It is the branch of classical statistics that describes / summarizes the data through some statistics which include mean, median, mode, frequency, standard deviation, and variance. In descriptive statistics, there is no uncertainty as we calculate these statistics on the measured values.\n",
    "\n",
    "- **Inferential statistics**: It is the branch of classical statistics that helps us to draw inferences about the population, from the given sample data. The basic goal of inferential stats is to draw conclusions from a sample (smaller number of subjects/samples) and generalize them on a larger population (where the complete data is unavailable and we have only a sample of data)"
   ]
  },
  {
   "cell_type": "markdown",
   "id": "63d4da8a-3fd2-49f6-b633-de3290198ccb",
   "metadata": {},
   "source": [
    "### Hypothesis Testing\n",
    "It is one of the tools that is used to make inferences on the population (which is called our hypothesis), from the sample data."
   ]
  },
  {
   "cell_type": "markdown",
   "id": "f1971808-412b-49a0-a679-009c0b67fbb8",
   "metadata": {},
   "source": [
    "Elements of hypothesis Tests:\n",
    "\n",
    "- **Null hypothesis**: Denoted with H0, a null hypothesis is an assumption that the population average is identical to a specific value. The typical notation is μ = μ0, where μ refers to the population mean and μ0 refers to the hypothesized value.\n",
    "- **Alternate hypothesis**: An alternative hypothesis is the opposite of the null hypothesis. We compare this hypothesis with the null hypothesis to decide whether or not we reject the null hypothesis. We denote the alternative hypothesis with H1 or Ha.\n",
    "- **Level of significance**: we use level of significance to indicate whether we are confident enough to reject the null hypothesis.\n",
    "- **Test Statistic**: Once we determine the type of hypothesis test and that our assumptions have been met, we use our data to decide whether to reject or not reject the null hypothesis.(z-test or t-test)\n",
    "- **p-value**: is a measure used help us to reject or accept the null hypothesis\n"
   ]
  },
  {
   "cell_type": "markdown",
   "id": "bf8f2263-1d88-4264-8448-4b70107b5ae5",
   "metadata": {},
   "source": [
    "### Problem Statement\n",
    "Boys of a certain age are known to have a mean weight of μ = 85 pounds. A complaint is made that the boys living in a municipal children's home are underfed. As one bit of evidence, n = 25 boys (of the same age) are weighed and found to have a mean weight of 80.94 pounds. It is known that the population standard deviation σ is 11.6 pounds (the unrealistic part of this example!). Based on the available data, what should be concluded concerning the complaint?"
   ]
  },
  {
   "cell_type": "markdown",
   "id": "a2e7b2c6-d288-45ec-924d-7a822ef86656",
   "metadata": {},
   "source": [
    "**What are we trying to establish here?**\n",
    "It is assumed that the population mean weight is 85lbs, but we do not have the complete data from the population. Otherwise we would have calculated the actual mean directly. However we only have sample data from 25 subjects. So based on this sample data we will try to prove or disprove our assumption, using statistical test.\n"
   ]
  },
  {
   "cell_type": "markdown",
   "id": "45d7114e-4662-478a-9e8c-f74ecc8c56e7",
   "metadata": {},
   "source": [
    "**Steps**\n",
    "- Step1: Define the null hypothesis - This is our assumption about the population. It is defined by H0 and in this case `H0: μ = 85`;\n",
    "- Step 2: Define the alternative hypothesis - This means, what if our assumption is not true. It is defined by Ha and in this case `Ha: μ != 85`.\n",
    "    Since in this case, our null hypothesis would be false on either side of `Ha`, hence such a test is called a **Two tailed Test**, ie., if `Ha: μ > 85` and if `Ha: μ < 85`, in both cases, `H0` is false.\n",
    "- Step 3: Decide a **test statistics** based on the information available. Assuming data is normally distributed and number of observations are less and **population variance is known (since population standard deviation is provided), we will use a `z-test`**. This test is based on a \"z-distribution\" which is the same as a standard normal distribution. If the population variance was not known, we would have used a t-test. T test is based on `students t distribution` which is very similar to a standard normal distribution except that it is much flatter: [link to the image - T distribution vs Standard Normal Distribution](https://education-team-2020.s3-eu-west-1.amazonaws.com/data-analytics/7.03/7.03-t_distribution.png)\n",
    "- Step 4: Level of significance: This defines the rejection region/critical region. It is defined by greek letter 'alpha'. Usually it is 0.05.\n",
    "\n",
    "Explain the significance of alpha: [link to the image - Two Tailed Test Rejection Region](https://education-team-2020.s3-eu-west-1.amazonaws.com/data-analytics/7.03/7.03-two_tailed_test.png)\n",
    "\n",
    "  - Step 5: Calculate the test statistic based on the given information\n",
    "\n",
    "    - If the test statistic falls in the critical region, then we reject the Null Hypothesis\n",
    "    - If the test statistic falls in the region between the critical region, then we fail to reject the Null Hypothesis, which means we accept the Null Hypothesis ie our assumption about the population to be true."
   ]
  },
  {
   "cell_type": "markdown",
   "id": "758a2f3b-ddfc-4fb3-8488-c74ac48e174e",
   "metadata": {},
   "source": [
    "<img src=https://cdn.analyticsvidhya.com/wp-content/uploads/2020/03/Screenshot-from-2020-03-04-15-29-37.png width=\"500\">"
   ]
  },
  {
   "cell_type": "code",
   "execution_count": 12,
   "id": "f3444fe0-1dc4-476e-aa96-54bcdb012b22",
   "metadata": {},
   "outputs": [
    {
     "name": "stdout",
     "output_type": "stream",
     "text": [
      "Statistic is:  -1.750000000000001\n"
     ]
    }
   ],
   "source": [
    "from statistics import math\n",
    "\n",
    "sample_mean = 80.94\n",
    "pop_mean = 85\n",
    "pop_std = 11.6\n",
    "n = 25\n",
    "statistic = (sample_mean - pop_mean)/(pop_std/math.sqrt(n))\n",
    "print(\"Statistic is: \", statistic)"
   ]
  },
  {
   "cell_type": "markdown",
   "id": "e39b3851-589a-483e-bb80-adc1bb328e92",
   "metadata": {},
   "source": [
    "- If the test statistic falls in the critical region, then we reject the Null Hypothesis\n",
    "- If the test statistic falls in the region between the critical region, then we fail to reject the Null Hypothesis, which means we accept the Null Hypothesis ie our assumption about the population to be true\n",
    "\n",
    "- This critical region is defined by a critical value which is symmetrical on either side of the Y axis.\n",
    "- We use the significance level value, alpha, to check the critical value using a t-table. You can find the t table here on this link [https://www.statisticshowto.com/tables/t-distribution-table/#two]. Since this is a two tailed test, we will use `alpha/2` ie 0.025 and see that the critical value is 2.064\n",
    "  **Here is a simple [video](https://www.youtube.com/watch?v=6CwtZjvy7N4) that the students can refer, to understand how to find the `z-critical` value for a confidence interval. In this case alpha is 0.05 (confidence level is 95%).**\n",
    "- Now we can compare the calculated statistic and the critical value to see if the null hypothesis is rejected or not. In this case the statistic is calculated to be -1.75 and the critical value is 2.064 (or -2.064), hence we are not in the rejection region. Hence we fail to reject the null hypothesis. </br>\n",
    "[Find the statistic here](https://www.statisticshowto.com/tables/t-distribution-table/#two)"
   ]
  },
  {
   "cell_type": "markdown",
   "id": "2681bf61-c52a-43be-96ea-02b983d882c3",
   "metadata": {},
   "source": [
    "### p-value\n",
    "\n",
    "- Using P values is another way of rejecting or failing to reject the Null Hypothesis. We can use it to verify the previous result, ie whether we reject the Null Hypothesis or not. Then we will discuss the meaning of `p-values`\n",
    "\n",
    "  - Reminder: `t-statistic = (sample_mean - nullhypothesis_mean)/ (sample_stddev / sqrt(n) )`\n",
    "  - whereas: `nullhypothesis_mean` is the population mean\n",
    "  - Find the p-value from [the table](https://www.ztable.net/) and verify the result.\n",
    "\n",
    "  **Method:** In this case the statistic was calculated to be -1.75. Now look in the z table and find the corresponding p-value. Here it would be 0.04\n",
    "  This is greater than 0.025 (since it is a two sided test, alpha is split symetrically on either side of the y axis), **hence he fail to reject the null hypothesis** and accept the alternative hypothesis.\n",
    "\n",
    "- What is a p-value: Technically p-value is a probability value of rejecting the null hypothesis or failing to reject the null hypothesis. It is used as a direct measure of statistical significance, which we would see later.\n",
    "- p-value = what is the probability, measuring P(H1 | H0 is true), or in our case P(finding a sample mean of 80.94 of weight among boys | the boys weight results out of pure random selection - and no underfeeding whatsoever)"
   ]
  },
  {
   "cell_type": "markdown",
   "id": "87787b5a-78ee-4e8c-9576-3e7131e74468",
   "metadata": {},
   "source": [
    "### Two sample t-test\n",
    "\n",
    "- Here instead of drawing an inference on one population through its sample data, we try to compare the means of two populations from which two different sample sets are drawn. It helps us to test whether the population means of the two groups are equal or not.\n",
    "\n",
    "This time we will use a T test because, as we would see later, population variances are unknown here. The way the hypothesis/experiment is set up is the same as the process used in the previous examples with Z test.\n",
    "\n",
    "**It can used to analyze the results from A/B test as well**.\n",
    "\n",
    "- Some of the assumptions on the data before we can use this test are:\n",
    "  - Populations from which the samples are drawn is assumed to be **normally distributed**\n",
    "  - Sample data has **continuous values** and **not discrete**\n",
    "  - Random samples must be drawn from the populations\n",
    "  - Data in the two samples must be independent of each other"
   ]
  },
  {
   "cell_type": "markdown",
   "id": "0bef0b66-4d8a-41fd-9590-199be6e265bd",
   "metadata": {},
   "source": [
    "#### Problem statement\n",
    "\n",
    "- A psychologist was interested in exploring whether or not male and female college students have different driving behaviors. There were a number of ways that she could quantify driving behaviors. She opted to focus on the fastest speed ever driven by an individual. Therefore, the particular statistical question she framed was as follows:\n",
    "  - Is the mean fastest speed driven by male college students different than the mean fastest speed driven by female college students?\n",
    "  - She conducted a survey of a random n = 34 male college students and a random m = 29 female college students. Here is a descriptive summary of the results of her survey:\n",
    "\n",
    "```shell\n",
    "# Males\n",
    "samples = 34\n",
    "Sample mean = 105.5\n",
    "Sample standard deviation: 20.1\n",
    "\n",
    "# Females\n",
    "samples = 29\n",
    "Sample mean = 90.0\n",
    "Sample standard deviation:12.2\n",
    "```"
   ]
  },
  {
   "cell_type": "markdown",
   "id": "c8b1e3bd-ded4-440a-b60b-9667c7e3e42e",
   "metadata": {},
   "source": [
    "- We start with calculating the pooled sample variance: [link to the image - Pooled Sample Variance](https://education-team-2020.s3-eu-west-1.amazonaws.com/data-analytics/7.04/7.04-pooled_sample_variance.png)\n",
    "- Next we calculate the statistic using the below formula: [link to the image - Pooled T Test - Statistic](https://education-team-2020.s3-eu-west-1.amazonaws.com/data-analytics/7.04/7.04-pooled_t_test.png)\n"
   ]
  },
  {
   "cell_type": "code",
   "execution_count": 18,
   "id": "a61aeca4-3ba8-493b-917e-585466deb36f",
   "metadata": {},
   "outputs": [],
   "source": [
    "sample_mean1 = 105.5\n",
    "sample_std1 = 20.1\n",
    "n1 = 34\n",
    "\n",
    "sample_mean2 = 90.9\n",
    "sample_std2 = 12.2\n",
    "n2 = 29"
   ]
  },
  {
   "cell_type": "code",
   "execution_count": 19,
   "id": "2ff74b49-9668-40d0-863f-5f378bf26f5b",
   "metadata": {},
   "outputs": [],
   "source": [
    "from scipy.stats import ttest_ind, norm\n",
    "\n",
    "# create the samples\n",
    "males = norm.rvs(loc=sample_mean1, scale=sample_std1, size=n1)\n",
    "females = norm.rvs(loc=sample_mean2, scale=sample_std2, size=n2)"
   ]
  },
  {
   "cell_type": "code",
   "execution_count": 20,
   "id": "a6fa1731-05d1-4b77-bca9-53d87885ec35",
   "metadata": {},
   "outputs": [
    {
     "data": {
      "text/plain": [
       "array([ 92.85096715,  83.35949551, 148.33781807, 113.61980125,\n",
       "       104.68130195,  97.83202434, 142.21879366,  89.31281636,\n",
       "        80.20549858,  97.37123872,  93.73542504, 109.63902574,\n",
       "       100.10774946, 112.60618357, 110.21820425, 124.95936205,\n",
       "       142.32654581, 127.45540484, 123.95551361,  81.55926588,\n",
       "        98.29245881,  58.42972511, 115.12629738,  96.04089276,\n",
       "       106.17437793, 123.14756945,  69.99913273,  98.2038037 ,\n",
       "       123.67643742,  84.33829715, 142.79636409, 112.50324242,\n",
       "       126.8901537 , 101.71780854])"
      ]
     },
     "execution_count": 20,
     "metadata": {},
     "output_type": "execute_result"
    }
   ],
   "source": [
    "males"
   ]
  },
  {
   "cell_type": "code",
   "execution_count": 21,
   "id": "9999ad92-b82d-4858-9306-f885f9cf34fa",
   "metadata": {},
   "outputs": [
    {
     "data": {
      "text/plain": [
       "array([119.06949532, 102.1888938 ,  80.02249537,  82.09041825,\n",
       "       101.49153441,  94.76711391,  56.17504687,  91.96874714,\n",
       "       113.69388838,  75.67328599,  80.47295565,  79.31348094,\n",
       "        78.51407156,  76.03094201, 100.50796119,  78.14333689,\n",
       "        95.08640536, 107.78093736,  93.48413567, 101.41160686,\n",
       "        66.64131254, 109.1622074 ,  89.20966233, 100.22434169,\n",
       "        77.93883806,  71.00313816,  96.10253401,  94.98121409,\n",
       "        66.23830466])"
      ]
     },
     "execution_count": 21,
     "metadata": {},
     "output_type": "execute_result"
    }
   ],
   "source": [
    "females"
   ]
  },
  {
   "cell_type": "code",
   "execution_count": 22,
   "id": "ff2267a3-7d90-4b57-93e8-95a48403960d",
   "metadata": {},
   "outputs": [
    {
     "data": {
      "text/plain": [
       "Ttest_indResult(statistic=3.766888024668872, pvalue=0.0003745542003730809)"
      ]
     },
     "execution_count": 22,
     "metadata": {},
     "output_type": "execute_result"
    }
   ],
   "source": [
    "ttest_ind(males, females)"
   ]
  },
  {
   "cell_type": "markdown",
   "id": "39cf919f-d0ec-45a9-b2c1-7315b91db769",
   "metadata": {},
   "source": [
    "We reject the null hypothesis. </br>\n",
    "We can say with 95% of confidence that we have enough evidence to discard the null hypothesis.</br>\n",
    "The average speed between male and females are not the same.</br>\n",
    "Comparing the means, we can say males drive faster."
   ]
  },
  {
   "cell_type": "code",
   "execution_count": null,
   "id": "93025501-f159-46da-8236-d7a8bd5d90c0",
   "metadata": {},
   "outputs": [],
   "source": []
  }
 ],
 "metadata": {
  "kernelspec": {
   "display_name": "Python 3",
   "language": "python",
   "name": "python3"
  },
  "language_info": {
   "codemirror_mode": {
    "name": "ipython",
    "version": 3
   },
   "file_extension": ".py",
   "mimetype": "text/x-python",
   "name": "python",
   "nbconvert_exporter": "python",
   "pygments_lexer": "ipython3",
   "version": "3.8.8"
  }
 },
 "nbformat": 4,
 "nbformat_minor": 5
}
