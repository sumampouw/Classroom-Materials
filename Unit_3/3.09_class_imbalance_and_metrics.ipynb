{
 "cells": [
  {
   "cell_type": "markdown",
   "metadata": {},
   "source": [
    "## MultiClass Logistic Regression\n",
    "\n",
    "#### Assumptions:\n",
    "- Binary (sigmoid) or Multiclass (softmax);\n",
    "- The observations (rows) have to be independent from each other;\n",
    "- Avoid multicolinearity between independet variables;\n",
    "- Sample size related to the amount of classes and independent variables.\n",
    "- Relationship between target and features - linear relationship between the log of the probabilities of the target and the independent variables;"
   ]
  },
  {
   "cell_type": "markdown",
   "metadata": {},
   "source": [
    "### Class Imbalance\n",
    "\n",
    "When starting a classification problem, one of the first things to worry about is class balance. So usually, on the step where we are checking our data, we verify with .value_counts() or so, how many rows we have for each class in our target column. \n",
    "\n",
    "A model trained on imbalanced classes will learn the proportion of the imbalance and perpetuate it in it's predictions. The problem is that this will frequently bypass the importance of the other features.  \n",
    "\n",
    "#### But what if the proportion matters?\n",
    "\n",
    "Well... be careful.\n",
    "\n",
    "Let's say we are talking about fraud detection, and in real life the probability of that fraud happening is 0.01%... you probably don't want the algorithm to learn based on proportion, because: let's say that there's been a 'tie' between the features of a certain prediction, would you want the model to decide based on how many frauds it predicted so far?\n",
    "\n",
    "Usually the proportion of classes is not a real characteristic or feature for your model to learn from, so, deciding based on that could be compared to throwing a weighted coin to make a decision."
   ]
  },
  {
   "cell_type": "markdown",
   "metadata": {},
   "source": [
    "### Business Case\n",
    "We'll be using the bank database to predict the status of each loan, taking into account all the transactions"
   ]
  },
  {
   "cell_type": "code",
   "execution_count": 1,
   "metadata": {},
   "outputs": [],
   "source": [
    "# !pip install imblearn"
   ]
  },
  {
   "cell_type": "code",
   "execution_count": 1,
   "metadata": {},
   "outputs": [
    {
     "name": "stdin",
     "output_type": "stream",
     "text": [
      " ·····\n"
     ]
    }
   ],
   "source": [
    "import pymysql\n",
    "from sqlalchemy import create_engine\n",
    "import pandas as pd\n",
    "import numpy as np\n",
    "import getpass\n",
    "import matplotlib.pyplot as plt\n",
    "import seaborn as sns\n",
    "from sklearn.model_selection import train_test_split\n",
    "from sklearn.linear_model import LogisticRegression\n",
    "from sklearn.metrics import confusion_matrix\n",
    "password = getpass.getpass()"
   ]
  },
  {
   "cell_type": "markdown",
   "metadata": {},
   "source": [
    "### Get the data"
   ]
  },
  {
   "cell_type": "code",
   "execution_count": 2,
   "metadata": {},
   "outputs": [
    {
     "data": {
      "text/html": [
       "<div>\n",
       "<style scoped>\n",
       "    .dataframe tbody tr th:only-of-type {\n",
       "        vertical-align: middle;\n",
       "    }\n",
       "\n",
       "    .dataframe tbody tr th {\n",
       "        vertical-align: top;\n",
       "    }\n",
       "\n",
       "    .dataframe thead th {\n",
       "        text-align: right;\n",
       "    }\n",
       "</style>\n",
       "<table border=\"1\" class=\"dataframe\">\n",
       "  <thead>\n",
       "    <tr style=\"text-align: right;\">\n",
       "      <th></th>\n",
       "      <th>account_id</th>\n",
       "      <th>total_trans</th>\n",
       "      <th>value_trans</th>\n",
       "      <th>total_balance</th>\n",
       "      <th>vydaj</th>\n",
       "      <th>loan_amount</th>\n",
       "      <th>duration</th>\n",
       "      <th>payments</th>\n",
       "      <th>status</th>\n",
       "    </tr>\n",
       "  </thead>\n",
       "  <tbody>\n",
       "    <tr>\n",
       "      <th>0</th>\n",
       "      <td>2</td>\n",
       "      <td>374</td>\n",
       "      <td>2042.0</td>\n",
       "      <td>13581.0</td>\n",
       "      <td>237</td>\n",
       "      <td>80952</td>\n",
       "      <td>24</td>\n",
       "      <td>3373.0</td>\n",
       "      <td>A</td>\n",
       "    </tr>\n",
       "    <tr>\n",
       "      <th>1</th>\n",
       "      <td>19</td>\n",
       "      <td>259</td>\n",
       "      <td>1079.0</td>\n",
       "      <td>4005.0</td>\n",
       "      <td>126</td>\n",
       "      <td>30276</td>\n",
       "      <td>12</td>\n",
       "      <td>2523.0</td>\n",
       "      <td>B</td>\n",
       "    </tr>\n",
       "    <tr>\n",
       "      <th>2</th>\n",
       "      <td>25</td>\n",
       "      <td>225</td>\n",
       "      <td>2538.0</td>\n",
       "      <td>12541.0</td>\n",
       "      <td>145</td>\n",
       "      <td>30276</td>\n",
       "      <td>12</td>\n",
       "      <td>2523.0</td>\n",
       "      <td>A</td>\n",
       "    </tr>\n",
       "    <tr>\n",
       "      <th>3</th>\n",
       "      <td>37</td>\n",
       "      <td>95</td>\n",
       "      <td>748.0</td>\n",
       "      <td>3595.0</td>\n",
       "      <td>59</td>\n",
       "      <td>318480</td>\n",
       "      <td>60</td>\n",
       "      <td>5308.0</td>\n",
       "      <td>D</td>\n",
       "    </tr>\n",
       "    <tr>\n",
       "      <th>4</th>\n",
       "      <td>38</td>\n",
       "      <td>98</td>\n",
       "      <td>391.0</td>\n",
       "      <td>3316.0</td>\n",
       "      <td>55</td>\n",
       "      <td>110736</td>\n",
       "      <td>48</td>\n",
       "      <td>2307.0</td>\n",
       "      <td>C</td>\n",
       "    </tr>\n",
       "    <tr>\n",
       "      <th>...</th>\n",
       "      <td>...</td>\n",
       "      <td>...</td>\n",
       "      <td>...</td>\n",
       "      <td>...</td>\n",
       "      <td>...</td>\n",
       "      <td>...</td>\n",
       "      <td>...</td>\n",
       "      <td>...</td>\n",
       "      <td>...</td>\n",
       "    </tr>\n",
       "    <tr>\n",
       "      <th>677</th>\n",
       "      <td>11327</td>\n",
       "      <td>59</td>\n",
       "      <td>340.0</td>\n",
       "      <td>3349.0</td>\n",
       "      <td>33</td>\n",
       "      <td>39168</td>\n",
       "      <td>24</td>\n",
       "      <td>1632.0</td>\n",
       "      <td>C</td>\n",
       "    </tr>\n",
       "    <tr>\n",
       "      <th>678</th>\n",
       "      <td>11328</td>\n",
       "      <td>124</td>\n",
       "      <td>1062.0</td>\n",
       "      <td>5620.0</td>\n",
       "      <td>59</td>\n",
       "      <td>280440</td>\n",
       "      <td>60</td>\n",
       "      <td>4674.0</td>\n",
       "      <td>C</td>\n",
       "    </tr>\n",
       "    <tr>\n",
       "      <th>679</th>\n",
       "      <td>11349</td>\n",
       "      <td>237</td>\n",
       "      <td>2883.0</td>\n",
       "      <td>11309.0</td>\n",
       "      <td>143</td>\n",
       "      <td>419880</td>\n",
       "      <td>60</td>\n",
       "      <td>6998.0</td>\n",
       "      <td>C</td>\n",
       "    </tr>\n",
       "    <tr>\n",
       "      <th>680</th>\n",
       "      <td>11359</td>\n",
       "      <td>303</td>\n",
       "      <td>1967.0</td>\n",
       "      <td>10863.0</td>\n",
       "      <td>220</td>\n",
       "      <td>54024</td>\n",
       "      <td>12</td>\n",
       "      <td>4502.0</td>\n",
       "      <td>A</td>\n",
       "    </tr>\n",
       "    <tr>\n",
       "      <th>681</th>\n",
       "      <td>11362</td>\n",
       "      <td>244</td>\n",
       "      <td>781.0</td>\n",
       "      <td>7199.0</td>\n",
       "      <td>180</td>\n",
       "      <td>129408</td>\n",
       "      <td>24</td>\n",
       "      <td>5392.0</td>\n",
       "      <td>A</td>\n",
       "    </tr>\n",
       "  </tbody>\n",
       "</table>\n",
       "<p>682 rows × 9 columns</p>\n",
       "</div>"
      ],
      "text/plain": [
       "     account_id  total_trans  value_trans  total_balance  vydaj  loan_amount  \\\n",
       "0             2          374       2042.0        13581.0    237        80952   \n",
       "1            19          259       1079.0         4005.0    126        30276   \n",
       "2            25          225       2538.0        12541.0    145        30276   \n",
       "3            37           95        748.0         3595.0     59       318480   \n",
       "4            38           98        391.0         3316.0     55       110736   \n",
       "..          ...          ...          ...            ...    ...          ...   \n",
       "677       11327           59        340.0         3349.0     33        39168   \n",
       "678       11328          124       1062.0         5620.0     59       280440   \n",
       "679       11349          237       2883.0        11309.0    143       419880   \n",
       "680       11359          303       1967.0        10863.0    220        54024   \n",
       "681       11362          244        781.0         7199.0    180       129408   \n",
       "\n",
       "     duration  payments status  \n",
       "0          24    3373.0      A  \n",
       "1          12    2523.0      B  \n",
       "2          12    2523.0      A  \n",
       "3          60    5308.0      D  \n",
       "4          48    2307.0      C  \n",
       "..        ...       ...    ...  \n",
       "677        24    1632.0      C  \n",
       "678        60    4674.0      C  \n",
       "679        60    6998.0      C  \n",
       "680        12    4502.0      A  \n",
       "681        24    5392.0      A  \n",
       "\n",
       "[682 rows x 9 columns]"
      ]
     },
     "execution_count": 2,
     "metadata": {},
     "output_type": "execute_result"
    }
   ],
   "source": [
    "connection_string = 'mysql+pymysql://root:' + password + '@localhost/bank'\n",
    "engine = create_engine(connection_string)\n",
    "query = '''\n",
    "        with cte as \n",
    "        (\n",
    "            select account_id, count(account_id) vydaj\n",
    "            from trans\n",
    "            where type = 'VYDAJ'\n",
    "            group by account_id\n",
    "        )\n",
    "        select\n",
    "            l.account_id,\n",
    "            count(t.account_id) total_trans,\n",
    "            round(sum(t.amount)/1000) as value_trans,\n",
    "            round(sum(t.balance)/1000) as total_balance,\n",
    "            vydaj,\n",
    "            l.amount loan_amount, l.duration, l.payments payments, l.status\n",
    "        from trans t\n",
    "        join loan l\n",
    "        on t.account_id = l.account_id\n",
    "        join cte\n",
    "        on l.account_id = cte.account_id\n",
    "        group by l.account_id, l.amount, l.duration, l.payments, l.status\n",
    "        order by l.account_id;\n",
    "        '''\n",
    "\n",
    "data = pd.read_sql_query(query, engine)\n",
    "data"
   ]
  },
  {
   "cell_type": "markdown",
   "metadata": {},
   "source": [
    "### Check the data"
   ]
  },
  {
   "cell_type": "code",
   "execution_count": 3,
   "metadata": {},
   "outputs": [
    {
     "data": {
      "text/plain": [
       "(682, 9)"
      ]
     },
     "execution_count": 3,
     "metadata": {},
     "output_type": "execute_result"
    }
   ],
   "source": [
    "data.shape"
   ]
  },
  {
   "cell_type": "code",
   "execution_count": 4,
   "metadata": {},
   "outputs": [
    {
     "data": {
      "text/plain": [
       "account_id         int64\n",
       "total_trans        int64\n",
       "value_trans      float64\n",
       "total_balance    float64\n",
       "vydaj              int64\n",
       "loan_amount        int64\n",
       "duration           int64\n",
       "payments         float64\n",
       "status            object\n",
       "dtype: object"
      ]
     },
     "execution_count": 4,
     "metadata": {},
     "output_type": "execute_result"
    }
   ],
   "source": [
    "data.dtypes"
   ]
  },
  {
   "cell_type": "code",
   "execution_count": 5,
   "metadata": {
    "scrolled": true
   },
   "outputs": [
    {
     "data": {
      "text/html": [
       "<div>\n",
       "<style scoped>\n",
       "    .dataframe tbody tr th:only-of-type {\n",
       "        vertical-align: middle;\n",
       "    }\n",
       "\n",
       "    .dataframe tbody tr th {\n",
       "        vertical-align: top;\n",
       "    }\n",
       "\n",
       "    .dataframe thead th {\n",
       "        text-align: right;\n",
       "    }\n",
       "</style>\n",
       "<table border=\"1\" class=\"dataframe\">\n",
       "  <thead>\n",
       "    <tr style=\"text-align: right;\">\n",
       "      <th></th>\n",
       "      <th>account_id</th>\n",
       "      <th>total_trans</th>\n",
       "      <th>value_trans</th>\n",
       "      <th>total_balance</th>\n",
       "      <th>vydaj</th>\n",
       "      <th>loan_amount</th>\n",
       "      <th>duration</th>\n",
       "      <th>payments</th>\n",
       "    </tr>\n",
       "  </thead>\n",
       "  <tbody>\n",
       "    <tr>\n",
       "      <th>count</th>\n",
       "      <td>682.000000</td>\n",
       "      <td>682.000000</td>\n",
       "      <td>682.000000</td>\n",
       "      <td>682.000000</td>\n",
       "      <td>682.000000</td>\n",
       "      <td>682.000000</td>\n",
       "      <td>682.000000</td>\n",
       "      <td>682.000000</td>\n",
       "    </tr>\n",
       "    <tr>\n",
       "      <th>mean</th>\n",
       "      <td>5824.162757</td>\n",
       "      <td>228.857771</td>\n",
       "      <td>1784.017595</td>\n",
       "      <td>10379.542522</td>\n",
       "      <td>134.058651</td>\n",
       "      <td>151410.175953</td>\n",
       "      <td>36.492669</td>\n",
       "      <td>4190.664223</td>\n",
       "    </tr>\n",
       "    <tr>\n",
       "      <th>std</th>\n",
       "      <td>3283.512681</td>\n",
       "      <td>112.087503</td>\n",
       "      <td>1216.621552</td>\n",
       "      <td>6522.667189</td>\n",
       "      <td>70.032567</td>\n",
       "      <td>113372.406310</td>\n",
       "      <td>17.075219</td>\n",
       "      <td>2215.830344</td>\n",
       "    </tr>\n",
       "    <tr>\n",
       "      <th>min</th>\n",
       "      <td>2.000000</td>\n",
       "      <td>40.000000</td>\n",
       "      <td>93.000000</td>\n",
       "      <td>1056.000000</td>\n",
       "      <td>15.000000</td>\n",
       "      <td>4980.000000</td>\n",
       "      <td>12.000000</td>\n",
       "      <td>304.000000</td>\n",
       "    </tr>\n",
       "    <tr>\n",
       "      <th>25%</th>\n",
       "      <td>2967.000000</td>\n",
       "      <td>141.250000</td>\n",
       "      <td>819.250000</td>\n",
       "      <td>5298.000000</td>\n",
       "      <td>79.250000</td>\n",
       "      <td>66732.000000</td>\n",
       "      <td>24.000000</td>\n",
       "      <td>2477.000000</td>\n",
       "    </tr>\n",
       "    <tr>\n",
       "      <th>50%</th>\n",
       "      <td>5738.500000</td>\n",
       "      <td>202.500000</td>\n",
       "      <td>1498.500000</td>\n",
       "      <td>8874.000000</td>\n",
       "      <td>120.500000</td>\n",
       "      <td>116928.000000</td>\n",
       "      <td>36.000000</td>\n",
       "      <td>3934.000000</td>\n",
       "    </tr>\n",
       "    <tr>\n",
       "      <th>75%</th>\n",
       "      <td>8686.000000</td>\n",
       "      <td>322.750000</td>\n",
       "      <td>2420.750000</td>\n",
       "      <td>13662.500000</td>\n",
       "      <td>184.000000</td>\n",
       "      <td>210654.000000</td>\n",
       "      <td>48.000000</td>\n",
       "      <td>5813.500000</td>\n",
       "    </tr>\n",
       "    <tr>\n",
       "      <th>max</th>\n",
       "      <td>11362.000000</td>\n",
       "      <td>548.000000</td>\n",
       "      <td>6047.000000</td>\n",
       "      <td>34718.000000</td>\n",
       "      <td>395.000000</td>\n",
       "      <td>590820.000000</td>\n",
       "      <td>60.000000</td>\n",
       "      <td>9910.000000</td>\n",
       "    </tr>\n",
       "  </tbody>\n",
       "</table>\n",
       "</div>"
      ],
      "text/plain": [
       "         account_id  total_trans  value_trans  total_balance       vydaj  \\\n",
       "count    682.000000   682.000000   682.000000     682.000000  682.000000   \n",
       "mean    5824.162757   228.857771  1784.017595   10379.542522  134.058651   \n",
       "std     3283.512681   112.087503  1216.621552    6522.667189   70.032567   \n",
       "min        2.000000    40.000000    93.000000    1056.000000   15.000000   \n",
       "25%     2967.000000   141.250000   819.250000    5298.000000   79.250000   \n",
       "50%     5738.500000   202.500000  1498.500000    8874.000000  120.500000   \n",
       "75%     8686.000000   322.750000  2420.750000   13662.500000  184.000000   \n",
       "max    11362.000000   548.000000  6047.000000   34718.000000  395.000000   \n",
       "\n",
       "         loan_amount    duration     payments  \n",
       "count     682.000000  682.000000   682.000000  \n",
       "mean   151410.175953   36.492669  4190.664223  \n",
       "std    113372.406310   17.075219  2215.830344  \n",
       "min      4980.000000   12.000000   304.000000  \n",
       "25%     66732.000000   24.000000  2477.000000  \n",
       "50%    116928.000000   36.000000  3934.000000  \n",
       "75%    210654.000000   48.000000  5813.500000  \n",
       "max    590820.000000   60.000000  9910.000000  "
      ]
     },
     "execution_count": 5,
     "metadata": {},
     "output_type": "execute_result"
    }
   ],
   "source": [
    "data.describe()"
   ]
  },
  {
   "cell_type": "code",
   "execution_count": 6,
   "metadata": {},
   "outputs": [
    {
     "data": {
      "text/plain": [
       "account_id       0\n",
       "total_trans      0\n",
       "value_trans      0\n",
       "total_balance    0\n",
       "vydaj            0\n",
       "loan_amount      0\n",
       "duration         0\n",
       "payments         0\n",
       "status           0\n",
       "dtype: int64"
      ]
     },
     "execution_count": 6,
     "metadata": {},
     "output_type": "execute_result"
    }
   ],
   "source": [
    "data.isna().sum()"
   ]
  },
  {
   "cell_type": "code",
   "execution_count": 7,
   "metadata": {
    "scrolled": true,
    "tags": []
   },
   "outputs": [
    {
     "data": {
      "text/plain": [
       "C    403\n",
       "A    203\n",
       "D     45\n",
       "B     31\n",
       "Name: status, dtype: int64"
      ]
     },
     "execution_count": 7,
     "metadata": {},
     "output_type": "execute_result"
    }
   ],
   "source": [
    "data['status'].value_counts() # after filtering and removing NaNs, check for balance"
   ]
  },
  {
   "cell_type": "markdown",
   "metadata": {},
   "source": [
    "Class Imbalance DETECTED! I like to deal with them at Feature Engineering."
   ]
  },
  {
   "cell_type": "markdown",
   "metadata": {},
   "source": [
    "### Clean the data"
   ]
  },
  {
   "cell_type": "code",
   "execution_count": 8,
   "metadata": {},
   "outputs": [
    {
     "data": {
      "text/html": [
       "<div>\n",
       "<style scoped>\n",
       "    .dataframe tbody tr th:only-of-type {\n",
       "        vertical-align: middle;\n",
       "    }\n",
       "\n",
       "    .dataframe tbody tr th {\n",
       "        vertical-align: top;\n",
       "    }\n",
       "\n",
       "    .dataframe thead th {\n",
       "        text-align: right;\n",
       "    }\n",
       "</style>\n",
       "<table border=\"1\" class=\"dataframe\">\n",
       "  <thead>\n",
       "    <tr style=\"text-align: right;\">\n",
       "      <th></th>\n",
       "      <th>account_id</th>\n",
       "      <th>total_trans</th>\n",
       "      <th>value_trans</th>\n",
       "      <th>total_balance</th>\n",
       "      <th>vydaj</th>\n",
       "      <th>loan_amount</th>\n",
       "      <th>duration</th>\n",
       "      <th>payments</th>\n",
       "      <th>status</th>\n",
       "    </tr>\n",
       "  </thead>\n",
       "  <tbody>\n",
       "    <tr>\n",
       "      <th>0</th>\n",
       "      <td>2</td>\n",
       "      <td>374</td>\n",
       "      <td>2042.0</td>\n",
       "      <td>13581.0</td>\n",
       "      <td>237</td>\n",
       "      <td>80952</td>\n",
       "      <td>24</td>\n",
       "      <td>3373.0</td>\n",
       "      <td>A</td>\n",
       "    </tr>\n",
       "    <tr>\n",
       "      <th>1</th>\n",
       "      <td>19</td>\n",
       "      <td>259</td>\n",
       "      <td>1079.0</td>\n",
       "      <td>4005.0</td>\n",
       "      <td>126</td>\n",
       "      <td>30276</td>\n",
       "      <td>12</td>\n",
       "      <td>2523.0</td>\n",
       "      <td>B</td>\n",
       "    </tr>\n",
       "    <tr>\n",
       "      <th>2</th>\n",
       "      <td>25</td>\n",
       "      <td>225</td>\n",
       "      <td>2538.0</td>\n",
       "      <td>12541.0</td>\n",
       "      <td>145</td>\n",
       "      <td>30276</td>\n",
       "      <td>12</td>\n",
       "      <td>2523.0</td>\n",
       "      <td>A</td>\n",
       "    </tr>\n",
       "    <tr>\n",
       "      <th>3</th>\n",
       "      <td>37</td>\n",
       "      <td>95</td>\n",
       "      <td>748.0</td>\n",
       "      <td>3595.0</td>\n",
       "      <td>59</td>\n",
       "      <td>318480</td>\n",
       "      <td>60</td>\n",
       "      <td>5308.0</td>\n",
       "      <td>D</td>\n",
       "    </tr>\n",
       "    <tr>\n",
       "      <th>4</th>\n",
       "      <td>38</td>\n",
       "      <td>98</td>\n",
       "      <td>391.0</td>\n",
       "      <td>3316.0</td>\n",
       "      <td>55</td>\n",
       "      <td>110736</td>\n",
       "      <td>48</td>\n",
       "      <td>2307.0</td>\n",
       "      <td>C</td>\n",
       "    </tr>\n",
       "    <tr>\n",
       "      <th>...</th>\n",
       "      <td>...</td>\n",
       "      <td>...</td>\n",
       "      <td>...</td>\n",
       "      <td>...</td>\n",
       "      <td>...</td>\n",
       "      <td>...</td>\n",
       "      <td>...</td>\n",
       "      <td>...</td>\n",
       "      <td>...</td>\n",
       "    </tr>\n",
       "    <tr>\n",
       "      <th>677</th>\n",
       "      <td>11327</td>\n",
       "      <td>59</td>\n",
       "      <td>340.0</td>\n",
       "      <td>3349.0</td>\n",
       "      <td>33</td>\n",
       "      <td>39168</td>\n",
       "      <td>24</td>\n",
       "      <td>1632.0</td>\n",
       "      <td>C</td>\n",
       "    </tr>\n",
       "    <tr>\n",
       "      <th>678</th>\n",
       "      <td>11328</td>\n",
       "      <td>124</td>\n",
       "      <td>1062.0</td>\n",
       "      <td>5620.0</td>\n",
       "      <td>59</td>\n",
       "      <td>280440</td>\n",
       "      <td>60</td>\n",
       "      <td>4674.0</td>\n",
       "      <td>C</td>\n",
       "    </tr>\n",
       "    <tr>\n",
       "      <th>679</th>\n",
       "      <td>11349</td>\n",
       "      <td>237</td>\n",
       "      <td>2883.0</td>\n",
       "      <td>11309.0</td>\n",
       "      <td>143</td>\n",
       "      <td>419880</td>\n",
       "      <td>60</td>\n",
       "      <td>6998.0</td>\n",
       "      <td>C</td>\n",
       "    </tr>\n",
       "    <tr>\n",
       "      <th>680</th>\n",
       "      <td>11359</td>\n",
       "      <td>303</td>\n",
       "      <td>1967.0</td>\n",
       "      <td>10863.0</td>\n",
       "      <td>220</td>\n",
       "      <td>54024</td>\n",
       "      <td>12</td>\n",
       "      <td>4502.0</td>\n",
       "      <td>A</td>\n",
       "    </tr>\n",
       "    <tr>\n",
       "      <th>681</th>\n",
       "      <td>11362</td>\n",
       "      <td>244</td>\n",
       "      <td>781.0</td>\n",
       "      <td>7199.0</td>\n",
       "      <td>180</td>\n",
       "      <td>129408</td>\n",
       "      <td>24</td>\n",
       "      <td>5392.0</td>\n",
       "      <td>A</td>\n",
       "    </tr>\n",
       "  </tbody>\n",
       "</table>\n",
       "<p>682 rows × 9 columns</p>\n",
       "</div>"
      ],
      "text/plain": [
       "     account_id  total_trans  value_trans  total_balance  vydaj  loan_amount  \\\n",
       "0             2          374       2042.0        13581.0    237        80952   \n",
       "1            19          259       1079.0         4005.0    126        30276   \n",
       "2            25          225       2538.0        12541.0    145        30276   \n",
       "3            37           95        748.0         3595.0     59       318480   \n",
       "4            38           98        391.0         3316.0     55       110736   \n",
       "..          ...          ...          ...            ...    ...          ...   \n",
       "677       11327           59        340.0         3349.0     33        39168   \n",
       "678       11328          124       1062.0         5620.0     59       280440   \n",
       "679       11349          237       2883.0        11309.0    143       419880   \n",
       "680       11359          303       1967.0        10863.0    220        54024   \n",
       "681       11362          244        781.0         7199.0    180       129408   \n",
       "\n",
       "     duration  payments status  \n",
       "0          24    3373.0      A  \n",
       "1          12    2523.0      B  \n",
       "2          12    2523.0      A  \n",
       "3          60    5308.0      D  \n",
       "4          48    2307.0      C  \n",
       "..        ...       ...    ...  \n",
       "677        24    1632.0      C  \n",
       "678        60    4674.0      C  \n",
       "679        60    6998.0      C  \n",
       "680        12    4502.0      A  \n",
       "681        24    5392.0      A  \n",
       "\n",
       "[682 rows x 9 columns]"
      ]
     },
     "execution_count": 8,
     "metadata": {},
     "output_type": "execute_result"
    }
   ],
   "source": [
    "# dealing with NaNs\n",
    "data = data[data['duration'].isna() == False] # dropna() is also a good option\n",
    "data\n",
    "# Remember, you won't usually be going about and dropping NaNs!!"
   ]
  },
  {
   "cell_type": "code",
   "execution_count": 9,
   "metadata": {},
   "outputs": [],
   "source": [
    "data['duration'] = data['duration'].astype('object') # treating duration as categorical"
   ]
  },
  {
   "cell_type": "code",
   "execution_count": 10,
   "metadata": {},
   "outputs": [
    {
     "data": {
      "text/plain": [
       "60    145\n",
       "24    138\n",
       "48    138\n",
       "12    131\n",
       "36    130\n",
       "Name: duration, dtype: int64"
      ]
     },
     "execution_count": 10,
     "metadata": {},
     "output_type": "execute_result"
    }
   ],
   "source": [
    "data['duration'].value_counts()"
   ]
  },
  {
   "cell_type": "code",
   "execution_count": 11,
   "metadata": {},
   "outputs": [
    {
     "data": {
      "text/html": [
       "<div>\n",
       "<style scoped>\n",
       "    .dataframe tbody tr th:only-of-type {\n",
       "        vertical-align: middle;\n",
       "    }\n",
       "\n",
       "    .dataframe tbody tr th {\n",
       "        vertical-align: top;\n",
       "    }\n",
       "\n",
       "    .dataframe thead th {\n",
       "        text-align: right;\n",
       "    }\n",
       "</style>\n",
       "<table border=\"1\" class=\"dataframe\">\n",
       "  <thead>\n",
       "    <tr style=\"text-align: right;\">\n",
       "      <th></th>\n",
       "      <th>total_trans</th>\n",
       "      <th>value_trans</th>\n",
       "      <th>total_balance</th>\n",
       "      <th>vydaj</th>\n",
       "      <th>loan_amount</th>\n",
       "      <th>duration</th>\n",
       "      <th>payments</th>\n",
       "      <th>status</th>\n",
       "    </tr>\n",
       "    <tr>\n",
       "      <th>account_id</th>\n",
       "      <th></th>\n",
       "      <th></th>\n",
       "      <th></th>\n",
       "      <th></th>\n",
       "      <th></th>\n",
       "      <th></th>\n",
       "      <th></th>\n",
       "      <th></th>\n",
       "    </tr>\n",
       "  </thead>\n",
       "  <tbody>\n",
       "    <tr>\n",
       "      <th>2</th>\n",
       "      <td>374</td>\n",
       "      <td>2042.0</td>\n",
       "      <td>13581.0</td>\n",
       "      <td>237</td>\n",
       "      <td>810.0</td>\n",
       "      <td>24</td>\n",
       "      <td>34.0</td>\n",
       "      <td>A</td>\n",
       "    </tr>\n",
       "    <tr>\n",
       "      <th>19</th>\n",
       "      <td>259</td>\n",
       "      <td>1079.0</td>\n",
       "      <td>4005.0</td>\n",
       "      <td>126</td>\n",
       "      <td>303.0</td>\n",
       "      <td>12</td>\n",
       "      <td>25.0</td>\n",
       "      <td>B</td>\n",
       "    </tr>\n",
       "    <tr>\n",
       "      <th>25</th>\n",
       "      <td>225</td>\n",
       "      <td>2538.0</td>\n",
       "      <td>12541.0</td>\n",
       "      <td>145</td>\n",
       "      <td>303.0</td>\n",
       "      <td>12</td>\n",
       "      <td>25.0</td>\n",
       "      <td>A</td>\n",
       "    </tr>\n",
       "    <tr>\n",
       "      <th>37</th>\n",
       "      <td>95</td>\n",
       "      <td>748.0</td>\n",
       "      <td>3595.0</td>\n",
       "      <td>59</td>\n",
       "      <td>3185.0</td>\n",
       "      <td>60</td>\n",
       "      <td>53.0</td>\n",
       "      <td>D</td>\n",
       "    </tr>\n",
       "    <tr>\n",
       "      <th>38</th>\n",
       "      <td>98</td>\n",
       "      <td>391.0</td>\n",
       "      <td>3316.0</td>\n",
       "      <td>55</td>\n",
       "      <td>1107.0</td>\n",
       "      <td>48</td>\n",
       "      <td>23.0</td>\n",
       "      <td>C</td>\n",
       "    </tr>\n",
       "    <tr>\n",
       "      <th>...</th>\n",
       "      <td>...</td>\n",
       "      <td>...</td>\n",
       "      <td>...</td>\n",
       "      <td>...</td>\n",
       "      <td>...</td>\n",
       "      <td>...</td>\n",
       "      <td>...</td>\n",
       "      <td>...</td>\n",
       "    </tr>\n",
       "    <tr>\n",
       "      <th>11327</th>\n",
       "      <td>59</td>\n",
       "      <td>340.0</td>\n",
       "      <td>3349.0</td>\n",
       "      <td>33</td>\n",
       "      <td>392.0</td>\n",
       "      <td>24</td>\n",
       "      <td>16.0</td>\n",
       "      <td>C</td>\n",
       "    </tr>\n",
       "    <tr>\n",
       "      <th>11328</th>\n",
       "      <td>124</td>\n",
       "      <td>1062.0</td>\n",
       "      <td>5620.0</td>\n",
       "      <td>59</td>\n",
       "      <td>2804.0</td>\n",
       "      <td>60</td>\n",
       "      <td>47.0</td>\n",
       "      <td>C</td>\n",
       "    </tr>\n",
       "    <tr>\n",
       "      <th>11349</th>\n",
       "      <td>237</td>\n",
       "      <td>2883.0</td>\n",
       "      <td>11309.0</td>\n",
       "      <td>143</td>\n",
       "      <td>4199.0</td>\n",
       "      <td>60</td>\n",
       "      <td>70.0</td>\n",
       "      <td>C</td>\n",
       "    </tr>\n",
       "    <tr>\n",
       "      <th>11359</th>\n",
       "      <td>303</td>\n",
       "      <td>1967.0</td>\n",
       "      <td>10863.0</td>\n",
       "      <td>220</td>\n",
       "      <td>540.0</td>\n",
       "      <td>12</td>\n",
       "      <td>45.0</td>\n",
       "      <td>A</td>\n",
       "    </tr>\n",
       "    <tr>\n",
       "      <th>11362</th>\n",
       "      <td>244</td>\n",
       "      <td>781.0</td>\n",
       "      <td>7199.0</td>\n",
       "      <td>180</td>\n",
       "      <td>1294.0</td>\n",
       "      <td>24</td>\n",
       "      <td>54.0</td>\n",
       "      <td>A</td>\n",
       "    </tr>\n",
       "  </tbody>\n",
       "</table>\n",
       "<p>682 rows × 8 columns</p>\n",
       "</div>"
      ],
      "text/plain": [
       "            total_trans  value_trans  total_balance  vydaj  loan_amount  \\\n",
       "account_id                                                                \n",
       "2                   374       2042.0        13581.0    237        810.0   \n",
       "19                  259       1079.0         4005.0    126        303.0   \n",
       "25                  225       2538.0        12541.0    145        303.0   \n",
       "37                   95        748.0         3595.0     59       3185.0   \n",
       "38                   98        391.0         3316.0     55       1107.0   \n",
       "...                 ...          ...            ...    ...          ...   \n",
       "11327                59        340.0         3349.0     33        392.0   \n",
       "11328               124       1062.0         5620.0     59       2804.0   \n",
       "11349               237       2883.0        11309.0    143       4199.0   \n",
       "11359               303       1967.0        10863.0    220        540.0   \n",
       "11362               244        781.0         7199.0    180       1294.0   \n",
       "\n",
       "           duration  payments status  \n",
       "account_id                            \n",
       "2                24      34.0      A  \n",
       "19               12      25.0      B  \n",
       "25               12      25.0      A  \n",
       "37               60      53.0      D  \n",
       "38               48      23.0      C  \n",
       "...             ...       ...    ...  \n",
       "11327            24      16.0      C  \n",
       "11328            60      47.0      C  \n",
       "11349            60      70.0      C  \n",
       "11359            12      45.0      A  \n",
       "11362            24      54.0      A  \n",
       "\n",
       "[682 rows x 8 columns]"
      ]
     },
     "execution_count": 11,
     "metadata": {},
     "output_type": "execute_result"
    }
   ],
   "source": [
    "# account_id is important for the predictions, but i won't use it as a feature (unique values)\n",
    "data = data.set_index('account_id')\n",
    "data"
   ]
  },
  {
   "cell_type": "code",
   "execution_count": 11,
   "metadata": {
    "scrolled": true
   },
   "outputs": [
    {
     "name": "stdout",
     "output_type": "stream",
     "text": [
      "60    145\n",
      "24    138\n",
      "48    138\n",
      "12    131\n",
      "36    130\n",
      "Name: duration, dtype: int64 \n",
      "\n",
      "C    403\n",
      "A    203\n",
      "D     45\n",
      "B     31\n",
      "Name: status, dtype: int64 \n",
      "\n"
     ]
    }
   ],
   "source": [
    "for col in data.select_dtypes('object'):\n",
    "    print(data[col].value_counts(), '\\n')"
   ]
  },
  {
   "cell_type": "markdown",
   "metadata": {},
   "source": [
    "### EDA"
   ]
  },
  {
   "cell_type": "code",
   "execution_count": 17,
   "metadata": {},
   "outputs": [
    {
     "data": {
      "image/png": "[encoded data removed]",
      "text/plain": [
       "<Figure size 720x576 with 2 Axes>"
      ]
     },
     "metadata": {
      "needs_background": "light"
     },
     "output_type": "display_data"
    }
   ],
   "source": [
    "corr_matrix=data.corr(method='pearson')  # default\n",
    "fig, ax = plt.subplots(figsize=(10, 8))\n",
    "ax = sns.heatmap(corr_matrix, annot=True)\n",
    "plt.show()"
   ]
  },
  {
   "cell_type": "code",
   "execution_count": 18,
   "metadata": {},
   "outputs": [
    {
     "data": {
      "image/png": "[encoded data removed]",
      "text/plain": [
       "<Figure size 360x360 with 1 Axes>"
      ]
     },
     "metadata": {
      "needs_background": "light"
     },
     "output_type": "display_data"
    },
    {
     "data": {
      "image/png": "[encoded data removed]",
      "text/plain": [
       "<Figure size 360x360 with 1 Axes>"
      ]
     },
     "metadata": {
      "needs_background": "light"
     },
     "output_type": "display_data"
    },
    {
     "data": {
      "image/png": "[encoded data removed]",
      "text/plain": [
       "<Figure size 360x360 with 1 Axes>"
      ]
     },
     "metadata": {
      "needs_background": "light"
     },
     "output_type": "display_data"
    },
    {
     "data": {
      "image/png": "[encoded data removed]",
      "text/plain": [
       "<Figure size 360x360 with 1 Axes>"
      ]
     },
     "metadata": {
      "needs_background": "light"
     },
     "output_type": "display_data"
    },
    {
     "data": {
      "image/png": "[encoded data removed]",
      "text/plain": [
       "<Figure size 360x360 with 1 Axes>"
      ]
     },
     "metadata": {
      "needs_background": "light"
     },
     "output_type": "display_data"
    },
    {
     "data": {
      "image/png": "[encoded data removed]",
      "text/plain": [
       "<Figure size 360x360 with 1 Axes>"
      ]
     },
     "metadata": {
      "needs_background": "light"
     },
     "output_type": "display_data"
    }
   ],
   "source": [
    "for col in data.select_dtypes(np.number):\n",
    "    sns.displot(data[col])\n",
    "    plt.show()"
   ]
  },
  {
   "cell_type": "markdown",
   "metadata": {},
   "source": [
    "### Feature Engineering\n",
    "\n",
    "#### Maybe log or boxcox transformation would make sense. Watch out if you pick Normalizer, you'll loose some information on the categorical data ('duration')."
   ]
  },
  {
   "cell_type": "code",
   "execution_count": 12,
   "metadata": {},
   "outputs": [
    {
     "data": {
      "text/html": [
       "<div>\n",
       "<style scoped>\n",
       "    .dataframe tbody tr th:only-of-type {\n",
       "        vertical-align: middle;\n",
       "    }\n",
       "\n",
       "    .dataframe tbody tr th {\n",
       "        vertical-align: top;\n",
       "    }\n",
       "\n",
       "    .dataframe thead th {\n",
       "        text-align: right;\n",
       "    }\n",
       "</style>\n",
       "<table border=\"1\" class=\"dataframe\">\n",
       "  <thead>\n",
       "    <tr style=\"text-align: right;\">\n",
       "      <th></th>\n",
       "      <th>account_id</th>\n",
       "      <th>total_trans</th>\n",
       "      <th>value_trans</th>\n",
       "      <th>total_balance</th>\n",
       "      <th>vydaj</th>\n",
       "      <th>loan_amount</th>\n",
       "      <th>duration</th>\n",
       "      <th>payments</th>\n",
       "      <th>status</th>\n",
       "    </tr>\n",
       "  </thead>\n",
       "  <tbody>\n",
       "    <tr>\n",
       "      <th>0</th>\n",
       "      <td>0.901572</td>\n",
       "      <td>15.746405</td>\n",
       "      <td>19.501345</td>\n",
       "      <td>31.395356</td>\n",
       "      <td>14.812176</td>\n",
       "      <td>61.112589</td>\n",
       "      <td>24</td>\n",
       "      <td>205.609882</td>\n",
       "      <td>A</td>\n",
       "    </tr>\n",
       "    <tr>\n",
       "      <th>1</th>\n",
       "      <td>10.343242</td>\n",
       "      <td>13.808449</td>\n",
       "      <td>16.382376</td>\n",
       "      <td>23.063219</td>\n",
       "      <td>11.534955</td>\n",
       "      <td>47.140475</td>\n",
       "      <td>12</td>\n",
       "      <td>172.865619</td>\n",
       "      <td>B</td>\n",
       "    </tr>\n",
       "    <tr>\n",
       "      <th>2</th>\n",
       "      <td>12.934433</td>\n",
       "      <td>13.119127</td>\n",
       "      <td>20.667221</td>\n",
       "      <td>30.782437</td>\n",
       "      <td>12.207490</td>\n",
       "      <td>47.140475</td>\n",
       "      <td>12</td>\n",
       "      <td>172.865619</td>\n",
       "      <td>A</td>\n",
       "    </tr>\n",
       "    <tr>\n",
       "      <th>3</th>\n",
       "      <td>17.660520</td>\n",
       "      <td>9.457354</td>\n",
       "      <td>14.776919</td>\n",
       "      <td>22.426370</td>\n",
       "      <td>8.380072</td>\n",
       "      <td>87.139935</td>\n",
       "      <td>60</td>\n",
       "      <td>269.451102</td>\n",
       "      <td>D</td>\n",
       "    </tr>\n",
       "    <tr>\n",
       "      <th>4</th>\n",
       "      <td>18.033675</td>\n",
       "      <td>9.574118</td>\n",
       "      <td>12.229710</td>\n",
       "      <td>21.959588</td>\n",
       "      <td>8.124952</td>\n",
       "      <td>66.319225</td>\n",
       "      <td>48</td>\n",
       "      <td>163.855937</td>\n",
       "      <td>C</td>\n",
       "    </tr>\n",
       "    <tr>\n",
       "      <th>...</th>\n",
       "      <td>...</td>\n",
       "      <td>...</td>\n",
       "      <td>...</td>\n",
       "      <td>...</td>\n",
       "      <td>...</td>\n",
       "      <td>...</td>\n",
       "      <td>...</td>\n",
       "      <td>...</td>\n",
       "      <td>...</td>\n",
       "    </tr>\n",
       "    <tr>\n",
       "      <th>677</th>\n",
       "      <td>1226.946933</td>\n",
       "      <td>7.793820</td>\n",
       "      <td>11.726348</td>\n",
       "      <td>22.016371</td>\n",
       "      <td>6.431187</td>\n",
       "      <td>50.479555</td>\n",
       "      <td>24</td>\n",
       "      <td>133.177551</td>\n",
       "      <td>C</td>\n",
       "    </tr>\n",
       "    <tr>\n",
       "      <th>678</th>\n",
       "      <td>1227.025879</td>\n",
       "      <td>10.492798</td>\n",
       "      <td>16.310108</td>\n",
       "      <td>25.159829</td>\n",
       "      <td>8.380072</td>\n",
       "      <td>84.338108</td>\n",
       "      <td>60</td>\n",
       "      <td>249.779628</td>\n",
       "      <td>C</td>\n",
       "    </tr>\n",
       "    <tr>\n",
       "      <th>679</th>\n",
       "      <td>1228.683311</td>\n",
       "      <td>13.370374</td>\n",
       "      <td>21.376633</td>\n",
       "      <td>30.002427</td>\n",
       "      <td>12.139632</td>\n",
       "      <td>93.538292</td>\n",
       "      <td>60</td>\n",
       "      <td>317.665823</td>\n",
       "      <td>C</td>\n",
       "    </tr>\n",
       "    <tr>\n",
       "      <th>680</th>\n",
       "      <td>1229.472271</td>\n",
       "      <td>14.610870</td>\n",
       "      <td>19.306205</td>\n",
       "      <td>29.703574</td>\n",
       "      <td>14.390859</td>\n",
       "      <td>54.956644</td>\n",
       "      <td>12</td>\n",
       "      <td>244.258388</td>\n",
       "      <td>A</td>\n",
       "    </tr>\n",
       "    <tr>\n",
       "      <th>681</th>\n",
       "      <td>1229.708923</td>\n",
       "      <td>13.512785</td>\n",
       "      <td>14.959520</td>\n",
       "      <td>26.791864</td>\n",
       "      <td>13.303617</td>\n",
       "      <td>69.061667</td>\n",
       "      <td>24</td>\n",
       "      <td>271.983648</td>\n",
       "      <td>A</td>\n",
       "    </tr>\n",
       "  </tbody>\n",
       "</table>\n",
       "<p>682 rows × 9 columns</p>\n",
       "</div>"
      ],
      "text/plain": [
       "      account_id  total_trans  value_trans  total_balance      vydaj  \\\n",
       "0       0.901572    15.746405    19.501345      31.395356  14.812176   \n",
       "1      10.343242    13.808449    16.382376      23.063219  11.534955   \n",
       "2      12.934433    13.119127    20.667221      30.782437  12.207490   \n",
       "3      17.660520     9.457354    14.776919      22.426370   8.380072   \n",
       "4      18.033675     9.574118    12.229710      21.959588   8.124952   \n",
       "..           ...          ...          ...            ...        ...   \n",
       "677  1226.946933     7.793820    11.726348      22.016371   6.431187   \n",
       "678  1227.025879    10.492798    16.310108      25.159829   8.380072   \n",
       "679  1228.683311    13.370374    21.376633      30.002427  12.139632   \n",
       "680  1229.472271    14.610870    19.306205      29.703574  14.390859   \n",
       "681  1229.708923    13.512785    14.959520      26.791864  13.303617   \n",
       "\n",
       "     loan_amount duration    payments status  \n",
       "0      61.112589       24  205.609882      A  \n",
       "1      47.140475       12  172.865619      B  \n",
       "2      47.140475       12  172.865619      A  \n",
       "3      87.139935       60  269.451102      D  \n",
       "4      66.319225       48  163.855937      C  \n",
       "..           ...      ...         ...    ...  \n",
       "677    50.479555       24  133.177551      C  \n",
       "678    84.338108       60  249.779628      C  \n",
       "679    93.538292       60  317.665823      C  \n",
       "680    54.956644       12  244.258388      A  \n",
       "681    69.061667       24  271.983648      A  \n",
       "\n",
       "[682 rows x 9 columns]"
      ]
     },
     "execution_count": 12,
     "metadata": {},
     "output_type": "execute_result"
    }
   ],
   "source": [
    "from scipy import stats\n",
    "\n",
    "def boxcox_transform(df):\n",
    "    numeric_cols = df.select_dtypes(np.number).columns\n",
    "    _ci = {column: None for column in numeric_cols}\n",
    "    for column in numeric_cols:\n",
    "        # since i know any columns should take negative numbers, to avoid -inf in df\n",
    "        df[column] = np.where(df[column]<=0, np.NAN, df[column]) \n",
    "        df[column] = df[column].fillna(df[column].mean())\n",
    "        transformed_data, ci = stats.boxcox(df[column])\n",
    "        df[column] = transformed_data\n",
    "        _ci[column] = [ci] \n",
    "    return df, _ci\n",
    "\n",
    "df, _ci = boxcox_transform(data)\n",
    "df"
   ]
  },
  {
   "cell_type": "markdown",
   "metadata": {},
   "source": [
    "### Methods to Solve Data Imbalance"
   ]
  },
  {
   "cell_type": "markdown",
   "metadata": {},
   "source": [
    "#### UpSampling\n",
    "Increase the number of minority classes. Can cause overfitting."
   ]
  },
  {
   "cell_type": "code",
   "execution_count": 13,
   "metadata": {},
   "outputs": [
    {
     "data": {
      "text/plain": [
       "C    403\n",
       "A    203\n",
       "D     45\n",
       "B     31\n",
       "Name: status, dtype: int64"
      ]
     },
     "execution_count": 13,
     "metadata": {},
     "output_type": "execute_result"
    }
   ],
   "source": [
    "data['status'].value_counts()"
   ]
  },
  {
   "cell_type": "code",
   "execution_count": 51,
   "metadata": {},
   "outputs": [
    {
     "data": {
      "text/html": [
       "<div>\n",
       "<style scoped>\n",
       "    .dataframe tbody tr th:only-of-type {\n",
       "        vertical-align: middle;\n",
       "    }\n",
       "\n",
       "    .dataframe tbody tr th {\n",
       "        vertical-align: top;\n",
       "    }\n",
       "\n",
       "    .dataframe thead th {\n",
       "        text-align: right;\n",
       "    }\n",
       "</style>\n",
       "<table border=\"1\" class=\"dataframe\">\n",
       "  <thead>\n",
       "    <tr style=\"text-align: right;\">\n",
       "      <th></th>\n",
       "      <th>total_trans</th>\n",
       "      <th>value_trans</th>\n",
       "      <th>total_balance</th>\n",
       "      <th>vydaj</th>\n",
       "      <th>loan_amount</th>\n",
       "      <th>duration</th>\n",
       "      <th>payments</th>\n",
       "      <th>status</th>\n",
       "    </tr>\n",
       "    <tr>\n",
       "      <th>account_id</th>\n",
       "      <th></th>\n",
       "      <th></th>\n",
       "      <th></th>\n",
       "      <th></th>\n",
       "      <th></th>\n",
       "      <th></th>\n",
       "      <th></th>\n",
       "      <th></th>\n",
       "    </tr>\n",
       "  </thead>\n",
       "  <tbody>\n",
       "    <tr>\n",
       "      <th>7052</th>\n",
       "      <td>8.695365</td>\n",
       "      <td>11.778215</td>\n",
       "      <td>17.922524</td>\n",
       "      <td>6.955006</td>\n",
       "      <td>15.817676</td>\n",
       "      <td>36</td>\n",
       "      <td>7.738393</td>\n",
       "      <td>D</td>\n",
       "    </tr>\n",
       "    <tr>\n",
       "      <th>9017</th>\n",
       "      <td>13.224943</td>\n",
       "      <td>14.517469</td>\n",
       "      <td>22.252491</td>\n",
       "      <td>10.225424</td>\n",
       "      <td>18.130562</td>\n",
       "      <td>48</td>\n",
       "      <td>8.646458</td>\n",
       "      <td>D</td>\n",
       "    </tr>\n",
       "    <tr>\n",
       "      <th>9199</th>\n",
       "      <td>12.181292</td>\n",
       "      <td>14.765651</td>\n",
       "      <td>20.063059</td>\n",
       "      <td>9.705172</td>\n",
       "      <td>12.361226</td>\n",
       "      <td>12</td>\n",
       "      <td>9.779552</td>\n",
       "      <td>B</td>\n",
       "    </tr>\n",
       "    <tr>\n",
       "      <th>7753</th>\n",
       "      <td>16.631773</td>\n",
       "      <td>25.394311</td>\n",
       "      <td>36.761954</td>\n",
       "      <td>14.690456</td>\n",
       "      <td>14.802778</td>\n",
       "      <td>24</td>\n",
       "      <td>8.937333</td>\n",
       "      <td>A</td>\n",
       "    </tr>\n",
       "    <tr>\n",
       "      <th>3711</th>\n",
       "      <td>9.090551</td>\n",
       "      <td>13.679853</td>\n",
       "      <td>19.163946</td>\n",
       "      <td>7.925194</td>\n",
       "      <td>28.216864</td>\n",
       "      <td>60</td>\n",
       "      <td>20.756550</td>\n",
       "      <td>D</td>\n",
       "    </tr>\n",
       "    <tr>\n",
       "      <th>...</th>\n",
       "      <td>...</td>\n",
       "      <td>...</td>\n",
       "      <td>...</td>\n",
       "      <td>...</td>\n",
       "      <td>...</td>\n",
       "      <td>...</td>\n",
       "      <td>...</td>\n",
       "      <td>...</td>\n",
       "    </tr>\n",
       "    <tr>\n",
       "      <th>5267</th>\n",
       "      <td>12.303154</td>\n",
       "      <td>19.750515</td>\n",
       "      <td>27.845361</td>\n",
       "      <td>10.225424</td>\n",
       "      <td>19.564080</td>\n",
       "      <td>24</td>\n",
       "      <td>16.471523</td>\n",
       "      <td>D</td>\n",
       "    </tr>\n",
       "    <tr>\n",
       "      <th>2334</th>\n",
       "      <td>11.668894</td>\n",
       "      <td>14.882805</td>\n",
       "      <td>24.689780</td>\n",
       "      <td>10.134039</td>\n",
       "      <td>14.490304</td>\n",
       "      <td>24</td>\n",
       "      <td>8.349950</td>\n",
       "      <td>C</td>\n",
       "    </tr>\n",
       "    <tr>\n",
       "      <th>7859</th>\n",
       "      <td>12.858171</td>\n",
       "      <td>20.137116</td>\n",
       "      <td>32.709561</td>\n",
       "      <td>11.422567</td>\n",
       "      <td>16.407921</td>\n",
       "      <td>12</td>\n",
       "      <td>17.650524</td>\n",
       "      <td>A</td>\n",
       "    </tr>\n",
       "    <tr>\n",
       "      <th>1762</th>\n",
       "      <td>15.671718</td>\n",
       "      <td>18.712527</td>\n",
       "      <td>29.989886</td>\n",
       "      <td>15.418430</td>\n",
       "      <td>23.662919</td>\n",
       "      <td>36</td>\n",
       "      <td>19.333520</td>\n",
       "      <td>A</td>\n",
       "    </tr>\n",
       "    <tr>\n",
       "      <th>472</th>\n",
       "      <td>10.394239</td>\n",
       "      <td>18.721194</td>\n",
       "      <td>26.459267</td>\n",
       "      <td>9.135592</td>\n",
       "      <td>22.130380</td>\n",
       "      <td>24</td>\n",
       "      <td>21.615764</td>\n",
       "      <td>D</td>\n",
       "    </tr>\n",
       "  </tbody>\n",
       "</table>\n",
       "<p>1600 rows × 8 columns</p>\n",
       "</div>"
      ],
      "text/plain": [
       "            total_trans  value_trans  total_balance      vydaj  loan_amount  \\\n",
       "account_id                                                                    \n",
       "7052           8.695365    11.778215      17.922524   6.955006    15.817676   \n",
       "9017          13.224943    14.517469      22.252491  10.225424    18.130562   \n",
       "9199          12.181292    14.765651      20.063059   9.705172    12.361226   \n",
       "7753          16.631773    25.394311      36.761954  14.690456    14.802778   \n",
       "3711           9.090551    13.679853      19.163946   7.925194    28.216864   \n",
       "...                 ...          ...            ...        ...          ...   \n",
       "5267          12.303154    19.750515      27.845361  10.225424    19.564080   \n",
       "2334          11.668894    14.882805      24.689780  10.134039    14.490304   \n",
       "7859          12.858171    20.137116      32.709561  11.422567    16.407921   \n",
       "1762          15.671718    18.712527      29.989886  15.418430    23.662919   \n",
       "472           10.394239    18.721194      26.459267   9.135592    22.130380   \n",
       "\n",
       "           duration   payments status  \n",
       "account_id                             \n",
       "7052             36   7.738393      D  \n",
       "9017             48   8.646458      D  \n",
       "9199             12   9.779552      B  \n",
       "7753             24   8.937333      A  \n",
       "3711             60  20.756550      D  \n",
       "...             ...        ...    ...  \n",
       "5267             24  16.471523      D  \n",
       "2334             24   8.349950      C  \n",
       "7859             12  17.650524      A  \n",
       "1762             36  19.333520      A  \n",
       "472              24  21.615764      D  \n",
       "\n",
       "[1600 rows x 8 columns]"
      ]
     },
     "execution_count": 51,
     "metadata": {},
     "output_type": "execute_result"
    }
   ],
   "source": [
    "# Manually\n",
    "# getting sample with the same amount as the minority class\n",
    "A = data[data['status'] == 'A'].sample(400, replace=True) # needs the replace because it has less than 400 rows\n",
    "B = data[data['status'] == 'B'].sample(400, replace=True)\n",
    "C = data[data['status'] == 'C'].sample(400) # don't need the replace because it has 403 rows\n",
    "D = data[data['status'] == 'D'].sample(400, replace=True)\n",
    "\n",
    "upsampled = pd.concat([A, B, C, D]).sample(frac=1) # .sample(frac=1) here is just to shuffle the dataframe\n",
    "upsampled"
   ]
  },
  {
   "cell_type": "code",
   "execution_count": null,
   "metadata": {},
   "outputs": [],
   "source": [
    "!pip install imblearn"
   ]
  },
  {
   "cell_type": "code",
   "execution_count": 17,
   "metadata": {
    "tags": []
   },
   "outputs": [
    {
     "data": {
      "text/plain": [
       "A    403\n",
       "D    403\n",
       "B    403\n",
       "C    403\n",
       "Name: status, dtype: int64"
      ]
     },
     "execution_count": 17,
     "metadata": {},
     "output_type": "execute_result"
    }
   ],
   "source": [
    "# SMOTE\n",
    "# Uses knn to create rows with similar features from the minority classes.\n",
    "from imblearn.over_sampling import SMOTE\n",
    "\n",
    "smote = SMOTE()\n",
    "\n",
    "X = data.drop('status', axis=1)\n",
    "y = data['status']\n",
    "\n",
    "X_sm, y_sm = smote.fit_resample(X, y)\n",
    "y_sm.value_counts()"
   ]
  },
  {
   "cell_type": "markdown",
   "metadata": {},
   "source": [
    "#### DownSampling\n",
    "Reducing the majority classes. May lose information."
   ]
  },
  {
   "cell_type": "code",
   "execution_count": 18,
   "metadata": {},
   "outputs": [
    {
     "data": {
      "text/plain": [
       "C    403\n",
       "A    203\n",
       "D     45\n",
       "B     31\n",
       "Name: status, dtype: int64"
      ]
     },
     "execution_count": 18,
     "metadata": {},
     "output_type": "execute_result"
    }
   ],
   "source": [
    "data.status.value_counts()"
   ]
  },
  {
   "cell_type": "code",
   "execution_count": 22,
   "metadata": {},
   "outputs": [
    {
     "data": {
      "text/html": [
       "<div>\n",
       "<style scoped>\n",
       "    .dataframe tbody tr th:only-of-type {\n",
       "        vertical-align: middle;\n",
       "    }\n",
       "\n",
       "    .dataframe tbody tr th {\n",
       "        vertical-align: top;\n",
       "    }\n",
       "\n",
       "    .dataframe thead th {\n",
       "        text-align: right;\n",
       "    }\n",
       "</style>\n",
       "<table border=\"1\" class=\"dataframe\">\n",
       "  <thead>\n",
       "    <tr style=\"text-align: right;\">\n",
       "      <th></th>\n",
       "      <th>total_trans</th>\n",
       "      <th>value_trans</th>\n",
       "      <th>total_balance</th>\n",
       "      <th>vydaj</th>\n",
       "      <th>loan_amount</th>\n",
       "      <th>duration</th>\n",
       "      <th>payments</th>\n",
       "      <th>status</th>\n",
       "    </tr>\n",
       "    <tr>\n",
       "      <th>account_id</th>\n",
       "      <th></th>\n",
       "      <th></th>\n",
       "      <th></th>\n",
       "      <th></th>\n",
       "      <th></th>\n",
       "      <th></th>\n",
       "      <th></th>\n",
       "      <th></th>\n",
       "    </tr>\n",
       "  </thead>\n",
       "  <tbody>\n",
       "    <tr>\n",
       "      <th>9510</th>\n",
       "      <td>10.840309</td>\n",
       "      <td>14.288050</td>\n",
       "      <td>24.151824</td>\n",
       "      <td>9.605609</td>\n",
       "      <td>23.102615</td>\n",
       "      <td>36</td>\n",
       "      <td>18.222151</td>\n",
       "      <td>C</td>\n",
       "    </tr>\n",
       "    <tr>\n",
       "      <th>4618</th>\n",
       "      <td>10.427283</td>\n",
       "      <td>15.581288</td>\n",
       "      <td>21.632787</td>\n",
       "      <td>9.453077</td>\n",
       "      <td>16.020389</td>\n",
       "      <td>24</td>\n",
       "      <td>10.581945</td>\n",
       "      <td>D</td>\n",
       "    </tr>\n",
       "    <tr>\n",
       "      <th>1843</th>\n",
       "      <td>15.520160</td>\n",
       "      <td>18.616419</td>\n",
       "      <td>30.679716</td>\n",
       "      <td>14.641268</td>\n",
       "      <td>18.428841</td>\n",
       "      <td>36</td>\n",
       "      <td>10.841619</td>\n",
       "      <td>A</td>\n",
       "    </tr>\n",
       "    <tr>\n",
       "      <th>1106</th>\n",
       "      <td>15.062963</td>\n",
       "      <td>21.198267</td>\n",
       "      <td>30.530432</td>\n",
       "      <td>13.156484</td>\n",
       "      <td>21.992042</td>\n",
       "      <td>24</td>\n",
       "      <td>21.274681</td>\n",
       "      <td>B</td>\n",
       "    </tr>\n",
       "    <tr>\n",
       "      <th>6083</th>\n",
       "      <td>12.230315</td>\n",
       "      <td>19.503908</td>\n",
       "      <td>27.889441</td>\n",
       "      <td>10.041291</td>\n",
       "      <td>26.334428</td>\n",
       "      <td>48</td>\n",
       "      <td>20.406607</td>\n",
       "      <td>D</td>\n",
       "    </tr>\n",
       "    <tr>\n",
       "      <th>...</th>\n",
       "      <td>...</td>\n",
       "      <td>...</td>\n",
       "      <td>...</td>\n",
       "      <td>...</td>\n",
       "      <td>...</td>\n",
       "      <td>...</td>\n",
       "      <td>...</td>\n",
       "      <td>...</td>\n",
       "    </tr>\n",
       "    <tr>\n",
       "      <th>6148</th>\n",
       "      <td>15.239621</td>\n",
       "      <td>20.380237</td>\n",
       "      <td>35.032863</td>\n",
       "      <td>14.441552</td>\n",
       "      <td>15.489118</td>\n",
       "      <td>24</td>\n",
       "      <td>9.779552</td>\n",
       "      <td>A</td>\n",
       "    </tr>\n",
       "    <tr>\n",
       "      <th>1583</th>\n",
       "      <td>14.382925</td>\n",
       "      <td>21.596410</td>\n",
       "      <td>29.533901</td>\n",
       "      <td>12.207490</td>\n",
       "      <td>26.889258</td>\n",
       "      <td>48</td>\n",
       "      <td>21.445646</td>\n",
       "      <td>D</td>\n",
       "    </tr>\n",
       "    <tr>\n",
       "      <th>2279</th>\n",
       "      <td>10.809567</td>\n",
       "      <td>19.047740</td>\n",
       "      <td>26.977885</td>\n",
       "      <td>9.080945</td>\n",
       "      <td>25.329373</td>\n",
       "      <td>48</td>\n",
       "      <td>18.782921</td>\n",
       "      <td>C</td>\n",
       "    </tr>\n",
       "    <tr>\n",
       "      <th>816</th>\n",
       "      <td>16.222345</td>\n",
       "      <td>24.254343</td>\n",
       "      <td>37.655277</td>\n",
       "      <td>14.787973</td>\n",
       "      <td>14.518531</td>\n",
       "      <td>24</td>\n",
       "      <td>8.349950</td>\n",
       "      <td>A</td>\n",
       "    </tr>\n",
       "    <tr>\n",
       "      <th>472</th>\n",
       "      <td>10.394239</td>\n",
       "      <td>18.721194</td>\n",
       "      <td>26.459267</td>\n",
       "      <td>9.135592</td>\n",
       "      <td>22.130380</td>\n",
       "      <td>24</td>\n",
       "      <td>21.615764</td>\n",
       "      <td>D</td>\n",
       "    </tr>\n",
       "  </tbody>\n",
       "</table>\n",
       "<p>120 rows × 8 columns</p>\n",
       "</div>"
      ],
      "text/plain": [
       "            total_trans  value_trans  total_balance      vydaj  loan_amount  \\\n",
       "account_id                                                                    \n",
       "9510          10.840309    14.288050      24.151824   9.605609    23.102615   \n",
       "4618          10.427283    15.581288      21.632787   9.453077    16.020389   \n",
       "1843          15.520160    18.616419      30.679716  14.641268    18.428841   \n",
       "1106          15.062963    21.198267      30.530432  13.156484    21.992042   \n",
       "6083          12.230315    19.503908      27.889441  10.041291    26.334428   \n",
       "...                 ...          ...            ...        ...          ...   \n",
       "6148          15.239621    20.380237      35.032863  14.441552    15.489118   \n",
       "1583          14.382925    21.596410      29.533901  12.207490    26.889258   \n",
       "2279          10.809567    19.047740      26.977885   9.080945    25.329373   \n",
       "816           16.222345    24.254343      37.655277  14.787973    14.518531   \n",
       "472           10.394239    18.721194      26.459267   9.135592    22.130380   \n",
       "\n",
       "           duration   payments status  \n",
       "account_id                             \n",
       "9510             36  18.222151      C  \n",
       "4618             24  10.581945      D  \n",
       "1843             36  10.841619      A  \n",
       "1106             24  21.274681      B  \n",
       "6083             48  20.406607      D  \n",
       "...             ...        ...    ...  \n",
       "6148             24   9.779552      A  \n",
       "1583             48  21.445646      D  \n",
       "2279             48  18.782921      C  \n",
       "816              24   8.349950      A  \n",
       "472              24  21.615764      D  \n",
       "\n",
       "[120 rows x 8 columns]"
      ]
     },
     "execution_count": 22,
     "metadata": {},
     "output_type": "execute_result"
    }
   ],
   "source": [
    "# Manually\n",
    "# getting sample with the same amount as the minority class\n",
    "A = data[data['status'] == 'A'].sample(30)\n",
    "B = data[data['status'] == 'B'].sample(30)\n",
    "C = data[data['status'] == 'C'].sample(30)\n",
    "D = data[data['status'] == 'D'].sample(30)\n",
    "\n",
    "downsampled = pd.concat([A, B, C, D]).sample(frac=1) # .sample(frac=1) here is just to shuffle the dataframe\n",
    "downsampled"
   ]
  },
  {
   "cell_type": "code",
   "execution_count": 23,
   "metadata": {},
   "outputs": [
    {
     "data": {
      "text/plain": [
       "C    365\n",
       "A    172\n",
       "B     31\n",
       "D     25\n",
       "Name: status, dtype: int64"
      ]
     },
     "execution_count": 23,
     "metadata": {},
     "output_type": "execute_result"
    }
   ],
   "source": [
    "# Tomek Links\n",
    "# Pairs of almost similar rows from opposite classes.\n",
    "# Removing the row of the majority class from each pair helps the classifier.\n",
    "from imblearn.under_sampling import TomekLinks\n",
    "\n",
    "X = data.drop('status', axis=1)\n",
    "y = data['status']\n",
    "\n",
    "tomek = TomekLinks()\n",
    "X_tl, y_tl = tomek.fit_resample(X, y)\n",
    "y_tl.value_counts()\n",
    "\n",
    "## Ooops - good for smaller imbalances"
   ]
  },
  {
   "cell_type": "markdown",
   "metadata": {},
   "source": [
    "#### Parameter Tuning: class_weight"
   ]
  },
  {
   "cell_type": "code",
   "execution_count": null,
   "metadata": {},
   "outputs": [],
   "source": [
    "# 100 -> 90(A), 10(B)\n",
    "# model -> every point is A"
   ]
  },
  {
   "cell_type": "code",
   "execution_count": 21,
   "metadata": {},
   "outputs": [
    {
     "data": {
      "text/plain": [
       "C    403\n",
       "A    203\n",
       "D     45\n",
       "B     31\n",
       "Name: status, dtype: int64"
      ]
     },
     "execution_count": 21,
     "metadata": {},
     "output_type": "execute_result"
    }
   ],
   "source": [
    "data.status.value_counts()"
   ]
  },
  {
   "cell_type": "code",
   "execution_count": 45,
   "metadata": {},
   "outputs": [],
   "source": [
    "# Some algorithms accept a class_weight parameter in which you can pass the class weights\n",
    "# This will penalize majority classes proportionally\n",
    "\n",
    "X = pd.get_dummies(data.drop('status', axis=1))\n",
    "y = data['status']\n",
    "\n",
    "total = sum(data['status'].value_counts())\n",
    "\n",
    "weights = {'A': total/(2*data['status'].value_counts()['A']),\n",
    "           'B': total/(2*data['status'].value_counts()['B']),\n",
    "           'C': total/(2*data['status'].value_counts()['C']),\n",
    "           'D': total/(2*data['status'].value_counts()['D'])}\n",
    "\n",
    "# classification = LogisticRegression(random_state=42, class_weight=weights)"
   ]
  },
  {
   "cell_type": "code",
   "execution_count": 46,
   "metadata": {},
   "outputs": [
    {
     "data": {
      "text/plain": [
       "{'A': 1.6798029556650247,\n",
       " 'B': 11.0,\n",
       " 'C': 0.8461538461538461,\n",
       " 'D': 7.5777777777777775}"
      ]
     },
     "execution_count": 46,
     "metadata": {},
     "output_type": "execute_result"
    }
   ],
   "source": [
    "weights"
   ]
  },
  {
   "cell_type": "code",
   "execution_count": 54,
   "metadata": {},
   "outputs": [
    {
     "data": {
      "text/plain": [
       "C    403\n",
       "A    203\n",
       "D     45\n",
       "B     31\n",
       "Name: status, dtype: int64"
      ]
     },
     "execution_count": 54,
     "metadata": {},
     "output_type": "execute_result"
    }
   ],
   "source": [
    "data['status'].value_counts()"
   ]
  },
  {
   "cell_type": "markdown",
   "metadata": {},
   "source": [
    "### Train the model"
   ]
  },
  {
   "cell_type": "code",
   "execution_count": 27,
   "metadata": {},
   "outputs": [],
   "source": [
    "X = data.drop('status', axis=1)\n",
    "y = data['status']"
   ]
  },
  {
   "cell_type": "code",
   "execution_count": 28,
   "metadata": {},
   "outputs": [
    {
     "data": {
      "text/html": [
       "<div>\n",
       "<style scoped>\n",
       "    .dataframe tbody tr th:only-of-type {\n",
       "        vertical-align: middle;\n",
       "    }\n",
       "\n",
       "    .dataframe tbody tr th {\n",
       "        vertical-align: top;\n",
       "    }\n",
       "\n",
       "    .dataframe thead th {\n",
       "        text-align: right;\n",
       "    }\n",
       "</style>\n",
       "<table border=\"1\" class=\"dataframe\">\n",
       "  <thead>\n",
       "    <tr style=\"text-align: right;\">\n",
       "      <th></th>\n",
       "      <th>account_id</th>\n",
       "      <th>total_trans</th>\n",
       "      <th>value_trans</th>\n",
       "      <th>total_balance</th>\n",
       "      <th>vydaj</th>\n",
       "      <th>loan_amount</th>\n",
       "      <th>payments</th>\n",
       "      <th>duration_12</th>\n",
       "      <th>duration_24</th>\n",
       "      <th>duration_36</th>\n",
       "      <th>duration_48</th>\n",
       "      <th>duration_60</th>\n",
       "    </tr>\n",
       "  </thead>\n",
       "  <tbody>\n",
       "    <tr>\n",
       "      <th>0</th>\n",
       "      <td>0.901572</td>\n",
       "      <td>15.746405</td>\n",
       "      <td>19.501345</td>\n",
       "      <td>31.395356</td>\n",
       "      <td>14.812176</td>\n",
       "      <td>61.112589</td>\n",
       "      <td>205.609882</td>\n",
       "      <td>0</td>\n",
       "      <td>1</td>\n",
       "      <td>0</td>\n",
       "      <td>0</td>\n",
       "      <td>0</td>\n",
       "    </tr>\n",
       "    <tr>\n",
       "      <th>1</th>\n",
       "      <td>10.343242</td>\n",
       "      <td>13.808449</td>\n",
       "      <td>16.382376</td>\n",
       "      <td>23.063219</td>\n",
       "      <td>11.534955</td>\n",
       "      <td>47.140475</td>\n",
       "      <td>172.865619</td>\n",
       "      <td>1</td>\n",
       "      <td>0</td>\n",
       "      <td>0</td>\n",
       "      <td>0</td>\n",
       "      <td>0</td>\n",
       "    </tr>\n",
       "    <tr>\n",
       "      <th>2</th>\n",
       "      <td>12.934433</td>\n",
       "      <td>13.119127</td>\n",
       "      <td>20.667221</td>\n",
       "      <td>30.782437</td>\n",
       "      <td>12.207490</td>\n",
       "      <td>47.140475</td>\n",
       "      <td>172.865619</td>\n",
       "      <td>1</td>\n",
       "      <td>0</td>\n",
       "      <td>0</td>\n",
       "      <td>0</td>\n",
       "      <td>0</td>\n",
       "    </tr>\n",
       "    <tr>\n",
       "      <th>3</th>\n",
       "      <td>17.660520</td>\n",
       "      <td>9.457354</td>\n",
       "      <td>14.776919</td>\n",
       "      <td>22.426370</td>\n",
       "      <td>8.380072</td>\n",
       "      <td>87.139935</td>\n",
       "      <td>269.451102</td>\n",
       "      <td>0</td>\n",
       "      <td>0</td>\n",
       "      <td>0</td>\n",
       "      <td>0</td>\n",
       "      <td>1</td>\n",
       "    </tr>\n",
       "    <tr>\n",
       "      <th>4</th>\n",
       "      <td>18.033675</td>\n",
       "      <td>9.574118</td>\n",
       "      <td>12.229710</td>\n",
       "      <td>21.959588</td>\n",
       "      <td>8.124952</td>\n",
       "      <td>66.319225</td>\n",
       "      <td>163.855937</td>\n",
       "      <td>0</td>\n",
       "      <td>0</td>\n",
       "      <td>0</td>\n",
       "      <td>1</td>\n",
       "      <td>0</td>\n",
       "    </tr>\n",
       "    <tr>\n",
       "      <th>...</th>\n",
       "      <td>...</td>\n",
       "      <td>...</td>\n",
       "      <td>...</td>\n",
       "      <td>...</td>\n",
       "      <td>...</td>\n",
       "      <td>...</td>\n",
       "      <td>...</td>\n",
       "      <td>...</td>\n",
       "      <td>...</td>\n",
       "      <td>...</td>\n",
       "      <td>...</td>\n",
       "      <td>...</td>\n",
       "    </tr>\n",
       "    <tr>\n",
       "      <th>677</th>\n",
       "      <td>1226.946933</td>\n",
       "      <td>7.793820</td>\n",
       "      <td>11.726348</td>\n",
       "      <td>22.016371</td>\n",
       "      <td>6.431187</td>\n",
       "      <td>50.479555</td>\n",
       "      <td>133.177551</td>\n",
       "      <td>0</td>\n",
       "      <td>1</td>\n",
       "      <td>0</td>\n",
       "      <td>0</td>\n",
       "      <td>0</td>\n",
       "    </tr>\n",
       "    <tr>\n",
       "      <th>678</th>\n",
       "      <td>1227.025879</td>\n",
       "      <td>10.492798</td>\n",
       "      <td>16.310108</td>\n",
       "      <td>25.159829</td>\n",
       "      <td>8.380072</td>\n",
       "      <td>84.338108</td>\n",
       "      <td>249.779628</td>\n",
       "      <td>0</td>\n",
       "      <td>0</td>\n",
       "      <td>0</td>\n",
       "      <td>0</td>\n",
       "      <td>1</td>\n",
       "    </tr>\n",
       "    <tr>\n",
       "      <th>679</th>\n",
       "      <td>1228.683311</td>\n",
       "      <td>13.370374</td>\n",
       "      <td>21.376633</td>\n",
       "      <td>30.002427</td>\n",
       "      <td>12.139632</td>\n",
       "      <td>93.538292</td>\n",
       "      <td>317.665823</td>\n",
       "      <td>0</td>\n",
       "      <td>0</td>\n",
       "      <td>0</td>\n",
       "      <td>0</td>\n",
       "      <td>1</td>\n",
       "    </tr>\n",
       "    <tr>\n",
       "      <th>680</th>\n",
       "      <td>1229.472271</td>\n",
       "      <td>14.610870</td>\n",
       "      <td>19.306205</td>\n",
       "      <td>29.703574</td>\n",
       "      <td>14.390859</td>\n",
       "      <td>54.956644</td>\n",
       "      <td>244.258388</td>\n",
       "      <td>1</td>\n",
       "      <td>0</td>\n",
       "      <td>0</td>\n",
       "      <td>0</td>\n",
       "      <td>0</td>\n",
       "    </tr>\n",
       "    <tr>\n",
       "      <th>681</th>\n",
       "      <td>1229.708923</td>\n",
       "      <td>13.512785</td>\n",
       "      <td>14.959520</td>\n",
       "      <td>26.791864</td>\n",
       "      <td>13.303617</td>\n",
       "      <td>69.061667</td>\n",
       "      <td>271.983648</td>\n",
       "      <td>0</td>\n",
       "      <td>1</td>\n",
       "      <td>0</td>\n",
       "      <td>0</td>\n",
       "      <td>0</td>\n",
       "    </tr>\n",
       "  </tbody>\n",
       "</table>\n",
       "<p>682 rows × 12 columns</p>\n",
       "</div>"
      ],
      "text/plain": [
       "      account_id  total_trans  value_trans  total_balance      vydaj  \\\n",
       "0       0.901572    15.746405    19.501345      31.395356  14.812176   \n",
       "1      10.343242    13.808449    16.382376      23.063219  11.534955   \n",
       "2      12.934433    13.119127    20.667221      30.782437  12.207490   \n",
       "3      17.660520     9.457354    14.776919      22.426370   8.380072   \n",
       "4      18.033675     9.574118    12.229710      21.959588   8.124952   \n",
       "..           ...          ...          ...            ...        ...   \n",
       "677  1226.946933     7.793820    11.726348      22.016371   6.431187   \n",
       "678  1227.025879    10.492798    16.310108      25.159829   8.380072   \n",
       "679  1228.683311    13.370374    21.376633      30.002427  12.139632   \n",
       "680  1229.472271    14.610870    19.306205      29.703574  14.390859   \n",
       "681  1229.708923    13.512785    14.959520      26.791864  13.303617   \n",
       "\n",
       "     loan_amount    payments  duration_12  duration_24  duration_36  \\\n",
       "0      61.112589  205.609882            0            1            0   \n",
       "1      47.140475  172.865619            1            0            0   \n",
       "2      47.140475  172.865619            1            0            0   \n",
       "3      87.139935  269.451102            0            0            0   \n",
       "4      66.319225  163.855937            0            0            0   \n",
       "..           ...         ...          ...          ...          ...   \n",
       "677    50.479555  133.177551            0            1            0   \n",
       "678    84.338108  249.779628            0            0            0   \n",
       "679    93.538292  317.665823            0            0            0   \n",
       "680    54.956644  244.258388            1            0            0   \n",
       "681    69.061667  271.983648            0            1            0   \n",
       "\n",
       "     duration_48  duration_60  \n",
       "0              0            0  \n",
       "1              0            0  \n",
       "2              0            0  \n",
       "3              0            1  \n",
       "4              1            0  \n",
       "..           ...          ...  \n",
       "677            0            0  \n",
       "678            0            1  \n",
       "679            0            1  \n",
       "680            0            0  \n",
       "681            0            0  \n",
       "\n",
       "[682 rows x 12 columns]"
      ]
     },
     "execution_count": 28,
     "metadata": {},
     "output_type": "execute_result"
    }
   ],
   "source": [
    "# watch out! rookie mistake: DO NOT dummify the target variable\n",
    "X = pd.get_dummies(X)\n",
    "X"
   ]
  },
  {
   "cell_type": "code",
   "execution_count": 29,
   "metadata": {},
   "outputs": [],
   "source": [
    "X_train, X_test, y_train, y_test = train_test_split(X, y, test_size=0.2, random_state=42)"
   ]
  },
  {
   "cell_type": "code",
   "execution_count": 30,
   "metadata": {},
   "outputs": [
    {
     "name": "stderr",
     "output_type": "stream",
     "text": [
      "/Users/abhimanyumittal/venv/lib/python3.8/site-packages/sklearn/linear_model/_logistic.py:763: ConvergenceWarning: lbfgs failed to converge (status=1):\n",
      "STOP: TOTAL NO. of ITERATIONS REACHED LIMIT.\n",
      "\n",
      "Increase the number of iterations (max_iter) or scale the data as shown in:\n",
      "    https://scikit-learn.org/stable/modules/preprocessing.html\n",
      "Please also refer to the documentation for alternative solver options:\n",
      "    https://scikit-learn.org/stable/modules/linear_model.html#logistic-regression\n",
      "  n_iter_i = _check_optimize_result(\n"
     ]
    },
    {
     "data": {
      "text/plain": [
       "LogisticRegression(max_iter=10000, random_state=42)"
      ]
     },
     "execution_count": 30,
     "metadata": {},
     "output_type": "execute_result"
    }
   ],
   "source": [
    "classification = LogisticRegression(random_state=42, max_iter=10000)\n",
    "classification.fit(X_train, y_train)"
   ]
  },
  {
   "cell_type": "markdown",
   "metadata": {},
   "source": [
    "### Evaluate the model"
   ]
  },
  {
   "cell_type": "code",
   "execution_count": 31,
   "metadata": {},
   "outputs": [
    {
     "data": {
      "text/plain": [
       "0.8029197080291971"
      ]
     },
     "execution_count": 31,
     "metadata": {},
     "output_type": "execute_result"
    }
   ],
   "source": [
    "classification.score(X_test, y_test)"
   ]
  },
  {
   "cell_type": "code",
   "execution_count": 32,
   "metadata": {},
   "outputs": [
    {
     "data": {
      "text/plain": [
       "array([[30,  1, 11,  0],\n",
       "       [ 2,  3,  0,  0],\n",
       "       [ 1,  0, 74,  4],\n",
       "       [ 1,  1,  6,  3]])"
      ]
     },
     "execution_count": 32,
     "metadata": {},
     "output_type": "execute_result"
    }
   ],
   "source": [
    "predictions = classification.predict(X_test)\n",
    "confusion_matrix(y_test, predictions)"
   ]
  },
  {
   "cell_type": "code",
   "execution_count": 33,
   "metadata": {},
   "outputs": [
    {
     "data": {
      "text/plain": [
       "<AxesSubplot:>"
      ]
     },
     "execution_count": 33,
     "metadata": {},
     "output_type": "execute_result"
    },
    {
     "data": {
      "image/png": "[encoded data removed]",
      "text/plain": [
       "<Figure size 432x288 with 2 Axes>"
      ]
     },
     "metadata": {
      "needs_background": "light"
     },
     "output_type": "display_data"
    }
   ],
   "source": [
    "cf_matrix = confusion_matrix(y_test, predictions)\n",
    "group_names = ['True A', 'False A', 'False A', 'False A',\n",
    "               'False B', 'True B', 'False B', 'False B',\n",
    "               'False c', 'False C', 'True C', 'False C',\n",
    "               'False D', 'False D', 'False D', 'True D']\n",
    "\n",
    "group_counts = [\"{0:0.0f}\".format(value) for value in cf_matrix.flatten()]\n",
    "group_percentages = [\"{0:.2%}\".format(value) for value in cf_matrix.flatten()/np.sum(cf_matrix)]\n",
    "labels = [f\"{v1}\\n{v2}\\n{v3}\" for v1, v2, v3 in zip(group_names,group_counts,group_percentages)]\n",
    "labels = np.asarray(labels).reshape(4,4)\n",
    "sns.heatmap(cf_matrix, annot=labels, fmt='', cmap='Blues')"
   ]
  },
  {
   "cell_type": "code",
   "execution_count": 34,
   "metadata": {},
   "outputs": [
    {
     "data": {
      "image/png": "[encoded data removed]",
      "text/plain": [
       "<Figure size 432x288 with 2 Axes>"
      ]
     },
     "metadata": {
      "needs_background": "light"
     },
     "output_type": "display_data"
    }
   ],
   "source": [
    "from sklearn.metrics import plot_confusion_matrix\n",
    "\n",
    "plot_confusion_matrix(classification, X_test, y_test, cmap='Blues')\n",
    "plt.show()"
   ]
  },
  {
   "cell_type": "code",
   "execution_count": 39,
   "metadata": {},
   "outputs": [
    {
     "name": "stderr",
     "output_type": "stream",
     "text": [
      "/Users/abhimanyumittal/venv/lib/python3.8/site-packages/sklearn/linear_model/_logistic.py:763: ConvergenceWarning: lbfgs failed to converge (status=1):\n",
      "STOP: TOTAL NO. of ITERATIONS REACHED LIMIT.\n",
      "\n",
      "Increase the number of iterations (max_iter) or scale the data as shown in:\n",
      "    https://scikit-learn.org/stable/modules/preprocessing.html\n",
      "Please also refer to the documentation for alternative solver options:\n",
      "    https://scikit-learn.org/stable/modules/linear_model.html#logistic-regression\n",
      "  n_iter_i = _check_optimize_result(\n"
     ]
    },
    {
     "data": {
      "text/plain": [
       "0.6496350364963503"
      ]
     },
     "execution_count": 39,
     "metadata": {},
     "output_type": "execute_result"
    }
   ],
   "source": [
    "classification = LogisticRegression(random_state=42, max_iter=10000, class_weight='balanced')\n",
    "classification.fit(X_train, y_train)\n",
    "classification.score(X_test, y_test)"
   ]
  },
  {
   "cell_type": "code",
   "execution_count": 40,
   "metadata": {},
   "outputs": [
    {
     "data": {
      "text/plain": [
       "array([[28,  7,  6,  1],\n",
       "       [ 1,  4,  0,  0],\n",
       "       [ 3,  0, 51, 25],\n",
       "       [ 0,  4,  1,  6]])"
      ]
     },
     "execution_count": 40,
     "metadata": {},
     "output_type": "execute_result"
    }
   ],
   "source": [
    "predictions = classification.predict(X_test)\n",
    "confusion_matrix(y_test, predictions)"
   ]
  },
  {
   "cell_type": "code",
   "execution_count": 41,
   "metadata": {},
   "outputs": [
    {
     "data": {
      "text/plain": [
       "<AxesSubplot:>"
      ]
     },
     "execution_count": 41,
     "metadata": {},
     "output_type": "execute_result"
    },
    {
     "data": {
      "image/png": "[encoded data removed]",
      "text/plain": [
       "<Figure size 432x288 with 2 Axes>"
      ]
     },
     "metadata": {
      "needs_background": "light"
     },
     "output_type": "display_data"
    }
   ],
   "source": [
    "cf_matrix = confusion_matrix(y_test, predictions)\n",
    "group_names = ['True A', 'False A', 'False A', 'False A',\n",
    "               'False B', 'True B', 'False B', 'False B',\n",
    "               'False c', 'False C', 'True C', 'False C',\n",
    "               'False D', 'False D', 'False D', 'True D']\n",
    "\n",
    "group_counts = [\"{0:0.0f}\".format(value) for value in cf_matrix.flatten()]\n",
    "group_percentages = [\"{0:.2%}\".format(value) for value in cf_matrix.flatten()/np.sum(cf_matrix)]\n",
    "labels = [f\"{v1}\\n{v2}\\n{v3}\" for v1, v2, v3 in zip(group_names,group_counts,group_percentages)]\n",
    "labels = np.asarray(labels).reshape(4,4)\n",
    "sns.heatmap(cf_matrix, annot=labels, fmt='', cmap='Blues')"
   ]
  },
  {
   "cell_type": "code",
   "execution_count": 42,
   "metadata": {},
   "outputs": [
    {
     "data": {
      "image/png": "[encoded data removed]",
      "text/plain": [
       "<Figure size 432x288 with 2 Axes>"
      ]
     },
     "metadata": {
      "needs_background": "light"
     },
     "output_type": "display_data"
    }
   ],
   "source": [
    "from sklearn.metrics import plot_confusion_matrix\n",
    "\n",
    "plot_confusion_matrix(classification, X_test, y_test, cmap='Blues')\n",
    "plt.show()"
   ]
  },
  {
   "cell_type": "code",
   "execution_count": 53,
   "metadata": {},
   "outputs": [
    {
     "data": {
      "text/plain": [
       "{'A': 1.6798029556650247,\n",
       " 'B': 11.0,\n",
       " 'C': 0.8461538461538461,\n",
       " 'D': 7.5777777777777775}"
      ]
     },
     "execution_count": 53,
     "metadata": {},
     "output_type": "execute_result"
    }
   ],
   "source": [
    "weights"
   ]
  },
  {
   "cell_type": "code",
   "execution_count": null,
   "metadata": {},
   "outputs": [],
   "source": [
    "weights = {'A': 1.6798029556650247,\n",
    " 'B': 11.0,\n",
    " 'C': 0.8461538461538461,\n",
    " 'D': 7.5777777777777775}"
   ]
  },
  {
   "cell_type": "code",
   "execution_count": 51,
   "metadata": {},
   "outputs": [
    {
     "name": "stderr",
     "output_type": "stream",
     "text": [
      "/Users/abhimanyumittal/venv/lib/python3.8/site-packages/sklearn/linear_model/_logistic.py:763: ConvergenceWarning: lbfgs failed to converge (status=1):\n",
      "STOP: TOTAL NO. of ITERATIONS REACHED LIMIT.\n",
      "\n",
      "Increase the number of iterations (max_iter) or scale the data as shown in:\n",
      "    https://scikit-learn.org/stable/modules/preprocessing.html\n",
      "Please also refer to the documentation for alternative solver options:\n",
      "    https://scikit-learn.org/stable/modules/linear_model.html#logistic-regression\n",
      "  n_iter_i = _check_optimize_result(\n"
     ]
    },
    {
     "data": {
      "text/plain": [
       "0.6788321167883211"
      ]
     },
     "execution_count": 51,
     "metadata": {},
     "output_type": "execute_result"
    }
   ],
   "source": [
    "classification = LogisticRegression(random_state=42, max_iter=10000, class_weight=weights)\n",
    "classification.fit(X_train, y_train)\n",
    "classification.score(X_test, y_test)"
   ]
  },
  {
   "cell_type": "code",
   "execution_count": 52,
   "metadata": {},
   "outputs": [
    {
     "data": {
      "text/plain": [
       "array([[30,  7,  4,  1],\n",
       "       [ 1,  4,  0,  0],\n",
       "       [ 2,  0, 53, 24],\n",
       "       [ 0,  4,  1,  6]])"
      ]
     },
     "execution_count": 52,
     "metadata": {},
     "output_type": "execute_result"
    }
   ],
   "source": [
    "predictions = classification.predict(X_test)\n",
    "confusion_matrix(y_test, predictions)"
   ]
  },
  {
   "cell_type": "code",
   "execution_count": 49,
   "metadata": {},
   "outputs": [
    {
     "data": {
      "text/plain": [
       "<AxesSubplot:>"
      ]
     },
     "execution_count": 49,
     "metadata": {},
     "output_type": "execute_result"
    },
    {
     "data": {
      "image/png": "[encoded data removed]",
      "text/plain": [
       "<Figure size 432x288 with 2 Axes>"
      ]
     },
     "metadata": {
      "needs_background": "light"
     },
     "output_type": "display_data"
    }
   ],
   "source": [
    "cf_matrix = confusion_matrix(y_test, predictions)\n",
    "group_names = ['True A', 'False A', 'False A', 'False A',\n",
    "               'False B', 'True B', 'False B', 'False B',\n",
    "               'False c', 'False C', 'True C', 'False C',\n",
    "               'False D', 'False D', 'False D', 'True D']\n",
    "\n",
    "group_counts = [\"{0:0.0f}\".format(value) for value in cf_matrix.flatten()]\n",
    "group_percentages = [\"{0:.2%}\".format(value) for value in cf_matrix.flatten()/np.sum(cf_matrix)]\n",
    "labels = [f\"{v1}\\n{v2}\\n{v3}\" for v1, v2, v3 in zip(group_names,group_counts,group_percentages)]\n",
    "labels = np.asarray(labels).reshape(4,4)\n",
    "sns.heatmap(cf_matrix, annot=labels, fmt='', cmap='Blues')"
   ]
  },
  {
   "cell_type": "code",
   "execution_count": 50,
   "metadata": {},
   "outputs": [
    {
     "data": {
      "image/png": "[encoded data removed]",
      "text/plain": [
       "<Figure size 432x288 with 2 Axes>"
      ]
     },
     "metadata": {
      "needs_background": "light"
     },
     "output_type": "display_data"
    }
   ],
   "source": [
    "from sklearn.metrics import plot_confusion_matrix\n",
    "\n",
    "plot_confusion_matrix(classification, X_test, y_test, cmap='Blues')\n",
    "plt.show()"
   ]
  },
  {
   "cell_type": "markdown",
   "metadata": {},
   "source": [
    "Still hard to see how good the model is, considering the data imbalance..."
   ]
  },
  {
   "cell_type": "markdown",
   "metadata": {},
   "source": [
    "### Logistic Regression Metrics\n",
    "\n",
    "Concepts:\n",
    "- Sensitivity: True Positives rate = TP/(TP+FN)\n",
    "- Specificity: True Negatives rate = TN/(TN+FP)\n",
    "\n",
    "There are many metrics to aid us on evaluating our model. \n",
    "Some famous ones are:\n",
    "- Accuracy = (TP + TN)/(TP+TN+FP+FN);\n",
    "- AUC-ROC (Area Under the Curve - Receiver Operating Characteristics);\n",
    "- F1 score = 2*(precision * recall)/(precision+recall);\n",
    "- Precision = TP/(TP+FP) - when you rather be sure it is a positive;\n",
    "- Recall (sensitivity) = TP/(TP+FN) - when we want to get most positives as possible.\n",
    "\n",
    "More metrics and when to use each: [here](https://towardsdatascience.com/the-5-classification-evaluation-metrics-you-must-know-aa97784ff226)."
   ]
  },
  {
   "cell_type": "markdown",
   "metadata": {},
   "source": [
    "#### AUC-ROC"
   ]
  },
  {
   "cell_type": "markdown",
   "metadata": {},
   "source": [
    "Explains how well separated are the probabilities of the classes. Plots True Positive vs False Positive, and calculates the area under the curve: </br>\n",
    "Resource to help understand ROC-AUC curve [here](https://www.youtube.com/watch?v=4jRBRDbJemM)"
   ]
  },
  {
   "cell_type": "code",
   "execution_count": 45,
   "metadata": {},
   "outputs": [
    {
     "data": {
      "image/png": "[encoded data removed]",
      "text/plain": [
       "<Figure size 1152x720 with 1 Axes>"
      ]
     },
     "metadata": {
      "needs_background": "light"
     },
     "output_type": "display_data"
    }
   ],
   "source": [
    "# ROC curves are for binary classification, so here is a \"gambiarra\" from stackoverflow :P\n",
    "# AUC ROC measures the probabilities over the decision of the correct class,\n",
    "## so for the other metrics a wrong prediction 0.2 --> 1.0 = 0.49 --> 1.0,\n",
    "## while for AUC ROC 0.49 would be considered a smaller mistake\n",
    "from sklearn import metrics\n",
    "\n",
    "def plot_multiclass_roc(clf, X_test, y_test, n_classes, figsize=(17, 6)):\n",
    "    y_score = clf.decision_function(X_test)\n",
    "\n",
    "    # structures\n",
    "    fpr = dict()\n",
    "    tpr = dict()\n",
    "    roc_auc = dict()\n",
    "\n",
    "    # calculate dummies once\n",
    "    y_test_dummies = pd.get_dummies(y_test, drop_first=False).values\n",
    "    for i in range(n_classes):\n",
    "        fpr[i], tpr[i], _ = metrics.roc_curve(y_test_dummies[:, i], y_score[:, i])\n",
    "        roc_auc[i] = metrics.auc(fpr[i], tpr[i])\n",
    "\n",
    "    # roc for each class\n",
    "    fig, ax = plt.subplots(figsize=figsize)\n",
    "    ax.plot([0, 1], [0, 1], 'k--')\n",
    "    ax.set_xlim([0.0, 1.0])\n",
    "    ax.set_ylim([0.0, 1.05])\n",
    "    ax.set_xlabel('False Positive Rate')\n",
    "    ax.set_ylabel('True Positive Rate')\n",
    "    ax.set_title('Receiver operating characteristic example')\n",
    "    for i in range(n_classes):\n",
    "        ax.plot(fpr[i], tpr[i], label='ROC curve (area = %0.2f) for label %i' % (roc_auc[i], i))\n",
    "    ax.legend(loc=\"best\")\n",
    "    ax.grid(alpha=.4)\n",
    "    sns.despine()\n",
    "    plt.show()\n",
    "\n",
    "plot_multiclass_roc(classification, X_test, y_test, n_classes=4, figsize=(16, 10))"
   ]
  },
  {
   "cell_type": "markdown",
   "metadata": {},
   "source": [
    "#### Classification Report"
   ]
  },
  {
   "cell_type": "code",
   "execution_count": 63,
   "metadata": {},
   "outputs": [
    {
     "name": "stdout",
     "output_type": "stream",
     "text": [
      "              precision    recall  f1-score   support\n",
      "\n",
      "           A       0.86      0.71      0.78        42\n",
      "           B       0.60      0.60      0.60         5\n",
      "           C       0.82      0.94      0.88        79\n",
      "           D       0.43      0.27      0.33        11\n",
      "\n",
      "    accuracy                           0.80       137\n",
      "   macro avg       0.68      0.63      0.65       137\n",
      "weighted avg       0.79      0.80      0.79       137\n",
      "\n"
     ]
    }
   ],
   "source": [
    "print(metrics.classification_report(y_test, predictions))"
   ]
  },
  {
   "cell_type": "code",
   "execution_count": 74,
   "metadata": {
    "scrolled": true
   },
   "outputs": [
    {
     "name": "stdout",
     "output_type": "stream",
     "text": [
      "              precision    recall  f1-score   support\n",
      "\n",
      "           A       0.87      0.82      0.84        33\n",
      "           B       0.80      0.67      0.73         6\n",
      "           C       0.91      0.97      0.94        76\n",
      "           D       1.00      0.50      0.67         4\n",
      "\n",
      "    accuracy                           0.90       119\n",
      "   macro avg       0.90      0.74      0.80       119\n",
      "weighted avg       0.90      0.90      0.90       119\n",
      "\n"
     ]
    }
   ],
   "source": [
    "X_train, X_test, y_train, y_test = train_test_split(X_tl, y_tl, test_size=0.2, random_state=42)\n",
    "classification = LogisticRegression(random_state=42, max_iter=10000)\n",
    "# max_iter at least the sample size, but usually bigger\n",
    "classification.fit(X_train, y_train)\n",
    "predictions = classification.predict(X_test)\n",
    "print(metrics.classification_report(y_test, predictions))"
   ]
  },
  {
   "cell_type": "markdown",
   "metadata": {},
   "source": [
    "My 2cent: Accuracy, AUC-ROC \n",
    "and/or F1 score = ALWAYS; Precision / Recall when the case requires True Positives or True Negatives over the balance.\n",
    "    "
   ]
  },
  {
   "cell_type": "markdown",
   "metadata": {},
   "source": [
    "### Conclusions"
   ]
  },
  {
   "cell_type": "markdown",
   "metadata": {},
   "source": [
    "* How good are my predictions?\n",
    "* What am I actually predicting here? What do I want to achieve with these predictions?\n",
    "* Have I chosen my data wisely? (garbage in - garbage out)\n",
    "* Thoughts on how to improve the model?"
   ]
  }
 ],
 "metadata": {
  "kernelspec": {
   "display_name": "Python 3",
   "language": "python",
   "name": "python3"
  },
  "language_info": {
   "codemirror_mode": {
    "name": "ipython",
    "version": 3
   },
   "file_extension": ".py",
   "mimetype": "text/x-python",
   "name": "python",
   "nbconvert_exporter": "python",
   "pygments_lexer": "ipython3",
   "version": "3.8.8"
  }
 },
 "nbformat": 4,
 "nbformat_minor": 4
}
